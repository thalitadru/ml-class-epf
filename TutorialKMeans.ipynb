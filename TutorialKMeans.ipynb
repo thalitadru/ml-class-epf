{
  "nbformat": 4,
  "nbformat_minor": 0,
  "metadata": {
    "colab": {
      "name": "TutorialKMeans.ipynb",
      "provenance": [],
      "toc_visible": true,
      "authorship_tag": "ABX9TyNYaf7pRhHfoBe1jv8X/zIl",
      "include_colab_link": true
    },
    "kernelspec": {
      "name": "python3",
      "display_name": "Python 3"
    },
    "language_info": {
      "name": "python"
    }
  },
  "cells": [
    {
      "cell_type": "markdown",
      "metadata": {
        "id": "view-in-github",
        "colab_type": "text"
      },
      "source": [
        "<a href=\"https://colab.research.google.com/github/thalitadru/ml-class-epf/blob/main/TutorialKMeans.ipynb\" target=\"_parent\"><img src=\"https://colab.research.google.com/assets/colab-badge.svg\" alt=\"Open In Colab\"/></a>"
      ]
    },
    {
      "cell_type": "code",
      "metadata": {
        "id": "h13UMb-Dh9rl"
      },
      "source": [
        "import matplotlib as mpl\n",
        "import matplotlib.pyplot as plt\n",
        "import sklearn\n",
        "import numpy as np\n",
        "import pandas as pd\n",
        "import seaborn as sns\n",
        "import scipy as sp\n",
        "from scipy import stats\n"
      ],
      "execution_count": null,
      "outputs": []
    },
    {
      "cell_type": "markdown",
      "metadata": {
        "id": "wYei_pyPAMdW"
      },
      "source": [
        "## K-Means clustering demo on toy data"
      ]
    },
    {
      "cell_type": "markdown",
      "metadata": {
        "id": "xyCXZ04IAMdW"
      },
      "source": [
        "Let's start by generating some blobs:"
      ]
    },
    {
      "cell_type": "code",
      "metadata": {
        "id": "724LI3LPAMdX"
      },
      "source": [
        "from sklearn.datasets import make_blobs"
      ],
      "execution_count": null,
      "outputs": []
    },
    {
      "cell_type": "code",
      "metadata": {
        "id": "hf6k5O0DAMdX"
      },
      "source": [
        "blob_centers = np.array(\n",
        "    [[ 0.2,  2.3],\n",
        "     [-1.5 ,  2.3],\n",
        "     [-2.8,  1.8],\n",
        "     [-2.8,  2.8],\n",
        "     [-2.8,  1.3]])\n",
        "blob_std = np.array([0.4, 0.3, 0.1, 0.1, 0.1])"
      ],
      "execution_count": null,
      "outputs": []
    },
    {
      "cell_type": "code",
      "metadata": {
        "id": "Tu64_XRyAMdY"
      },
      "source": [
        "X, y = make_blobs(n_samples=2000, centers=blob_centers,\n",
        "                  cluster_std=blob_std, random_state=7)"
      ],
      "execution_count": null,
      "outputs": []
    },
    {
      "cell_type": "markdown",
      "metadata": {
        "id": "3P655-XSAMdY"
      },
      "source": [
        "Now let's plot them:"
      ]
    },
    {
      "cell_type": "code",
      "metadata": {
        "id": "w9gejNMEAMdY"
      },
      "source": [
        "def plot_clusters(X, y=None):\n",
        "    plt.scatter(X[:, 0], X[:, 1], c=y, s=1)\n",
        "    plt.xlabel(\"$x_1$\", fontsize=14)\n",
        "    plt.ylabel(\"$x_2$\", fontsize=14, rotation=0)"
      ],
      "execution_count": null,
      "outputs": []
    },
    {
      "cell_type": "code",
      "metadata": {
        "id": "OxI7DZRHAMdZ"
      },
      "source": [
        "plt.figure(figsize=(8, 4))\n",
        "plot_clusters(X)\n",
        "plt.show()"
      ],
      "execution_count": null,
      "outputs": []
    },
    {
      "cell_type": "markdown",
      "metadata": {
        "id": "04fwjNYOAMdZ"
      },
      "source": [
        "### Training k-means with scikit-learn: **Fit and predict**"
      ]
    },
    {
      "cell_type": "markdown",
      "metadata": {
        "id": "C1x_d8C5AMdZ"
      },
      "source": [
        "Let's train a K-Means clusterer on this dataset. It will try to find each blob's center and assign each instance to the closest blob:"
      ]
    },
    {
      "cell_type": "code",
      "metadata": {
        "id": "b1ZgH3ImAMdZ"
      },
      "source": [
        "from sklearn.cluster import KMeans"
      ],
      "execution_count": null,
      "outputs": []
    },
    {
      "cell_type": "code",
      "metadata": {
        "id": "3sMmsIB3AMda"
      },
      "source": [
        "k = 5\n",
        "kmeans = KMeans(n_clusters=k, random_state=42)\n",
        "y_pred = kmeans.fit_predict(X)"
      ],
      "execution_count": null,
      "outputs": []
    },
    {
      "cell_type": "markdown",
      "metadata": {
        "id": "tOdi7s9nAMda"
      },
      "source": [
        "Each instance was assigned to one of the 5 clusters:"
      ]
    },
    {
      "cell_type": "code",
      "metadata": {
        "id": "P9W9PrQ4AMda"
      },
      "source": [
        "y_pred"
      ],
      "execution_count": null,
      "outputs": []
    },
    {
      "cell_type": "markdown",
      "metadata": {
        "id": "YBBEYHe-AMdb"
      },
      "source": [
        "Besides cluster assignment, the following 5 _centroids_ (i.e., cluster centers) were estimated:"
      ]
    },
    {
      "cell_type": "code",
      "metadata": {
        "id": "qKL25Pi1AMdc"
      },
      "source": [
        "kmeans.cluster_centers_"
      ],
      "execution_count": null,
      "outputs": []
    },
    {
      "cell_type": "markdown",
      "metadata": {
        "id": "Bk0avRxeAMdc"
      },
      "source": [
        "Note that the `KMeans` instance preserves the assigned clusters of the instances it was trained on. Somewhat confusingly, in this context, they are reffered to as `labels_`:"
      ]
    },
    {
      "cell_type": "code",
      "metadata": {
        "id": "165TjZC2AMdc"
      },
      "source": [
        "kmeans.labels_"
      ],
      "execution_count": null,
      "outputs": []
    },
    {
      "cell_type": "markdown",
      "metadata": {
        "id": "T9ApgRoQUEzN"
      },
      "source": [
        "It is the same information that was returned after our call to `fit_predict(X)`:"
      ]
    },
    {
      "cell_type": "code",
      "metadata": {
        "id": "3juo2anFAMdb"
      },
      "source": [
        "y_pred is kmeans.labels_"
      ],
      "execution_count": null,
      "outputs": []
    },
    {
      "cell_type": "markdown",
      "metadata": {
        "id": "ry1UCiS8AMdd"
      },
      "source": [
        "Of course, we can predict the labels of new instances:"
      ]
    },
    {
      "cell_type": "code",
      "metadata": {
        "id": "vteQYEqqAMdd"
      },
      "source": [
        "X_new = np.array([[0, 2], [3, 2], [-3, 3], [-3, 2.5]])\n",
        "kmeans.predict(X_new)"
      ],
      "execution_count": null,
      "outputs": []
    },
    {
      "cell_type": "markdown",
      "metadata": {
        "id": "fiCrNvw9AMdd"
      },
      "source": [
        "### Visualizing cluster **Decision Boundaries**"
      ]
    },
    {
      "cell_type": "markdown",
      "metadata": {
        "id": "LoOzBiLwAMde"
      },
      "source": [
        "Let's plot the model's decision boundaries. This gives us a [_Voronoi diagram_](https://en.wikipedia.org/wiki/Voronoi_diagram):"
      ]
    },
    {
      "cell_type": "code",
      "metadata": {
        "id": "AMOQ4yYKAMde"
      },
      "source": [
        "def plot_data(X, y_pred=None):\n",
        "    if y_pred is not None:\n",
        "        plt.scatter(X[:, 0], X[:, 1], c=y_pred, cmap='Set2')\n",
        "    plt.plot(X[:, 0], X[:, 1], 'k.', markersize=2)\n",
        "\n",
        "def plot_centroids(centroids, weights=None, circle_color='w', cross_color='k'):\n",
        "    if weights is not None:\n",
        "        centroids = centroids[weights > weights.max() / 10]\n",
        "    plt.scatter(centroids[:, 0], centroids[:, 1],\n",
        "                marker='o', s=35, linewidths=8,\n",
        "                color=circle_color, zorder=10, alpha=0.9)\n",
        "    plt.scatter(centroids[:, 0], centroids[:, 1],\n",
        "                marker='x', s=2, linewidths=12,\n",
        "                color=cross_color, zorder=11, alpha=1)\n",
        "\n",
        "def plot_decision_boundaries(clusterer, X, y_pred=None, resolution=1000, show_centroids=True,\n",
        "                             show_xlabels=True, show_ylabels=True):\n",
        "    mins = X.min(axis=0) - 0.1\n",
        "    maxs = X.max(axis=0) + 0.1\n",
        "    xx, yy = np.meshgrid(np.linspace(mins[0], maxs[0], resolution),\n",
        "                         np.linspace(mins[1], maxs[1], resolution))\n",
        "    Z = clusterer.predict(np.c_[xx.ravel(), yy.ravel()])\n",
        "    Z = Z.reshape(xx.shape)\n",
        "\n",
        "    plt.contourf(Z, extent=(mins[0], maxs[0], mins[1], maxs[1]),\n",
        "                cmap=\"Pastel2\")\n",
        "    plt.contour(Z, extent=(mins[0], maxs[0], mins[1], maxs[1]),\n",
        "                linewidths=1, colors='k')\n",
        "    if y_pred is not None:\n",
        "        y_pred = clusterer.predict(X)\n",
        "    plot_data(X, y_pred)\n",
        "    if show_centroids:\n",
        "        plot_centroids(clusterer.cluster_centers_)\n",
        "\n",
        "    if show_xlabels:\n",
        "        plt.xlabel(\"$x_1$\", fontsize=14)\n",
        "    else:\n",
        "        plt.tick_params(labelbottom=False)\n",
        "    if show_ylabels:\n",
        "        plt.ylabel(\"$x_2$\", fontsize=14, rotation=0)\n",
        "    else:\n",
        "        plt.tick_params(labelleft=False)"
      ],
      "execution_count": null,
      "outputs": []
    },
    {
      "cell_type": "code",
      "metadata": {
        "id": "pjspJoWRAMde"
      },
      "source": [
        "plt.figure(figsize=(8, 4))\n",
        "plot_decision_boundaries(kmeans, X)\n",
        "plt.show()"
      ],
      "execution_count": null,
      "outputs": []
    },
    {
      "cell_type": "markdown",
      "metadata": {
        "id": "Jbr2JP2NAMdf"
      },
      "source": [
        "Not bad! Some of the instances near the edges were probably assigned to the wrong cluster, but overall it looks pretty good."
      ]
    },
    {
      "cell_type": "markdown",
      "metadata": {
        "id": "QIOfIX0tAMdf"
      },
      "source": [
        "### Cluster attribution: **Hard Clustering _vs_ Soft Clustering**"
      ]
    },
    {
      "cell_type": "markdown",
      "metadata": {
        "id": "XhRkcreZAMdf"
      },
      "source": [
        "Rather than arbitrarily choosing the closest cluster for each instance, which is called _hard clustering_, it might be better measure the distance of each instance to all 5 centroids. This is what the `transform()` method does:"
      ]
    },
    {
      "cell_type": "code",
      "metadata": {
        "id": "EZCa2BipAMdf"
      },
      "source": [
        "kmeans.transform(X_new)"
      ],
      "execution_count": null,
      "outputs": []
    },
    {
      "cell_type": "markdown",
      "metadata": {
        "id": "T8BtGVGAAMdg"
      },
      "source": [
        "You can verify that this is indeed the Euclidian distance between each instance and each centroid:"
      ]
    },
    {
      "cell_type": "code",
      "metadata": {
        "id": "tPTBW8WcAMdg"
      },
      "source": [
        "np.linalg.norm(np.tile(X_new, (1, k)).reshape(-1, k, 2) - kmeans.cluster_centers_, axis=2)"
      ],
      "execution_count": null,
      "outputs": []
    },
    {
      "cell_type": "markdown",
      "metadata": {
        "id": "K6aZ8V4gfR1j"
      },
      "source": [
        "This method is used when doing **dimensionality reduction** based on the computed clustering."
      ]
    },
    {
      "cell_type": "markdown",
      "metadata": {
        "id": "ZqduFa7ZAMdg"
      },
      "source": [
        "## The K-Means Algorithm"
      ]
    },
    {
      "cell_type": "markdown",
      "metadata": {
        "id": "Xb8kPGGWAMdg"
      },
      "source": [
        "The K-Means algorithm is one of the fastest clustering algorithms, and also one of the simplest:\n",
        "* First initialize $k$ centroids randomly: $k$ distinct instances are chosen randomly from the dataset and the centroids are placed at their locations.\n",
        "* Repeat until convergence (i.e., until the centroids stop moving):\n",
        "    * Assign each instance to the closest centroid.\n",
        "    * Update the centroids to be the mean of the instances that are assigned to them."
      ]
    },
    {
      "cell_type": "markdown",
      "metadata": {
        "id": "ogA_UM4PAMdh"
      },
      "source": [
        "The `KMeans` class applies an optimized algorithm by default. To get the original K-Means algorithm (for educational purposes only), you must set `init=\"random\"`, `n_init=1`and `algorithm=\"full\"`. These hyperparameters will be explained below."
      ]
    },
    {
      "cell_type": "markdown",
      "metadata": {
        "id": "SZhCr7YXAMdh"
      },
      "source": [
        "Let's run the K-Means algorithm for 1, 2 and 3 iterations, to see how the centroids move around:"
      ]
    },
    {
      "cell_type": "code",
      "metadata": {
        "id": "ULFBbJU7AMdh"
      },
      "source": [
        "kmeans_iter1 = KMeans(n_clusters=5, init=\"random\", n_init=1,\n",
        "                     algorithm=\"full\", max_iter=1, random_state=0)\n",
        "kmeans_iter2 = KMeans(n_clusters=5, init=\"random\", n_init=1,\n",
        "                     algorithm=\"full\", max_iter=2, random_state=0)\n",
        "kmeans_iter3 = KMeans(n_clusters=5, init=\"random\", n_init=1,\n",
        "                     algorithm=\"full\", max_iter=3, random_state=0)\n",
        "kmeans_iter1.fit(X)\n",
        "kmeans_iter2.fit(X)\n",
        "kmeans_iter3.fit(X)"
      ],
      "execution_count": null,
      "outputs": []
    },
    {
      "cell_type": "markdown",
      "metadata": {
        "id": "2fqmoTjlAMdh"
      },
      "source": [
        "And let's plot this:"
      ]
    },
    {
      "cell_type": "code",
      "metadata": {
        "id": "bXnYiq9iAMdi"
      },
      "source": [
        "plt.figure(figsize=(10, 8))\n",
        "\n",
        "plt.subplot(321)\n",
        "plot_data(X)\n",
        "plot_centroids(kmeans_iter1.cluster_centers_, circle_color='r', cross_color='w')\n",
        "plt.ylabel(\"$x_2$\", fontsize=14, rotation=0)\n",
        "plt.tick_params(labelbottom=False)\n",
        "plt.title(\"Update the centroids (initially randomly)\", fontsize=14)\n",
        "\n",
        "plt.subplot(322)\n",
        "plot_decision_boundaries(kmeans_iter1, X, show_xlabels=False, show_ylabels=False)\n",
        "plt.title(\"Label the instances\", fontsize=14)\n",
        "\n",
        "plt.subplot(323)\n",
        "plot_decision_boundaries(kmeans_iter1, X, show_centroids=False, show_xlabels=False)\n",
        "plot_centroids(kmeans_iter2.cluster_centers_)\n",
        "\n",
        "plt.subplot(324)\n",
        "plot_decision_boundaries(kmeans_iter2, X, show_xlabels=False, show_ylabels=False)\n",
        "\n",
        "plt.subplot(325)\n",
        "plot_decision_boundaries(kmeans_iter2, X, show_centroids=False)\n",
        "plot_centroids(kmeans_iter3.cluster_centers_)\n",
        "\n",
        "plt.subplot(326)\n",
        "plot_decision_boundaries(kmeans_iter3, X, show_ylabels=False)\n",
        "\n",
        "plt.show()"
      ],
      "execution_count": null,
      "outputs": []
    },
    {
      "cell_type": "markdown",
      "metadata": {
        "id": "Pp4DyPkVORTL"
      },
      "source": [
        "### K-Means variability to initial centroid positions"
      ]
    },
    {
      "cell_type": "markdown",
      "metadata": {
        "id": "i93ySS70ORTM"
      },
      "source": [
        "In the original K-Means algorithm, the centroids are just initialized randomly, and the algorithm simply runs a single iteration to gradually improve the centroids, as we saw above.\n",
        "\n",
        "However, one major problem with this approach is that if you run K-Means multiple times (or with different random seeds), it can converge to very different solutions, as you can see below:"
      ]
    },
    {
      "cell_type": "code",
      "metadata": {
        "id": "YXDHmMNlORTN"
      },
      "source": [
        "def plot_clusterer_comparison(clusterer1, clusterer2, X, title1=None, title2=None):\n",
        "    clusterer1.fit(X)\n",
        "    clusterer2.fit(X)\n",
        "\n",
        "    plt.figure(figsize=(10, 3.2))\n",
        "\n",
        "    plt.subplot(121)\n",
        "    plot_decision_boundaries(clusterer1, X)\n",
        "    if title1:\n",
        "        plt.title(title1, fontsize=14)\n",
        "\n",
        "    plt.subplot(122)\n",
        "    plot_decision_boundaries(clusterer2, X, show_ylabels=False)\n",
        "    if title2:\n",
        "        plt.title(title2, fontsize=14)"
      ],
      "execution_count": null,
      "outputs": []
    },
    {
      "cell_type": "code",
      "metadata": {
        "id": "JUWvmci2ORTN"
      },
      "source": [
        "kmeans_rnd_init1 = KMeans(n_clusters=5, init=\"random\", n_init=1,\n",
        "                         algorithm=\"full\", random_state=2)\n",
        "kmeans_rnd_init2 = KMeans(n_clusters=5, init=\"random\", n_init=1,\n",
        "                         algorithm=\"full\", random_state=5)\n",
        "\n",
        "plot_clusterer_comparison(kmeans_rnd_init1, kmeans_rnd_init2, X,\n",
        "                          \"Solution 1\", \"Solution 2 (with a different random init)\")\n",
        "\n",
        "plt.show()"
      ],
      "execution_count": null,
      "outputs": []
    },
    {
      "cell_type": "markdown",
      "metadata": {
        "id": "wjcdUK9xAMdj"
      },
      "source": [
        "### Inertia metric"
      ]
    },
    {
      "cell_type": "markdown",
      "metadata": {
        "id": "AgOkRDw2AMdj"
      },
      "source": [
        "To select the best model, we will need a way to evaluate a K-Mean model's performance. Unfortunately, clustering is an unsupervised task, so we do not have the targets. But at least we can measure the distance between each instance and its centroid. This is the idea behind the _inertia_ metric:"
      ]
    },
    {
      "cell_type": "code",
      "metadata": {
        "id": "8Fur-DfHAMdk"
      },
      "source": [
        "kmeans.inertia_"
      ],
      "execution_count": null,
      "outputs": []
    },
    {
      "cell_type": "markdown",
      "metadata": {
        "id": "b_UfzLErAMdk"
      },
      "source": [
        "As you can easily verify, inertia is the sum of the squared distances between each training instance and its closest centroid:"
      ]
    },
    {
      "cell_type": "code",
      "metadata": {
        "id": "jQB98JQOAMdk"
      },
      "source": [
        "X_dist = kmeans.transform(X)\n",
        "np.sum(X_dist[np.arange(len(X_dist)), kmeans.labels_]**2)"
      ],
      "execution_count": null,
      "outputs": []
    },
    {
      "cell_type": "markdown",
      "metadata": {
        "id": "SLivsewLAMdk"
      },
      "source": [
        "The `score()` method returns the negative inertia. Why negative? Well, it is because a predictor's `score()` method must always respect the \"_greater is better_\" rule."
      ]
    },
    {
      "cell_type": "code",
      "metadata": {
        "id": "hftHenwHAMdl"
      },
      "source": [
        "kmeans.score(X)"
      ],
      "execution_count": null,
      "outputs": []
    },
    {
      "cell_type": "markdown",
      "metadata": {
        "id": "NpF1Mh4qAMdl"
      },
      "source": [
        "### Multiple Initializations"
      ]
    },
    {
      "cell_type": "markdown",
      "metadata": {
        "id": "EHBBO7O_AMdl"
      },
      "source": [
        "So one approach to solve the variability issue is to simply run the K-Means algorithm multiple times with different random initializations, and select the solution that minimizes the inertia. For example, here are the inertias of the two \"bad\" models shown in the previous figure:"
      ]
    },
    {
      "cell_type": "code",
      "metadata": {
        "id": "WiPmBDzpAMdl"
      },
      "source": [
        "kmeans_rnd_init1.inertia_"
      ],
      "execution_count": null,
      "outputs": []
    },
    {
      "cell_type": "code",
      "metadata": {
        "id": "Z-0KOCKKAMdm"
      },
      "source": [
        "kmeans_rnd_init2.inertia_"
      ],
      "execution_count": null,
      "outputs": []
    },
    {
      "cell_type": "markdown",
      "metadata": {
        "id": "Cd-IfPFeAMdm"
      },
      "source": [
        "As you can see, they have a higher inertia than the first \"good\" model we trained, which means they are probably worse."
      ]
    },
    {
      "cell_type": "markdown",
      "metadata": {
        "id": "7dkekfRZAMdm"
      },
      "source": [
        "When you set the `n_init` hyperparameter, Scikit-Learn runs the original algorithm `n_init` times, and selects the solution that minimizes the inertia. By default, Scikit-Learn sets `n_init=10`."
      ]
    },
    {
      "cell_type": "code",
      "metadata": {
        "id": "YLI_HBznAMdm"
      },
      "source": [
        "kmeans_rnd_10_inits = KMeans(n_clusters=5, init=\"random\", n_init=10,\n",
        "                              algorithm=\"full\", random_state=2)\n",
        "kmeans_rnd_10_inits.fit(X)"
      ],
      "execution_count": null,
      "outputs": []
    },
    {
      "cell_type": "markdown",
      "metadata": {
        "id": "9eMYDyAvAMdn"
      },
      "source": [
        "As you can see, we end up with the initial model, which is certainly the optimal K-Means solution (at least in terms of inertia, and assuming $k=5$)."
      ]
    },
    {
      "cell_type": "code",
      "metadata": {
        "id": "1eV-EhsMAMdn"
      },
      "source": [
        "plt.figure(figsize=(8, 4))\n",
        "plot_decision_boundaries(kmeans_rnd_10_inits, X)\n",
        "plt.show()"
      ],
      "execution_count": null,
      "outputs": []
    },
    {
      "cell_type": "markdown",
      "metadata": {
        "id": "9wQaMvzQAMdn"
      },
      "source": [
        "### Centroid initialization methods"
      ]
    },
    {
      "cell_type": "markdown",
      "metadata": {
        "id": "DvR9-JDsAMdn"
      },
      "source": [
        "Instead of initializing the centroids entirely randomly, it is preferable to initialize them using the following algorithm, proposed in a [2006 paper](https://goo.gl/eNUPw6) by David Arthur and Sergei Vassilvitskii:\n",
        "* Take one centroid $c_1$, chosen uniformly at random from the dataset.\n",
        "* Take a new center $c_i$, choosing an instance $\\mathbf{x}_i$ with probability: $D(\\mathbf{x}_i)^2$ / $\\sum\\limits_{j=1}^{m}{D(\\mathbf{x}_j)}^2$ where $D(\\mathbf{x}_i)$ is the distance between the instance $\\mathbf{x}_i$ and the closest centroid that was already chosen. This probability distribution ensures that instances that are further away from already chosen centroids are much more likely be selected as centroids.\n",
        "* Repeat the previous step until all $k$ centroids have been chosen.\n"
      ]
    },
    {
      "cell_type": "markdown",
      "metadata": {
        "id": "K6_XiCEBAMdn"
      },
      "source": [
        "This method is know as the K-means++.\n",
        "The rest of the K-Means++ algorithm is just regular K-Means. With this initialization, the K-Means algorithm is much less likely to converge to a suboptimal solution, so it is possible to reduce `n_init` considerably. Most of the time, this largely compensates for the additional complexity of the initialization process."
      ]
    },
    {
      "cell_type": "markdown",
      "metadata": {
        "id": "HWCyBakuAMdo"
      },
      "source": [
        "To set the initialization to K-Means++, simply set `init=\"k-means++\"` (this is actually the default):"
      ]
    },
    {
      "cell_type": "code",
      "metadata": {
        "id": "j17-FElgAMdo"
      },
      "source": [
        "KMeans()"
      ],
      "execution_count": null,
      "outputs": []
    },
    {
      "cell_type": "markdown",
      "metadata": {
        "id": "gUJP1uczQ9k8"
      },
      "source": [
        "#### Explicit initialization\n",
        "If you happen to know more or less where the cluster centers should lie, you can informer cluster coordinates directly using the `init` argument."
      ]
    },
    {
      "cell_type": "code",
      "metadata": {
        "id": "ZwuRBCm2AMdo"
      },
      "source": [
        "good_init = np.array([[-3, 3], [-3, 2], [-3, 1], [-1, 2], [0, 2]])\n",
        "kmeans = KMeans(n_clusters=5, init=good_init, n_init=1, random_state=42)\n",
        "kmeans.fit(X)\n",
        "kmeans.inertia_"
      ],
      "execution_count": null,
      "outputs": []
    },
    {
      "cell_type": "markdown",
      "metadata": {
        "id": "dBkXWscxAMd0"
      },
      "source": [
        "### Finding the optimal number of clusters"
      ]
    },
    {
      "cell_type": "markdown",
      "metadata": {
        "id": "by_3OR0bAMd0"
      },
      "source": [
        "\n",
        "What if the number of clusters was set to a lower or greater value than 5?"
      ]
    },
    {
      "cell_type": "code",
      "metadata": {
        "id": "EEkO-8RtAMd1"
      },
      "source": [
        "kmeans_k3 = KMeans(n_clusters=3, random_state=42)\n",
        "kmeans_k8 = KMeans(n_clusters=8, random_state=42)\n",
        "\n",
        "plot_clusterer_comparison(kmeans_k3, kmeans_k8, X, \"$k=3$\", \"$k=8$\")\n",
        "\n",
        "plt.show()"
      ],
      "execution_count": null,
      "outputs": []
    },
    {
      "cell_type": "markdown",
      "metadata": {
        "id": "4nG8ns4qAMd1"
      },
      "source": [
        "Ouch, these two models don't look great. What about their inertias?"
      ]
    },
    {
      "cell_type": "code",
      "metadata": {
        "id": "RDIRPgGbAMd1"
      },
      "source": [
        "kmeans_k3.inertia_"
      ],
      "execution_count": null,
      "outputs": []
    },
    {
      "cell_type": "code",
      "metadata": {
        "id": "sS3ot4lJAMd1"
      },
      "source": [
        "kmeans_k8.inertia_"
      ],
      "execution_count": null,
      "outputs": []
    },
    {
      "cell_type": "markdown",
      "metadata": {
        "id": "4i78VQcHAMd2"
      },
      "source": [
        "No, we cannot simply take the value of $k$ that minimizes the inertia, since it keeps getting lower as we increase $k$. Indeed, the more clusters there are, the closer each instance will be to its closest centroid, and therefore the lower the inertia will be. \n",
        "\n"
      ]
    },
    {
      "cell_type": "markdown",
      "metadata": {
        "id": "JcOTg-HmgNWF"
      },
      "source": [
        "#### Elbow method\n",
        "One thing we can do, however, is to plot the inertia as a function of $k$ and analyze the resulting curve:"
      ]
    },
    {
      "cell_type": "code",
      "metadata": {
        "id": "qhDcEfQtAMd2"
      },
      "source": [
        "kmeans_per_k = [KMeans(n_clusters=k, random_state=42).fit(X)\n",
        "                for k in range(1, 10)]\n",
        "inertias = [model.inertia_ for model in kmeans_per_k]"
      ],
      "execution_count": null,
      "outputs": []
    },
    {
      "cell_type": "code",
      "metadata": {
        "id": "E42lyjtSAMd3"
      },
      "source": [
        "plt.figure(figsize=(8, 3.5))\n",
        "plt.plot(range(1, 10), inertias, \"bo-\")\n",
        "plt.xlabel(\"$k$\", fontsize=14)\n",
        "plt.ylabel(\"Inertia\", fontsize=14)\n",
        "plt.annotate('Elbow',\n",
        "             xy=(4, inertias[3]),\n",
        "             xytext=(0.55, 0.55),\n",
        "             textcoords='figure fraction',\n",
        "             fontsize=16,\n",
        "             arrowprops=dict(facecolor='black', shrink=0.1)\n",
        "            )\n",
        "plt.axis([1, 8.5, 0, 1300])\n",
        "plt.show()"
      ],
      "execution_count": null,
      "outputs": []
    },
    {
      "cell_type": "markdown",
      "metadata": {
        "id": "uNIqXNvIAMd3"
      },
      "source": [
        "As you can see, there is an \"elbow\" at $k=4$, which means that less clusters than that would be bad, and more clusters would not help much and might cut clusters in half. So $k=4$ is a pretty good choice. This K selection heuristic is commonly known as the **elbow method**.\n",
        "\n",
        "Of course in this example it is not perfect since it means that the two blobs in the lower left will be considered as just a single cluster, but it's a pretty good clustering nonetheless."
      ]
    },
    {
      "cell_type": "code",
      "metadata": {
        "id": "QlUJ8q_tAMd3"
      },
      "source": [
        "plot_decision_boundaries(kmeans_per_k[4-1], X)\n",
        "plt.show()"
      ],
      "execution_count": null,
      "outputs": []
    },
    {
      "cell_type": "markdown",
      "metadata": {
        "id": "7cSa5UBeAMd3"
      },
      "source": [
        "#### Silhouette analysis\n",
        "Another approach is to look at the _silhouette score_, which is the mean _silhouette coefficient_ over all the instances. \n",
        "An instance's **silhouette coefficient** is equal to \n",
        "$$(b - a)/\\max(a, b)$$\n",
        " where\n",
        " - $a$ is the mean distance to the other instances in the same cluster (it is the _mean intra-cluster distance_), \n",
        " and \n",
        " - $b$ is the _mean nearest-cluster distance_, that is the mean distance to the instances of the next closest cluster (defined as the one that minimizes $b$, excluding the instance's own cluster). \n",
        "\n",
        "The silhouette coefficient can vary between -1 and +1: \n",
        "- a coefficient **close to +1** means that the instance is **well inside its own cluster and far from other clusters**\n",
        "- a coefficient **close to 0** means that it is close to a **cluster boundary**, \n",
        "- a coefficient **close to -1** means that the instance **may have been assigned to the wrong cluster**."
      ]
    },
    {
      "cell_type": "markdown",
      "metadata": {
        "id": "A2pRw23OAMd4"
      },
      "source": [
        "Let's plot the silhouette score as a function of $k$:"
      ]
    },
    {
      "cell_type": "code",
      "metadata": {
        "id": "A7e-KxmaAMd4"
      },
      "source": [
        "from sklearn.metrics import silhouette_score"
      ],
      "execution_count": null,
      "outputs": []
    },
    {
      "cell_type": "code",
      "metadata": {
        "id": "TZv3KcIfAMd4"
      },
      "source": [
        "silhouette_score(X, kmeans.labels_)"
      ],
      "execution_count": null,
      "outputs": []
    },
    {
      "cell_type": "code",
      "metadata": {
        "id": "lmBEe_OAAMd4"
      },
      "source": [
        "silhouette_scores = [silhouette_score(X, model.labels_)\n",
        "                     for model in kmeans_per_k[1:]]"
      ],
      "execution_count": null,
      "outputs": []
    },
    {
      "cell_type": "code",
      "metadata": {
        "id": "KzYHelPzAMd5"
      },
      "source": [
        "plt.figure(figsize=(8, 3))\n",
        "plt.plot(range(2, 10), silhouette_scores, \"bo-\")\n",
        "plt.xlabel(\"$k$\", fontsize=14)\n",
        "plt.ylabel(\"Silhouette score\", fontsize=14)\n",
        "plt.axis([1.8, 8.5, 0.55, 0.7])\n",
        "plt.show()"
      ],
      "execution_count": null,
      "outputs": []
    },
    {
      "cell_type": "markdown",
      "metadata": {
        "id": "gmn5tzadAMd5"
      },
      "source": [
        "As you can see, this visualization is much richer than the previous one: in particular, although it confirms that $k=4$ is a very good choice, but it also underlines the fact that $k=5$ is quite good as well."
      ]
    },
    {
      "cell_type": "markdown",
      "metadata": {
        "id": "4E-g6xiJAMd5"
      },
      "source": [
        "An even more informative visualization is given when you plot every instance's silhouette coefficient, sorted by the cluster they are assigned to and by the value of the coefficient. This is called a _silhouette diagram_:"
      ]
    },
    {
      "cell_type": "code",
      "metadata": {
        "id": "3WnsR5dIAMd5"
      },
      "source": [
        "from sklearn.metrics import silhouette_samples\n",
        "from matplotlib.ticker import FixedLocator, FixedFormatter\n",
        "\n",
        "plt.figure(figsize=(11, 9))\n",
        "\n",
        "for k in (3, 4, 5, 6):\n",
        "    plt.subplot(2, 2, k - 2)\n",
        "    \n",
        "    y_pred = kmeans_per_k[k - 1].labels_\n",
        "    silhouette_coefficients = silhouette_samples(X, y_pred)\n",
        "\n",
        "    padding = len(X) // 30\n",
        "    pos = padding\n",
        "    ticks = []\n",
        "    for i in range(k):\n",
        "        coeffs = silhouette_coefficients[y_pred == i]\n",
        "        coeffs.sort()\n",
        "\n",
        "        color = mpl.cm.Spectral(i / k)\n",
        "        plt.fill_betweenx(np.arange(pos, pos + len(coeffs)), 0, coeffs,\n",
        "                          facecolor=color, edgecolor=color, alpha=0.7)\n",
        "        ticks.append(pos + len(coeffs) // 2)\n",
        "        pos += len(coeffs) + padding\n",
        "\n",
        "    plt.gca().yaxis.set_major_locator(FixedLocator(ticks))\n",
        "    plt.gca().yaxis.set_major_formatter(FixedFormatter(range(k)))\n",
        "    if k in (3, 5):\n",
        "        plt.ylabel(\"Cluster\")\n",
        "    \n",
        "    if k in (5, 6):\n",
        "        plt.gca().set_xticks([-0.1, 0, 0.2, 0.4, 0.6, 0.8, 1])\n",
        "        plt.xlabel(\"Silhouette Coefficient\")\n",
        "    else:\n",
        "        plt.tick_params(labelbottom=False)\n",
        "\n",
        "    plt.axvline(x=silhouette_scores[k - 2], color=\"red\", linestyle=\"--\")\n",
        "    plt.title(\"$k={}$\".format(k), fontsize=16)\n",
        "\n",
        "plt.show()"
      ],
      "execution_count": null,
      "outputs": []
    },
    {
      "cell_type": "markdown",
      "metadata": {
        "id": "L4-QU3avAMd6"
      },
      "source": [
        "In these diagrams, you ideally want all your clusters to have positive scores. Aditionally you would like to avoid small clusters with sillhouette scores bellow the dashed line, which respresents the mean silhouette score.\n",
        "\n",
        "As you can see, $k=5$ looks like the best option here, as all clusters are roughly the same size, and they all cross the mean silhouette score line."
      ]
    },
    {
      "cell_type": "markdown",
      "metadata": {
        "id": "Pm890jRYAMd6"
      },
      "source": [
        "# Limits of K-Means\n"
      ]
    },
    {
      "cell_type": "markdown",
      "metadata": {
        "id": "1PA0fbcXZjjt"
      },
      "source": [
        "## Non-isotropic data\n",
        "K-means makes some assumptions about the shape of clusters in data. Namely, it assumes points in a cluster are contained withing a sphere centered at the cluster centroid.\n",
        "This type of data is said to be **isotropic** (meaning following a normal distribution with equal variance in all directions)\n",
        "\n",
        "Here is an example mixing points from isotropical and non-isotropical distributions:"
      ]
    },
    {
      "cell_type": "code",
      "metadata": {
        "id": "xOV-xmdUAMd7"
      },
      "source": [
        "X1, y1 = make_blobs(n_samples=1000, centers=((4, -4), (0, 0)), random_state=42)\n",
        "X1 = X1.dot(np.array([[0.374, 0.95], [0.732, 0.598]]))\n",
        "X2, y2 = make_blobs(n_samples=250, centers=1, random_state=42)\n",
        "X2 = X2 + [6, -8]\n",
        "X = np.r_[X1, X2]\n",
        "y = np.r_[y1, y2]"
      ],
      "execution_count": null,
      "outputs": []
    },
    {
      "cell_type": "code",
      "metadata": {
        "id": "Tkxvs8kMAMd7"
      },
      "source": [
        "plot_clusters(X)"
      ],
      "execution_count": null,
      "outputs": []
    },
    {
      "cell_type": "markdown",
      "metadata": {
        "id": "rZEfMkKERS8f"
      },
      "source": [
        "Now let's try and fit two k-means models with 3 clusters to this data. One model is going to be initilized very carefully, with centroids close to each cluster center.\n",
        "The other one is going to use the default initialization (namely k-means++)."
      ]
    },
    {
      "cell_type": "code",
      "metadata": {
        "id": "Psr0REHeAMd7"
      },
      "source": [
        "kmeans_good = KMeans(n_clusters=3, init=np.array([[-1.5, 2.5], [0.5, 0], [4, 0]]), n_init=1, random_state=42)\n",
        "kmeans_bad = KMeans(n_clusters=3, random_state=42)\n",
        "kmeans_good.fit(X)\n",
        "kmeans_bad.fit(X)"
      ],
      "execution_count": null,
      "outputs": []
    },
    {
      "cell_type": "markdown",
      "metadata": {
        "id": "1WFEOd-1Raf4"
      },
      "source": [
        "See in the plot bellow how k-means can fail to model the 2 non-isotropic clusters depending on the initial position of the cluster centroids."
      ]
    },
    {
      "cell_type": "code",
      "metadata": {
        "id": "aK668GxaAMd8"
      },
      "source": [
        "plt.figure(figsize=(10, 3.2))\n",
        "\n",
        "plt.subplot(121)\n",
        "plot_decision_boundaries(kmeans_good, X)\n",
        "plt.title(\"Inertia = {:.1f}\".format(kmeans_good.inertia_), fontsize=14)\n",
        "\n",
        "plt.subplot(122)\n",
        "plot_decision_boundaries(kmeans_bad, X, show_ylabels=False)\n",
        "plt.title(\"Inertia = {:.1f}\".format(kmeans_bad.inertia_), fontsize=14)\n",
        "\n",
        "plt.show()"
      ],
      "execution_count": null,
      "outputs": []
    },
    {
      "cell_type": "markdown",
      "metadata": {
        "id": "d1JgmdlCpPWG"
      },
      "source": [
        "## Incorrect number of clusters\n",
        "\n",
        "As you might have noticed, clustering results can be totaly inapropriate if we pick an unsutable value for the number of clusters K:"
      ]
    },
    {
      "cell_type": "code",
      "metadata": {
        "id": "ESB9NjSypT4G"
      },
      "source": [
        "n_samples = 1500\n",
        "random_state = 170\n",
        "X, y = make_blobs(n_samples=n_samples, random_state=random_state)\n",
        "\n",
        "# Incorrect number of clusters\n",
        "kmeans = KMeans(n_clusters=2, random_state=random_state).fit(X)\n",
        "\n",
        "plot_decision_boundaries(kmeans, X, y_pred=True)\n",
        "\n",
        "plt.title(\"Incorrect Number of Blobs\")"
      ],
      "execution_count": null,
      "outputs": []
    },
    {
      "cell_type": "markdown",
      "metadata": {
        "id": "ho0EALwZV9k0"
      },
      "source": [
        "## Un-even size or density(variance)\n",
        "K-means does note handle well un-evenly sized clusters nor clusters with different densities.\n",
        "\n",
        "If cluster size and densities are too un-even, k-means may push boundaries into the largest clusters or even assign more than one centroid to it.\n",
        "\n",
        "Here is an example of clusters having the same centers, but with unequal variance (left) or uneven sizes(right):\n"
      ]
    },
    {
      "cell_type": "code",
      "metadata": {
        "id": "KGVQe-XGpowk"
      },
      "source": [
        "plt.figure(figsize=(10,4))\n",
        "X_varied, y_varied = make_blobs(\n",
        "    n_samples=n_samples, cluster_std=[1.0, 2.5, 0.5], random_state=random_state\n",
        ")\n",
        "kmeans = KMeans(n_clusters=3, random_state=random_state).fit(X_varied)\n",
        "\n",
        "plt.subplot(1,2,1)\n",
        "plot_decision_boundaries(kmeans, X_varied, y_pred=True)\n",
        "\n",
        "plt.title(\"Unequal Variance\")\n",
        "\n",
        "# Unevenly sized blobs\n",
        "X_filtered = np.vstack((X[y == 0][:500], X[y == 1][:100], X[y == 2][:10]))\n",
        "\n",
        "kmeans = KMeans(n_clusters=3, random_state=random_state).fit(X_filtered)\n",
        "plt.subplot(1,2,2)\n",
        "plot_decision_boundaries(kmeans, X_filtered, y_pred=True)\n",
        "plt.title(\"Unevenly Sized Blobs\")\n",
        "\n",
        "plt.show()"
      ],
      "execution_count": null,
      "outputs": []
    },
    {
      "cell_type": "markdown",
      "metadata": {
        "id": "M7gwKGwjpzn4"
      },
      "source": [
        "\n",
        "Bellow is an example that combines unequal variance and un-even sizes on the same case. Again, clusters in both cases have the same centers."
      ]
    },
    {
      "cell_type": "code",
      "metadata": {
        "id": "gfychhYOWZN0"
      },
      "source": [
        "X1, y1 = make_blobs(n_samples=50, centers=((4, -4), (-1, -1)), cluster_std=0.5, random_state=42)\n",
        "X2, y2 = make_blobs(n_samples=1000, centers=1, random_state=42)\n",
        "X2 = X2 + [6, -8]\n",
        "X_uneven = np.r_[X1, X2]\n",
        "y_uneven = np.r_[y1, y2]"
      ],
      "execution_count": null,
      "outputs": []
    },
    {
      "cell_type": "code",
      "metadata": {
        "id": "NWfuhRVWY5WL"
      },
      "source": [
        "X1, y1 = make_blobs(n_samples=1000, centers=((4, -4), (-1, -1)), random_state=42)\n",
        "X2, y2 = make_blobs(n_samples=1000, centers=1, random_state=42)\n",
        "X2 = X2 + [6, -8]\n",
        "X_even = np.r_[X1, X2]\n",
        "y_even = np.r_[y1, y2]"
      ],
      "execution_count": null,
      "outputs": []
    },
    {
      "cell_type": "code",
      "metadata": {
        "id": "p3i57SCaYJHk"
      },
      "source": [
        "kmeans_even = KMeans(n_clusters=3, random_state=42).fit(X_even)\n",
        "kmeans_uneven = KMeans(n_clusters=3, random_state=42).fit(X_uneven)"
      ],
      "execution_count": null,
      "outputs": []
    },
    {
      "cell_type": "code",
      "metadata": {
        "id": "G4RNKON0YQA5"
      },
      "source": [
        "plt.figure(figsize=(10, 3.2))\n",
        "\n",
        "plt.subplot(121)\n",
        "plot_decision_boundaries(kmeans_even, X_even, y_pred=True)\n",
        "plt.title(\"Inertia = {:.1f}\".format(kmeans_even.inertia_), fontsize=14)\n",
        "\n",
        "plt.subplot(122)\n",
        "plot_decision_boundaries(kmeans_uneven, X_uneven, y_pred=True, show_ylabels=False)\n",
        "plt.title(\"Inertia = {:.1f}\".format(kmeans_uneven.inertia_), fontsize=14)\n",
        "\n",
        "plt.show()"
      ],
      "execution_count": null,
      "outputs": []
    },
    {
      "cell_type": "markdown",
      "metadata": {
        "id": "Vm4W5jEtPVX3"
      },
      "source": [
        "# Scaling k-means to large datasets"
      ]
    },
    {
      "cell_type": "markdown",
      "metadata": {
        "id": "ittTdsFdAMdo"
      },
      "source": [
        "## Accelerated K-Means"
      ]
    },
    {
      "cell_type": "markdown",
      "metadata": {
        "id": "V4WBUnIhAMdp"
      },
      "source": [
        "The K-Means algorithm can be significantly accelerated by avoiding many unnecessary distance calculations: this is achieved by exploiting the triangle inequality (given three points A, B and C, the distance AC is always such that AC ≤ AB + BC) and by keeping track of lower and upper bounds for distances between instances and centroids (see this [2003 paper](https://www.aaai.org/Papers/ICML/2003/ICML03-022.pdf) by Charles Elkan for more details)."
      ]
    },
    {
      "cell_type": "markdown",
      "metadata": {
        "id": "7si12lHqAMdp"
      },
      "source": [
        "To use Elkan's variant of K-Means, just set `algorithm=\"elkan\"`. Note that it does not support sparse data, so by default, Scikit-Learn uses `\"elkan\"` for dense data, and `\"full\"` (the regular K-Means algorithm) for sparse data."
      ]
    },
    {
      "cell_type": "code",
      "metadata": {
        "id": "1-JY9BarAMdp"
      },
      "source": [
        "%timeit -n 50 KMeans(algorithm=\"elkan\", random_state=42).fit(X)"
      ],
      "execution_count": null,
      "outputs": []
    },
    {
      "cell_type": "code",
      "metadata": {
        "scrolled": true,
        "id": "VOnhwsS3AMdp"
      },
      "source": [
        "%timeit -n 50 KMeans(algorithm=\"full\", random_state=42).fit(X)"
      ],
      "execution_count": null,
      "outputs": []
    },
    {
      "cell_type": "markdown",
      "metadata": {
        "id": "zB-19kRMAMdq"
      },
      "source": [
        "There's no big difference in this case, as the dataset is fairly small."
      ]
    },
    {
      "cell_type": "markdown",
      "metadata": {
        "id": "NwZn1N5vAMdq"
      },
      "source": [
        "## Handling large datasets with mini-Batch K-Means"
      ]
    },
    {
      "cell_type": "markdown",
      "metadata": {
        "id": "xNQNiOU2AMdq"
      },
      "source": [
        "Scikit-Learn also implements a variant of the K-Means algorithm that supports mini-batches (see [this paper](http://www.eecs.tufts.edu/~dsculley/papers/fastkmeans.pdf)):"
      ]
    },
    {
      "cell_type": "code",
      "metadata": {
        "id": "QVYinUQWAMdq"
      },
      "source": [
        "from sklearn.cluster import MiniBatchKMeans"
      ],
      "execution_count": null,
      "outputs": []
    },
    {
      "cell_type": "code",
      "metadata": {
        "id": "neUX80J7AMdq"
      },
      "source": [
        "minibatch_kmeans = MiniBatchKMeans(n_clusters=5, random_state=42)\n",
        "minibatch_kmeans.fit(X)"
      ],
      "execution_count": null,
      "outputs": []
    },
    {
      "cell_type": "code",
      "metadata": {
        "id": "8hE0AjnoAMdr"
      },
      "source": [
        "minibatch_kmeans.inertia_"
      ],
      "execution_count": null,
      "outputs": []
    },
    {
      "cell_type": "markdown",
      "metadata": {
        "id": "1ShT93_OAMdr"
      },
      "source": [
        "### Version 1: using `memmap`\n",
        "If the dataset does not fit in memory, the simplest option is to use the [`memmap`](https://numpy.org/doc/stable/reference/generated/numpy.memmap.html) class from Numpy. This class allows you to manipulate a large array stored in disk efficiently, as if it were entirely loaded in memory. \n"
      ]
    },
    {
      "cell_type": "markdown",
      "metadata": {
        "id": "Wilk09EUdDYs"
      },
      "source": [
        "\n",
        "First let's load the MNIST dataset from OpenML, and split it into train/test sets:"
      ]
    },
    {
      "cell_type": "markdown",
      "metadata": {
        "id": "Xkp6DcHwAMdr"
      },
      "source": [
        "**Warning:** since Scikit-Learn 0.24, `fetch_openml()` returns a Pandas `DataFrame` by default. To avoid this and keep the same code as in the book, we use `as_frame=False`."
      ]
    },
    {
      "cell_type": "code",
      "metadata": {
        "id": "MkaUyswHAMdr"
      },
      "source": [
        "import urllib.request\n",
        "from sklearn.datasets import fetch_openml\n",
        "\n",
        "mnist = fetch_openml('mnist_784', version=1, as_frame=False)\n",
        "mnist.target = mnist.target.astype(np.int64)"
      ],
      "execution_count": null,
      "outputs": []
    },
    {
      "cell_type": "code",
      "metadata": {
        "id": "MVNCkT4rAMdr"
      },
      "source": [
        "from sklearn.model_selection import train_test_split\n",
        "\n",
        "X_train, X_test, y_train, y_test = train_test_split(\n",
        "    mnist[\"data\"], mnist[\"target\"], random_state=42)"
      ],
      "execution_count": null,
      "outputs": []
    },
    {
      "cell_type": "markdown",
      "metadata": {
        "id": "72aDTwmjc1nv"
      },
      "source": [
        "Let's create the `memmap()` structure and copy the MNIST data into it:"
      ]
    },
    {
      "cell_type": "code",
      "metadata": {
        "id": "VXRgBSV3AMds"
      },
      "source": [
        "filename = \"my_mnist.data\"\n",
        "X_mm = np.memmap(filename, dtype='float32', mode='write', shape=X_train.shape)\n",
        "X_mm[:] = X_train"
      ],
      "execution_count": null,
      "outputs": []
    },
    {
      "cell_type": "markdown",
      "metadata": {
        "id": "P9JyOTuCdSRy"
      },
      "source": [
        "Now we can read data via the `memmap` object directly into the call to `fit`:"
      ]
    },
    {
      "cell_type": "code",
      "metadata": {
        "id": "pREyToszAMds"
      },
      "source": [
        "minibatch_kmeans = MiniBatchKMeans(n_clusters=10, batch_size=10, random_state=42)\n",
        "minibatch_kmeans.fit(X_mm)"
      ],
      "execution_count": null,
      "outputs": []
    },
    {
      "cell_type": "markdown",
      "metadata": {
        "id": "msgJMuS8AMdt"
      },
      "source": [
        "### Version 2: using partial fit + manual training loop\n",
        "If your data is so large that you cannot use `memmap`, things get more complicated. Let's start by writing a function to load the next batch (in real life, you would load the data from disk):"
      ]
    },
    {
      "cell_type": "code",
      "metadata": {
        "id": "5zw4X19tAMdt"
      },
      "source": [
        "def load_next_batch(batch_size):\n",
        "    return X[np.random.choice(len(X), batch_size, replace=False)]"
      ],
      "execution_count": null,
      "outputs": []
    },
    {
      "cell_type": "markdown",
      "metadata": {
        "id": "Lf6gTBGxAMdt"
      },
      "source": [
        "Now we can train the model by feeding it one batch at a time. We also need to implement multiple initializations and keep the model with the lowest inertia:"
      ]
    },
    {
      "cell_type": "code",
      "metadata": {
        "id": "lmD-mE2KAMdt"
      },
      "source": [
        "np.random.seed(42)"
      ],
      "execution_count": null,
      "outputs": []
    },
    {
      "cell_type": "code",
      "metadata": {
        "id": "NGmCBqNuAMdt"
      },
      "source": [
        "k = 5\n",
        "n_init = 10\n",
        "n_iterations = 100\n",
        "batch_size = 100\n",
        "init_size = 500  # more data for K-Means++ initialization\n",
        "evaluate_on_last_n_iters = 10\n",
        "\n",
        "best_kmeans = None\n",
        "\n",
        "for init in range(n_init):\n",
        "    minibatch_kmeans = MiniBatchKMeans(n_clusters=k, init_size=init_size)\n",
        "    X_init = load_next_batch(init_size)\n",
        "    minibatch_kmeans.partial_fit(X_init)\n",
        "\n",
        "    minibatch_kmeans.sum_inertia_ = 0\n",
        "    for iteration in range(n_iterations):\n",
        "        X_batch = load_next_batch(batch_size)\n",
        "        minibatch_kmeans.partial_fit(X_batch)\n",
        "        if iteration >= n_iterations - evaluate_on_last_n_iters:\n",
        "            minibatch_kmeans.sum_inertia_ += minibatch_kmeans.inertia_\n",
        "\n",
        "    if (best_kmeans is None or\n",
        "        minibatch_kmeans.sum_inertia_ < best_kmeans.sum_inertia_):\n",
        "        best_kmeans = minibatch_kmeans"
      ],
      "execution_count": null,
      "outputs": []
    },
    {
      "cell_type": "code",
      "metadata": {
        "id": "NyQ9xg4OAMdx"
      },
      "source": [
        "best_kmeans.score(X)"
      ],
      "execution_count": null,
      "outputs": []
    },
    {
      "cell_type": "markdown",
      "metadata": {
        "id": "RiKKCC4uenVj"
      },
      "source": [
        "### Speed vs inertia for mini-batch k-Means"
      ]
    },
    {
      "cell_type": "markdown",
      "metadata": {
        "id": "d6iSZjIIAMdy"
      },
      "source": [
        "Mini-batch K-Means is much faster than regular K-Means:"
      ]
    },
    {
      "cell_type": "code",
      "metadata": {
        "id": "T5vBx6OGAMdy"
      },
      "source": [
        "%timeit KMeans(n_clusters=5, random_state=42).fit(X)"
      ],
      "execution_count": null,
      "outputs": []
    },
    {
      "cell_type": "code",
      "metadata": {
        "id": "ScyEKL8nAMdz"
      },
      "source": [
        "%timeit MiniBatchKMeans(n_clusters=5, random_state=42).fit(X)"
      ],
      "execution_count": null,
      "outputs": []
    },
    {
      "cell_type": "markdown",
      "metadata": {
        "id": "FehKZjt4AMdz"
      },
      "source": [
        "That's *much* faster! However, its performance is often lower (higher inertia), and it keeps degrading as _k_ increases. Let's plot the inertia ratio and the training time ratio between Mini-batch K-Means and regular K-Means:"
      ]
    },
    {
      "cell_type": "code",
      "metadata": {
        "id": "6qfV__88AMdz"
      },
      "source": [
        "from timeit import timeit"
      ],
      "execution_count": null,
      "outputs": []
    },
    {
      "cell_type": "code",
      "metadata": {
        "id": "pOD7W01uAMdz"
      },
      "source": [
        "times = np.empty((100, 2))\n",
        "inertias = np.empty((100, 2))\n",
        "for k in range(1, 101):\n",
        "    kmeans_ = KMeans(n_clusters=k, random_state=42)\n",
        "    minibatch_kmeans = MiniBatchKMeans(n_clusters=k, random_state=42)\n",
        "    print(\"\\r{}/{}\".format(k, 100), end=\"\")\n",
        "    times[k-1, 0] = timeit(\"kmeans_.fit(X)\", number=10, globals=globals())\n",
        "    times[k-1, 1]  = timeit(\"minibatch_kmeans.fit(X)\", number=10, globals=globals())\n",
        "    inertias[k-1, 0] = kmeans_.inertia_\n",
        "    inertias[k-1, 1] = minibatch_kmeans.inertia_"
      ],
      "execution_count": null,
      "outputs": []
    },
    {
      "cell_type": "code",
      "metadata": {
        "id": "NL-fgmQuAMd0"
      },
      "source": [
        "plt.figure(figsize=(10,4))\n",
        "\n",
        "plt.subplot(121)\n",
        "plt.plot(range(1, 101), inertias[:, 0], \"r--\", label=\"K-Means\")\n",
        "plt.plot(range(1, 101), inertias[:, 1], \"b.-\", label=\"Mini-batch K-Means\")\n",
        "plt.xlabel(\"$k$\", fontsize=16)\n",
        "plt.title(\"Inertia\", fontsize=14)\n",
        "plt.legend(fontsize=14)\n",
        "plt.axis([1, 100, 0, 100])\n",
        "\n",
        "plt.subplot(122)\n",
        "plt.plot(range(1, 101), times[:, 0], \"r--\", label=\"K-Means\")\n",
        "plt.plot(range(1, 101), times[:, 1], \"b.-\", label=\"Mini-batch K-Means\")\n",
        "plt.xlabel(\"$k$\", fontsize=16)\n",
        "plt.title(\"Training time (seconds)\", fontsize=14)\n",
        "plt.axis([1, 100, 0, 6])\n",
        "\n",
        "plt.show()"
      ],
      "execution_count": null,
      "outputs": []
    },
    {
      "cell_type": "markdown",
      "source": [
        "# References and exta resources\n",
        "This tutorial is based on the [notebook written by A. Géron](https://colab.research.google.com/github/ageron/handson-ml2/blob/master/09_unsupervised_learning.ipynb) for his \"Hands-on ML\" book. Notebook realeased under MIT license.\n",
        "\n",
        "Aditional references include:\n",
        "\n",
        "- [Selecting the number of clusters with silhouette analysis on KMeans clustering](https://scikit-learn.org/stable/auto_examples/cluster/plot_kmeans_silhouette_analysis.html)\n",
        "\n",
        "- [Demonstration of k-means assumptions](https://scikit-learn.org/stable/auto_examples/cluster/plot_kmeans_assumptions.html#sphx-glr-auto-examples-cluster-plot-kmeans-assumptions-py)\n",
        "- [Comparison of the K-Means and MiniBatchKMeans clustering algorithms](https://scikit-learn.org/stable/auto_examples/cluster/plot_mini_batch_kmeans.html#sphx-glr-auto-examples-cluster-plot-mini-batch-kmeans-py)\n",
        "\n",
        "To go further:\n",
        "\n",
        "- [A demo of K-Means clustering on the handwritten digits data](https://scikit-learn.org/stable/auto_examples/cluster/plot_kmeans_digits.html#sphx-glr-auto-examples-cluster-plot-kmeans-digits-py)\n",
        "\n",
        "- [Color Quantization using K-Means](https://scikit-learn.org/stable/auto_examples/cluster/plot_color_quantization.html#sphx-glr-auto-examples-cluster-plot-color-quantization-py)"
      ],
      "metadata": {
        "id": "ACPSTIUZqoCs"
      }
    }
  ]
}