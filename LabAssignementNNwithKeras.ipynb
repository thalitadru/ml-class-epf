{
  "cells": [
    {
      "cell_type": "markdown",
      "metadata": {
        "id": "view-in-github",
        "colab_type": "text"
      },
      "source": [
        "<a href=\"https://colab.research.google.com/github/thalitadru/ml-class-epf/blob/main/LabAssignementNNwithKeras.ipynb\" target=\"_parent\"><img src=\"https://colab.research.google.com/assets/colab-badge.svg\" alt=\"Open In Colab\"/></a>"
      ]
    },
    {
      "cell_type": "markdown",
      "id": "4731bb59-074b-450c-9ee0-f851f550fc01",
      "metadata": {
        "id": "4731bb59-074b-450c-9ee0-f851f550fc01"
      },
      "source": [
        "# Lab: NN with Keras\n",
        "\n",
        "This Notebook is adapted from A. Géron's \"Hands-on ML\" book and from Tensorflow official tutorials."
      ]
    },
    {
      "cell_type": "markdown",
      "id": "633fc7d2-7a34-4214-9801-fe71f2ed131e",
      "metadata": {
        "id": "633fc7d2-7a34-4214-9801-fe71f2ed131e"
      },
      "source": [
        "# Classifying images with a neural network"
      ]
    },
    {
      "cell_type": "code",
      "execution_count": null,
      "id": "cd6d1578-487c-4d9d-83d8-9a5a25c128a8",
      "metadata": {
        "id": "cd6d1578-487c-4d9d-83d8-9a5a25c128a8"
      },
      "outputs": [],
      "source": [
        "# import the necessary libraries\n",
        "import numpy as np\n",
        "import pandas as pd\n",
        "\n",
        "%matplotlib inline\n",
        "import matplotlib as mpl\n",
        "import matplotlib.cm as cm\n",
        "import matplotlib.pyplot as plt\n",
        "\n",
        "import seaborn as sns\n",
        "import os"
      ]
    },
    {
      "cell_type": "markdown",
      "id": "96c76678-80c3-41fc-8562-96132089c354",
      "metadata": {
        "id": "96c76678-80c3-41fc-8562-96132089c354"
      },
      "source": [
        "## Importing tensorflow and keras"
      ]
    },
    {
      "cell_type": "markdown",
      "id": "21646372-5e74-461b-b909-3b03102f2325",
      "metadata": {
        "id": "21646372-5e74-461b-b909-3b03102f2325",
        "tags": []
      },
      "source": [
        "First let's import TensorFlow and Keras."
      ]
    },
    {
      "cell_type": "code",
      "execution_count": null,
      "id": "d8ef415b-4077-484b-ab38-6162a0098020",
      "metadata": {
        "id": "d8ef415b-4077-484b-ab38-6162a0098020"
      },
      "outputs": [],
      "source": [
        "import tensorflow as tf\n",
        "from tensorflow import keras"
      ]
    },
    {
      "cell_type": "code",
      "execution_count": null,
      "id": "143c9bd5-06aa-4c5c-b0ba-8a0cad7fc7e2",
      "metadata": {
        "id": "143c9bd5-06aa-4c5c-b0ba-8a0cad7fc7e2"
      },
      "outputs": [],
      "source": [
        "tf.__version__"
      ]
    },
    {
      "cell_type": "code",
      "execution_count": null,
      "id": "c2ce41a0-d841-41e3-a953-24579e10e80d",
      "metadata": {
        "id": "c2ce41a0-d841-41e3-a953-24579e10e80d"
      },
      "outputs": [],
      "source": [
        "keras.__version__"
      ]
    },
    {
      "cell_type": "markdown",
      "id": "0cee40a2-c753-4508-bf6c-d990394416d5",
      "metadata": {
        "id": "0cee40a2-c753-4508-bf6c-d990394416d5"
      },
      "source": [
        "## Tensors and Variables in Tensorflow"
      ]
    },
    {
      "cell_type": "markdown",
      "id": "d8e163b0-f0a0-47c1-ba5d-8edab6c4bedf",
      "metadata": {
        "id": "d8e163b0-f0a0-47c1-ba5d-8edab6c4bedf"
      },
      "source": [
        "Tensors are the analogous of Numpy's `ndarrays` and represent multi-dimensional arrays of arbitrary shape."
      ]
    },
    {
      "cell_type": "code",
      "execution_count": null,
      "id": "260ec06a-3a8c-46fb-9842-87a8a71a0827",
      "metadata": {
        "id": "260ec06a-3a8c-46fb-9842-87a8a71a0827"
      },
      "outputs": [],
      "source": [
        "t = tf.constant([1,2,3])\n",
        "t"
      ]
    },
    {
      "cell_type": "markdown",
      "id": "4ce0cd83-a519-4e9c-bc34-cbe3f1f448e3",
      "metadata": {
        "id": "4ce0cd83-a519-4e9c-bc34-cbe3f1f448e3"
      },
      "source": [
        "They can be exported to numpy using the dedicated method:"
      ]
    },
    {
      "cell_type": "code",
      "execution_count": null,
      "id": "a05475d5-c407-430f-a8af-70372b65fbdd",
      "metadata": {
        "id": "a05475d5-c407-430f-a8af-70372b65fbdd"
      },
      "outputs": [],
      "source": [
        "t.numpy()"
      ]
    },
    {
      "cell_type": "markdown",
      "id": "47c7dd84-e01a-497e-a512-4074ebd56138",
      "metadata": {
        "id": "47c7dd84-e01a-497e-a512-4074ebd56138"
      },
      "source": [
        "Tensorflow variables are a special type of tensor. They are used to represent values that are changed by your program (like the parameters of a network)."
      ]
    },
    {
      "cell_type": "code",
      "execution_count": null,
      "id": "d16dcf7c-3f38-46ae-a042-b79061128808",
      "metadata": {
        "id": "d16dcf7c-3f38-46ae-a042-b79061128808",
        "tags": []
      },
      "outputs": [],
      "source": [
        "my_tensor = tf.constant([[1.0, 2.0], [3.0, 4.0]])\n",
        "my_variable = tf.Variable(my_tensor)"
      ]
    },
    {
      "cell_type": "markdown",
      "id": "waYNRzPPcKS-",
      "metadata": {
        "id": "waYNRzPPcKS-"
      },
      "source": [
        "Normally you won't need to explicitly create tensors and variables, but they are the underlying data structures used within keras layers."
      ]
    },
    {
      "cell_type": "markdown",
      "id": "9d961644-2521-459e-8d98-f31f710acc5f",
      "metadata": {
        "id": "9d961644-2521-459e-8d98-f31f710acc5f"
      },
      "source": [
        "## The data: Fashion MNIST"
      ]
    },
    {
      "cell_type": "markdown",
      "id": "6d54f5e7-491d-47fa-997d-496cb9a768e1",
      "metadata": {
        "id": "6d54f5e7-491d-47fa-997d-496cb9a768e1"
      },
      "source": [
        "We will use [Fashion MNIST](https://github.com/zalandoresearch/fashion-mnist) dataset which contains 70,000 grayscale images in 10 categories. The images show individual articles of clothing at low resolution (28 by 28 pixels), as seen here:\n",
        "\n",
        "<table>\n",
        "  <tr><td>\n",
        "    <img src=\"https://tensorflow.org/images/fashion-mnist-sprite.png\"\n",
        "         alt=\"Fashion MNIST sprite\"  width=\"600\">\n",
        "  </td></tr>\n",
        "  <tr><td align=\"center\">\n",
        "    <b>Figure 1.</b> <a href=\"https://github.com/zalandoresearch/fashion-mnist\">Fashion-MNIST samples</a> (by Zalando, MIT License).<br/>&nbsp;\n",
        "  </td></tr>\n",
        "</table>\n",
        "\n",
        "Fashion MNIST is intended as a drop-in replacement for the classic [MNIST](http://yann.lecun.com/exdb/mnist/) dataset—often used as the \"Hello, World\" of machine learning programs for computer vision. The MNIST dataset contains images of handwritten digits (0, 1, 2, etc.) in a format identical to that of the articles of clothing you'll use here.\n",
        "\n",
        "This guide uses Fashion MNIST for variety, and because it's a slightly more challenging problem than regular MNIST. Both datasets are relatively small and are used to verify that an algorithm works as expected. They're good starting points to test and debug code.\n",
        "\n",
        "Here, 60,000 images are used to train the network and 10,000 images to evaluate how accurately the network learned to classify images. You can access the Fashion MNIST directly from TensorFlow. "
      ]
    },
    {
      "cell_type": "markdown",
      "id": "d41488ec-9ab7-4062-8efc-ce35608dd689",
      "metadata": {
        "id": "d41488ec-9ab7-4062-8efc-ce35608dd689"
      },
      "source": [
        "### Import and load the dataset"
      ]
    },
    {
      "cell_type": "markdown",
      "id": "36d74ddf-0066-490c-bc20-068dd5810812",
      "metadata": {
        "id": "36d74ddf-0066-490c-bc20-068dd5810812"
      },
      "source": [
        "Keras has a number of functions to load popular datasets in `keras.datasets`. \n",
        "We can use this module to import and [load the Fashion MNIST data](https://www.tensorflow.org/api_docs/python/tf/keras/datasets/fashion_mnist/load_data).\n"
      ]
    },
    {
      "cell_type": "code",
      "execution_count": null,
      "id": "73b3126f-0a6b-433e-8cb3-5c9b320e9b70",
      "metadata": {
        "id": "73b3126f-0a6b-433e-8cb3-5c9b320e9b70"
      },
      "outputs": [],
      "source": [
        "fashion_mnist = keras.datasets.fashion_mnist\n",
        "(X_train_full, y_train_full), (X_test, y_test) = fashion_mnist.load_data()"
      ]
    },
    {
      "cell_type": "markdown",
      "id": "af5b724c-3ed9-4431-acd4-669713cbfb60",
      "metadata": {
        "id": "af5b724c-3ed9-4431-acd4-669713cbfb60"
      },
      "source": [
        "Loading the dataset returns four NumPy arrays:\n",
        "\n",
        "* The first pair `X_train_full` and `y_train_full` arrays are the *training set*\n",
        "* The second pair  the `X_test` and `y_test` are the *test set*"
      ]
    },
    {
      "cell_type": "markdown",
      "id": "47c050d3-c86e-4947-922e-ba9f242d5637",
      "metadata": {
        "id": "47c050d3-c86e-4947-922e-ba9f242d5637"
      },
      "source": [
        "### TODO: check the quantity of images in each set and their shape"
      ]
    },
    {
      "cell_type": "markdown",
      "id": "f115bdd0-b77a-4a50-9604-5e69f3d213c1",
      "metadata": {
        "id": "f115bdd0-b77a-4a50-9604-5e69f3d213c1"
      },
      "source": [
        "The training set contains 60,000 grayscale images, each 28x28 pixels:"
      ]
    },
    {
      "cell_type": "code",
      "execution_count": null,
      "id": "085b51b3-17db-4c91-91c3-f23e388702e5",
      "metadata": {
        "id": "085b51b3-17db-4c91-91c3-f23e388702e5",
        "tags": []
      },
      "outputs": [],
      "source": [
        "# TODO your code here\n"
      ]
    },
    {
      "cell_type": "code",
      "execution_count": null,
      "id": "4b7194b2-2193-4a5e-a47d-cb3dc0da1ad5",
      "metadata": {
        "id": "4b7194b2-2193-4a5e-a47d-cb3dc0da1ad5",
        "tags": []
      },
      "outputs": [],
      "source": []
    },
    {
      "cell_type": "markdown",
      "id": "9a784f04-fd07-4f43-ad03-c071d83a43bd",
      "metadata": {
        "id": "9a784f04-fd07-4f43-ad03-c071d83a43bd",
        "tags": []
      },
      "source": [
        "### Preprocess the data"
      ]
    },
    {
      "cell_type": "markdown",
      "id": "b840559c-b006-4f10-a319-df2e8c3c8b27",
      "metadata": {
        "id": "b840559c-b006-4f10-a319-df2e8c3c8b27"
      },
      "source": [
        "Images are in grayscale. Each pixel intensity is represented as a byte (0 to 255):"
      ]
    },
    {
      "cell_type": "code",
      "execution_count": null,
      "id": "87377ac1-a84e-4512-9a48-6d4661c706eb",
      "metadata": {
        "id": "87377ac1-a84e-4512-9a48-6d4661c706eb",
        "tags": []
      },
      "outputs": [],
      "source": [
        "X_train_full.dtype"
      ]
    },
    {
      "cell_type": "markdown",
      "id": "2ce96a63-7824-4f43-93e4-29fc43403ccd",
      "metadata": {
        "id": "2ce96a63-7824-4f43-93e4-29fc43403ccd"
      },
      "source": [
        "You can visualize it by plotting one of the training images:"
      ]
    },
    {
      "cell_type": "code",
      "execution_count": null,
      "id": "0fbeb31a-9cfc-4e23-9ff7-5880a2504a47",
      "metadata": {
        "id": "0fbeb31a-9cfc-4e23-9ff7-5880a2504a47"
      },
      "outputs": [],
      "source": [
        "plt.figure()\n",
        "plt.imshow(X_train_full[0])\n",
        "plt.colorbar()\n",
        "plt.grid(False)\n",
        "plt.show()"
      ]
    },
    {
      "cell_type": "markdown",
      "id": "a9daf8bf-3ec5-4c8f-a51b-4b6af35f3dd2",
      "metadata": {
        "id": "a9daf8bf-3ec5-4c8f-a51b-4b6af35f3dd2"
      },
      "source": [
        "#### TODO: rescaling pixel values"
      ]
    },
    {
      "cell_type": "markdown",
      "id": "261b18b2-0e22-4ba2-8ac8-0badcf19326c",
      "metadata": {
        "id": "261b18b2-0e22-4ba2-8ac8-0badcf19326c"
      },
      "source": [
        "As seen in class, gradient terms for weights in the first layer include a product with the network inputs. This means the scaling of the inputs can influence the optimization convergence:\n",
        "- large inputs will incurr in large gradients which incurr in large steps during optimization. Too large steps can bring instability.\n",
        "- Features with un-even variation range lead to a poorly conditioned loss function (analogous to a very elongated quadratic form).\n",
        "\n",
        "Therefore it is good practice to rescale neural network features. It is common to use MinMax scaling, so that features range between 0 and 1. Standardization is also a valid possibility (if you can assume your features have a Gaussian distribution)\n",
        "\n",
        "In the case of image pixels, MinMax scaling can be done with a simple division, which you are going to do just bellow.\n",
        "\n",
        "**Important**: *training set* and the *testing set* should be preprocessed in the same way."
      ]
    },
    {
      "cell_type": "code",
      "execution_count": null,
      "id": "edb9a4a3-a37a-48eb-b93e-28d0a0a206e0",
      "metadata": {
        "id": "edb9a4a3-a37a-48eb-b93e-28d0a0a206e0",
        "tags": []
      },
      "outputs": [],
      "source": [
        "# TODO your code here\n"
      ]
    },
    {
      "cell_type": "markdown",
      "id": "a43ab19c-4be6-4854-a647-30ffbee1a7de",
      "metadata": {
        "id": "a43ab19c-4be6-4854-a647-30ffbee1a7de"
      },
      "source": [
        "### TODO: Creating a validation set\n",
        "The dataset is already split for you between a training set and a test set, but it can be useful to split the training set further to have a validation set.\n",
        "For this we'll split the full training set into a validation set and a (smaller) training set.\n",
        "Separate 5000 images for the validation set."
      ]
    },
    {
      "cell_type": "code",
      "execution_count": null,
      "id": "f174593c-fcf6-46a5-ac02-fa3176d0f6b3",
      "metadata": {
        "id": "f174593c-fcf6-46a5-ac02-fa3176d0f6b3"
      },
      "outputs": [],
      "source": [
        "# TODO your code here\n",
        "X_train, y_train = ...\n",
        "X_valid, y_valid = ...\n"
      ]
    },
    {
      "cell_type": "markdown",
      "id": "8805389b-6f0d-4962-bca8-1c00a8d94159",
      "metadata": {
        "id": "8805389b-6f0d-4962-bca8-1c00a8d94159"
      },
      "source": [
        "### Visualizing images and labels"
      ]
    },
    {
      "cell_type": "markdown",
      "id": "c752a740-b9b0-42ea-9547-647b09aef994",
      "metadata": {
        "id": "c752a740-b9b0-42ea-9547-647b09aef994"
      },
      "source": [
        "You can plot an image using Matplotlib's `imshow()` function, with a `'binary'`\n",
        " color map:"
      ]
    },
    {
      "cell_type": "code",
      "execution_count": null,
      "id": "4fc8d75c-58ff-428d-9e61-458aa97a3d94",
      "metadata": {
        "id": "4fc8d75c-58ff-428d-9e61-458aa97a3d94"
      },
      "outputs": [],
      "source": [
        "plt.imshow(X_train[0], cmap=\"binary\")\n",
        "plt.axis('off')\n",
        "plt.show()"
      ]
    },
    {
      "cell_type": "markdown",
      "id": "3a4bb31b-30e3-4340-9db0-9090ee3545ca",
      "metadata": {
        "id": "3a4bb31b-30e3-4340-9db0-9090ee3545ca",
        "tags": []
      },
      "source": [
        "The labels are the class IDs, stored in an array of integers (represented as uint8), ranging from 0 to 9:"
      ]
    },
    {
      "cell_type": "code",
      "execution_count": null,
      "id": "bfb805dc-7ab8-4f4d-9061-5a0fb29b43ea",
      "metadata": {
        "id": "bfb805dc-7ab8-4f4d-9061-5a0fb29b43ea"
      },
      "outputs": [],
      "source": [
        "y_train"
      ]
    },
    {
      "cell_type": "markdown",
      "id": "7287a910-bcd7-4144-8cb6-bc520c27b5ff",
      "metadata": {
        "id": "7287a910-bcd7-4144-8cb6-bc520c27b5ff"
      },
      "source": [
        "These correspond to the *class* of clothing the image represents:\n",
        "\n",
        "<table>\n",
        "  <tr>\n",
        "    <th>Label</th>\n",
        "    <th>Class</th>\n",
        "  </tr>\n",
        "  <tr>\n",
        "    <td>0</td>\n",
        "    <td>T-shirt/top</td>\n",
        "  </tr>\n",
        "  <tr>\n",
        "    <td>1</td>\n",
        "    <td>Trouser</td>\n",
        "  </tr>\n",
        "    <tr>\n",
        "    <td>2</td>\n",
        "    <td>Pullover</td>\n",
        "  </tr>\n",
        "    <tr>\n",
        "    <td>3</td>\n",
        "    <td>Dress</td>\n",
        "  </tr>\n",
        "    <tr>\n",
        "    <td>4</td>\n",
        "    <td>Coat</td>\n",
        "  </tr>\n",
        "    <tr>\n",
        "    <td>5</td>\n",
        "    <td>Sandal</td>\n",
        "  </tr>\n",
        "    <tr>\n",
        "    <td>6</td>\n",
        "    <td>Shirt</td>\n",
        "  </tr>\n",
        "    <tr>\n",
        "    <td>7</td>\n",
        "    <td>Sneaker</td>\n",
        "  </tr>\n",
        "    <tr>\n",
        "    <td>8</td>\n",
        "    <td>Bag</td>\n",
        "  </tr>\n",
        "    <tr>\n",
        "    <td>9</td>\n",
        "    <td>Ankle boot</td>\n",
        "  </tr>\n",
        "</table>\n",
        "\n",
        "Each image is mapped to a single label. Since the *class names* are not included with the dataset, store them here to use later when plotting the images:"
      ]
    },
    {
      "cell_type": "code",
      "execution_count": null,
      "id": "2a95a5c3-14d9-403b-aefd-cb8293e68a48",
      "metadata": {
        "id": "2a95a5c3-14d9-403b-aefd-cb8293e68a48",
        "tags": []
      },
      "outputs": [],
      "source": [
        "class_names = [\"T-shirt/top\", \"Trouser\", \"Pullover\", \"Dress\", \"Coat\",\n",
        "               \"Sandal\", \"Shirt\", \"Sneaker\", \"Bag\", \"Ankle boot\"]"
      ]
    },
    {
      "cell_type": "markdown",
      "id": "ebe09d7a-381a-4dce-bf07-e26a9c3018d5",
      "metadata": {
        "id": "ebe09d7a-381a-4dce-bf07-e26a9c3018d5"
      },
      "source": [
        "So the first image in the training set is a coat:"
      ]
    },
    {
      "cell_type": "code",
      "execution_count": null,
      "id": "b8350875-7cae-4f6d-bff5-db8c80e0c610",
      "metadata": {
        "id": "b8350875-7cae-4f6d-bff5-db8c80e0c610"
      },
      "outputs": [],
      "source": [
        "class_names[y_train[0]]"
      ]
    },
    {
      "cell_type": "markdown",
      "id": "43e2af01-d379-4baf-8ee1-069745e5b7a5",
      "metadata": {
        "id": "43e2af01-d379-4baf-8ee1-069745e5b7a5"
      },
      "source": [
        "Let's take a look at a sample of the images in the dataset:"
      ]
    },
    {
      "cell_type": "code",
      "execution_count": null,
      "id": "5e865a15-7347-47a6-9c84-9c3f3914d849",
      "metadata": {
        "id": "5e865a15-7347-47a6-9c84-9c3f3914d849"
      },
      "outputs": [],
      "source": [
        "n_rows = 4\n",
        "n_cols = 10\n",
        "plt.figure(figsize=(n_cols * 1.2, n_rows * 1.2))\n",
        "for row in range(n_rows):\n",
        "    for col in range(n_cols):\n",
        "        index = n_cols * row + col\n",
        "        plt.subplot(n_rows, n_cols, index + 1)\n",
        "        plt.imshow(X_train[index], cmap=\"binary\", interpolation=\"nearest\")\n",
        "        plt.axis('off')\n",
        "        plt.title(class_names[y_train[index]], fontsize=12)\n",
        "plt.subplots_adjust(wspace=0.2, hspace=0.5)"
      ]
    },
    {
      "cell_type": "markdown",
      "id": "bcb2b0f5-c717-4082-8e78-b3c4e1b9ae5b",
      "metadata": {
        "id": "bcb2b0f5-c717-4082-8e78-b3c4e1b9ae5b"
      },
      "source": [
        "## Building models with tf.keras.Sequential"
      ]
    },
    {
      "cell_type": "markdown",
      "id": "bac0885b-9909-4ce5-9a1e-de1c0c7960c1",
      "metadata": {
        "id": "bac0885b-9909-4ce5-9a1e-de1c0c7960c1"
      },
      "source": [
        "`tf.keras` offers you a high level API to implement neural networks easily.\n",
        "Most models can be represented using the `tf.keras.Sequential` API.\n",
        "For more complex models, we can use `tf.keras.functional` and/or sub-class `tf.keras.Model`."
      ]
    },
    {
      "cell_type": "markdown",
      "id": "bfc7ab08-b31f-486b-96d2-67f0c1afc2da",
      "metadata": {
        "id": "bfc7ab08-b31f-486b-96d2-67f0c1afc2da"
      },
      "source": [
        "Before creating our model, let's set our random states to control random initialization."
      ]
    },
    {
      "cell_type": "code",
      "execution_count": null,
      "id": "e65f93dc-d15e-4caf-ac91-c639851fd611",
      "metadata": {
        "id": "e65f93dc-d15e-4caf-ac91-c639851fd611"
      },
      "outputs": [],
      "source": [
        "keras.backend.clear_session()\n",
        "np.random.seed(42)\n",
        "tf.random.set_seed(42)"
      ]
    },
    {
      "cell_type": "markdown",
      "id": "3eef6c5d-b17c-4b54-bed9-e4be81fcfded",
      "metadata": {
        "id": "3eef6c5d-b17c-4b54-bed9-e4be81fcfded"
      },
      "source": [
        "Let's start with an empty sequential model:"
      ]
    },
    {
      "cell_type": "code",
      "execution_count": null,
      "id": "41e7c7be-d8d3-4c11-a4f7-51099b987775",
      "metadata": {
        "id": "41e7c7be-d8d3-4c11-a4f7-51099b987775"
      },
      "outputs": [],
      "source": [
        "model = keras.models.Sequential()\n",
        "model"
      ]
    },
    {
      "cell_type": "markdown",
      "id": "e248cbf0-e209-418e-b4af-9b3d57164f4b",
      "metadata": {
        "id": "e248cbf0-e209-418e-b4af-9b3d57164f4b"
      },
      "source": [
        "We can add the layers we wish to add to our model one by one using `model.add`.\n",
        "First let us add a layer to vectorize the image inputs (2D into 1D):"
      ]
    },
    {
      "cell_type": "code",
      "execution_count": null,
      "id": "ece24f05-f1c8-45cb-8f3a-2f7be5db0f32",
      "metadata": {
        "id": "ece24f05-f1c8-45cb-8f3a-2f7be5db0f32"
      },
      "outputs": [],
      "source": [
        "model.add(keras.layers.Flatten(input_shape=[28, 28]))"
      ]
    },
    {
      "cell_type": "markdown",
      "id": "8b75e942-6482-4f3e-ad92-e8ad5fa5b55a",
      "metadata": {
        "id": "8b75e942-6482-4f3e-ad92-e8ad5fa5b55a"
      },
      "source": [
        "Layers of the type `tf.keras.layers.Flatten` transform the format of the images from a two-dimensional array (of 28 by 28 pixels) to a one-dimensional array (of 28 * 28 = 784 pixels). Think of this layer as unstacking rows of pixels in the image and lining them up. This layer has no parameters to learn; it only reformats the data."
      ]
    },
    {
      "cell_type": "markdown",
      "id": "22274380-965a-4cb4-99f2-923fb19867b5",
      "metadata": {
        "id": "22274380-965a-4cb4-99f2-923fb19867b5"
      },
      "source": [
        "### Hidden layers\n",
        "We can add typical MLP layers using `keras.layers.Dense`."
      ]
    },
    {
      "cell_type": "code",
      "execution_count": null,
      "id": "16cc2593-1b9b-4a56-8a3b-0c22f4c99d03",
      "metadata": {
        "id": "16cc2593-1b9b-4a56-8a3b-0c22f4c99d03"
      },
      "outputs": [],
      "source": [
        "model.add(keras.layers.Dense(300, activation=\"relu\"))"
      ]
    },
    {
      "cell_type": "markdown",
      "id": "a44dff9a-14dd-4927-99a2-affe528838d9",
      "metadata": {
        "id": "a44dff9a-14dd-4927-99a2-affe528838d9"
      },
      "source": [
        "The first argument defines the number of neurons in the layer. The activation parameter needs to be set to the desired activation function, otherwise you will simply have a linear layer."
      ]
    },
    {
      "cell_type": "markdown",
      "id": "mw6ATSHs9Owv",
      "metadata": {
        "id": "mw6ATSHs9Owv"
      },
      "source": [
        "#### TODO: Add another hidden layer\n",
        "Add a second hidden layer with 100 units"
      ]
    },
    {
      "cell_type": "code",
      "execution_count": null,
      "id": "Gp4lGa9g9PQd",
      "metadata": {
        "id": "Gp4lGa9g9PQd"
      },
      "outputs": [],
      "source": [
        "# TODO your code here\n"
      ]
    },
    {
      "cell_type": "markdown",
      "id": "1b389489-d9ff-4eb3-8508-fcb26b9799cb",
      "metadata": {
        "id": "1b389489-d9ff-4eb3-8508-fcb26b9799cb"
      },
      "source": [
        "### Output layer\n",
        "For the output layer, the number of units is determined by the number of classes. Each unit computes a score that indicates the current image belongs to one of the 10 classes. \n",
        "By usiing softmax as the activation function, we obtain normalized probabilities as scores (as in the multinomial logistic regression)."
      ]
    },
    {
      "cell_type": "code",
      "execution_count": null,
      "id": "a7f646d1-307f-4ab1-a313-f5945f6f86df",
      "metadata": {
        "id": "a7f646d1-307f-4ab1-a313-f5945f6f86df",
        "tags": []
      },
      "outputs": [],
      "source": [
        "model.add(keras.layers.Dense(10, activation=\"softmax\"))"
      ]
    },
    {
      "cell_type": "markdown",
      "id": "d584173c-8630-4d5e-9602-418a3c41cca8",
      "metadata": {
        "id": "d584173c-8630-4d5e-9602-418a3c41cca8"
      },
      "source": [
        "You can also create the same model by giving a list of these layers as argument to `keras.Sequential`:\n",
        "``` python\n",
        "keras.models.Sequential([\n",
        "    keras.layers.Flatten(input_shape=[28, 28]),\n",
        "    keras.layers.Dense(300, activation=\"relu\"),\n",
        "    keras.layers.Dense(100, activation=\"relu\"),\n",
        "    keras.layers.Dense(10, activation=\"softmax\")\n",
        "])\n",
        "```"
      ]
    },
    {
      "cell_type": "markdown",
      "id": "81892ffb-8209-49f4-8c4d-0dcfd18b8e65",
      "metadata": {
        "id": "81892ffb-8209-49f4-8c4d-0dcfd18b8e65",
        "tags": []
      },
      "source": [
        "### Layers and weights\n",
        "In any case, `model.layers` will contain a list of `keras.layers` at the end:"
      ]
    },
    {
      "cell_type": "code",
      "execution_count": null,
      "id": "7889a98a-b91a-4813-9799-a04facac9d58",
      "metadata": {
        "id": "7889a98a-b91a-4813-9799-a04facac9d58",
        "tags": []
      },
      "outputs": [],
      "source": [
        "model.layers"
      ]
    },
    {
      "cell_type": "markdown",
      "id": "2f2245dc-b693-4e8e-a0e2-ce07617af899",
      "metadata": {
        "id": "2f2245dc-b693-4e8e-a0e2-ce07617af899"
      },
      "source": [
        "Each layer has a name. You can attribute one during its creation. If you don't, a standard one will be created for you:"
      ]
    },
    {
      "cell_type": "code",
      "execution_count": null,
      "id": "6652bcf9-11dc-47ab-b2bc-b18d128ca83a",
      "metadata": {
        "id": "6652bcf9-11dc-47ab-b2bc-b18d128ca83a"
      },
      "outputs": [],
      "source": [
        "for layer in model.layers:\n",
        "    print(layer.name)"
      ]
    },
    {
      "cell_type": "markdown",
      "id": "f4da3021-ed10-4bb8-94f3-7188d91f964e",
      "metadata": {
        "id": "f4da3021-ed10-4bb8-94f3-7188d91f964e"
      },
      "source": [
        "You can access your model's layers by indexing `model.layers` or by their name (using `model.get_layer`)"
      ]
    },
    {
      "cell_type": "code",
      "execution_count": null,
      "id": "52d141d4-2ed8-4036-9ee0-39a55d5cfd32",
      "metadata": {
        "id": "52d141d4-2ed8-4036-9ee0-39a55d5cfd32"
      },
      "outputs": [],
      "source": [
        "hidden1 = model.layers[1]\n",
        "hidden1.name"
      ]
    },
    {
      "cell_type": "code",
      "execution_count": null,
      "id": "820f0e22-547f-44d0-9fd4-e293dc6a1b6e",
      "metadata": {
        "id": "820f0e22-547f-44d0-9fd4-e293dc6a1b6e"
      },
      "outputs": [],
      "source": [
        "model.get_layer(hidden1.name) is hidden1"
      ]
    },
    {
      "cell_type": "markdown",
      "id": "3d228f42-1009-42d0-8f28-0fd41944cd03",
      "metadata": {
        "id": "3d228f42-1009-42d0-8f28-0fd41944cd03"
      },
      "source": [
        "All the parameters of a layer can be accessed using its get_weights() and set_weights() methods. For a Dense layer, this includes both the connection weights and the bias terms:"
      ]
    },
    {
      "cell_type": "code",
      "execution_count": null,
      "id": "b98d1145-10d4-41f2-9c32-3f8f69e1dfba",
      "metadata": {
        "id": "b98d1145-10d4-41f2-9c32-3f8f69e1dfba"
      },
      "outputs": [],
      "source": [
        "weights, biases = hidden1.get_weights()"
      ]
    },
    {
      "cell_type": "markdown",
      "id": "7MPtfKdOXtLz",
      "metadata": {
        "id": "7MPtfKdOXtLz"
      },
      "source": [
        "We can save this initial weights for later using `model.save_weights`, in case we want to reset our model to its initial state:"
      ]
    },
    {
      "cell_type": "code",
      "execution_count": null,
      "id": "NNxOyFgPYMPs",
      "metadata": {
        "id": "NNxOyFgPYMPs"
      },
      "outputs": [],
      "source": [
        "model.save_weights('init.h5')"
      ]
    },
    {
      "cell_type": "markdown",
      "id": "AjV1xvr3YdNs",
      "metadata": {
        "id": "AjV1xvr3YdNs"
      },
      "source": [
        "`h5` is the extension corresponding to the default keras format, HDF5. To load back the weights, just call \n",
        "```python \n",
        "model.load_weights('init.h5')\n",
        "```\n"
      ]
    },
    {
      "cell_type": "markdown",
      "id": "yhN0mjUuMKwW",
      "metadata": {
        "id": "yhN0mjUuMKwW"
      },
      "source": [
        "### TODO: Check weights and biases values and shape"
      ]
    },
    {
      "cell_type": "code",
      "execution_count": null,
      "id": "ea7c4733-600a-440f-bd12-7cf440e2e504",
      "metadata": {
        "id": "ea7c4733-600a-440f-bd12-7cf440e2e504"
      },
      "outputs": [],
      "source": [
        "# TODO your code here\n"
      ]
    },
    {
      "cell_type": "markdown",
      "id": "3e5b069b-f680-41aa-90b8-aaaee02faa84",
      "metadata": {
        "id": "3e5b069b-f680-41aa-90b8-aaaee02faa84"
      },
      "source": [
        "Notice that the Dense layer initialized the connection weights randomly, and the biases were initialized to zeros, which is fine. If you ever want to use a different initialization method, you can set kernel_initializer (kernel is another name for the matrix of connection weights) or bias_initializer when creating the layer. We will discuss initializers later, but if you want the full list, see https://keras.io/initializers/."
      ]
    },
    {
      "cell_type": "markdown",
      "id": "0f4fd1cc-1a13-4897-ab63-0ab1f64b80b5",
      "metadata": {
        "id": "0f4fd1cc-1a13-4897-ab63-0ab1f64b80b5"
      },
      "source": [
        "### Printing the model summary\n",
        "The model’s summary() method displays all the model’s layers, including each layer’s\n",
        "name (which is automatically generated unless you set it when creating the layer), its output shape (None means the batch size can be anything), and its number of parameters. The summary ends with the total number of parameters, including trainable and non-trainable parameters. Here we only have trainable parameters (we will see examples of non-trainable parameters later when doing some transfer learning):"
      ]
    },
    {
      "cell_type": "code",
      "execution_count": null,
      "id": "5efbd125-a21a-46b2-ba34-4b62f402749d",
      "metadata": {
        "id": "5efbd125-a21a-46b2-ba34-4b62f402749d"
      },
      "outputs": [],
      "source": [
        "model.summary()"
      ]
    },
    {
      "cell_type": "markdown",
      "id": "377a5391-1926-470c-b7b5-7c18d4c938f8",
      "metadata": {
        "id": "377a5391-1926-470c-b7b5-7c18d4c938f8"
      },
      "source": [
        "You can use the utility function `keras.utils.plot_model` to visualize a graph of the network you just created:"
      ]
    },
    {
      "cell_type": "code",
      "execution_count": null,
      "id": "25b4d060-d3d2-4ca3-8a76-1a312896d920",
      "metadata": {
        "id": "25b4d060-d3d2-4ca3-8a76-1a312896d920"
      },
      "outputs": [],
      "source": [
        "keras.utils.plot_model(model, \"my_fashion_mnist_model.png\", show_shapes=True)"
      ]
    },
    {
      "cell_type": "markdown",
      "id": "a2d2f73e-8eac-4d11-b87b-f5cc1ce5c3b6",
      "metadata": {
        "id": "a2d2f73e-8eac-4d11-b87b-f5cc1ce5c3b6"
      },
      "source": [
        "## Compile the model\n",
        "\n",
        "After a model is created, you must call its compile() method to specify the loss function and the optimizer to use. Optionally, you can specify a list of extra metrics to compute during training and evaluation:"
      ]
    },
    {
      "cell_type": "code",
      "execution_count": null,
      "id": "9956f792-08c8-424f-983e-62b6d1662614",
      "metadata": {
        "id": "9956f792-08c8-424f-983e-62b6d1662614"
      },
      "outputs": [],
      "source": [
        "model.compile(loss=\"sparse_categorical_crossentropy\",\n",
        "              optimizer=\"sgd\",\n",
        "              metrics=[\"accuracy\"])"
      ]
    },
    {
      "cell_type": "markdown",
      "id": "4591dca0-442a-4f9c-a6bd-41b88ff6ded3",
      "metadata": {
        "id": "4591dca0-442a-4f9c-a6bd-41b88ff6ded3"
      },
      "source": [
        "This is equivalent to:"
      ]
    },
    {
      "cell_type": "markdown",
      "id": "c2aeff70-c6b0-448b-b3c9-ca4bfbc82403",
      "metadata": {
        "id": "c2aeff70-c6b0-448b-b3c9-ca4bfbc82403"
      },
      "source": [
        "```python\n",
        "model.compile(loss=keras.losses.sparse_categorical_crossentropy,\n",
        "              optimizer=keras.optimizers.SGD(),\n",
        "              metrics=[keras.metrics.sparse_categorical_accuracy])\n",
        "```"
      ]
    },
    {
      "cell_type": "markdown",
      "id": "fc452ed2-a0b7-4a93-b204-ab702342bc88",
      "metadata": {
        "id": "fc452ed2-a0b7-4a93-b204-ab702342bc88"
      },
      "source": [
        "We need to use the `sparse` version of the categorical cross entropy because our labels are not one-hot encoded:"
      ]
    },
    {
      "cell_type": "code",
      "execution_count": null,
      "id": "475b733a-f4ff-444c-bdc9-1f68fafdbc8f",
      "metadata": {
        "id": "475b733a-f4ff-444c-bdc9-1f68fafdbc8f"
      },
      "outputs": [],
      "source": [
        "y_train[:10]"
      ]
    },
    {
      "cell_type": "markdown",
      "id": "deeca30e-578e-4292-a947-438c5ba1b549",
      "metadata": {
        "id": "deeca30e-578e-4292-a947-438c5ba1b549"
      },
      "source": [
        "If they were already encoded, we would use `categorical_crossentropy` directly."
      ]
    },
    {
      "cell_type": "markdown",
      "id": "734c61ea-a454-466a-a507-e80474e3d421",
      "metadata": {
        "id": "734c61ea-a454-466a-a507-e80474e3d421"
      },
      "source": [
        "You can change set SGD's learning rate during the call to compile:\n",
        "```python\n",
        "model.compile(loss=keras.losses.sparse_categorical_crossentropy,\n",
        "              optimizer=keras.optimizers.SGD(lr=0.01),\n",
        "              metrics=[keras.metrics.sparse_categorical_accuracy])\n",
        "```"
      ]
    },
    {
      "cell_type": "markdown",
      "id": "904f35bd-3f04-47ca-ac63-6f2feb39d4d9",
      "metadata": {
        "id": "904f35bd-3f04-47ca-ac63-6f2feb39d4d9"
      },
      "source": [
        "Or you can change it later by acessing `model.optimizer`:"
      ]
    },
    {
      "cell_type": "code",
      "execution_count": null,
      "id": "d2ca10f7-7a0d-4dfb-a9db-53ce8f278f2e",
      "metadata": {
        "id": "d2ca10f7-7a0d-4dfb-a9db-53ce8f278f2e"
      },
      "outputs": [],
      "source": [
        "model.optimizer.learning_rate = 0.01"
      ]
    },
    {
      "cell_type": "markdown",
      "id": "ccd596f9-3cfe-4d58-b1eb-5d9cc4825a31",
      "metadata": {
        "id": "ccd596f9-3cfe-4d58-b1eb-5d9cc4825a31"
      },
      "source": [
        "## Training the model"
      ]
    },
    {
      "cell_type": "markdown",
      "id": "04b13251-71d1-47ab-8d81-a7f7ff7099bd",
      "metadata": {
        "id": "04b13251-71d1-47ab-8d81-a7f7ff7099bd"
      },
      "source": [
        "Now the model is ready to be trained. For this we simply need to call its fit() method.\n",
        "\n",
        "As arguments, we provide the training samples and labels. We can also set some keyword arguments adjust the training procedure:"
      ]
    },
    {
      "cell_type": "code",
      "execution_count": null,
      "id": "3a3a96a8-6558-4a6e-90fd-738ecea69f32",
      "metadata": {
        "id": "3a3a96a8-6558-4a6e-90fd-738ecea69f32",
        "tags": []
      },
      "outputs": [],
      "source": [
        "history = model.fit(X_train, y_train, epochs=3,\n",
        "                    validation_data=(X_valid, y_valid))"
      ]
    },
    {
      "cell_type": "code",
      "execution_count": null,
      "id": "bVywAI5u20Gi",
      "metadata": {
        "id": "bVywAI5u20Gi"
      },
      "outputs": [],
      "source": [
        "?model.fit"
      ]
    },
    {
      "cell_type": "markdown",
      "id": "56f05326-710b-416c-9bcd-db5bc1834f66",
      "metadata": {
        "id": "56f05326-710b-416c-9bcd-db5bc1834f66"
      },
      "source": [
        "### Plotting learning curves\n",
        "`model.fit` returns a history object that logs loss values for training and validation sets, as well as accuracy values (because we set it as a metric during the `compile` step)."
      ]
    },
    {
      "cell_type": "code",
      "execution_count": null,
      "id": "67f345e8-dc68-457c-a84c-678baccc96d8",
      "metadata": {
        "id": "67f345e8-dc68-457c-a84c-678baccc96d8"
      },
      "outputs": [],
      "source": [
        "history.params"
      ]
    },
    {
      "cell_type": "code",
      "execution_count": null,
      "id": "da92dde3-45ce-4d13-8864-f050423d6d3f",
      "metadata": {
        "id": "da92dde3-45ce-4d13-8864-f050423d6d3f"
      },
      "outputs": [],
      "source": [
        "history.epoch"
      ]
    },
    {
      "cell_type": "code",
      "execution_count": null,
      "id": "9162d327-9f60-4c9a-9672-f97b6df5bf66",
      "metadata": {
        "id": "9162d327-9f60-4c9a-9672-f97b6df5bf66"
      },
      "outputs": [],
      "source": [
        "history.history.keys()"
      ]
    },
    {
      "cell_type": "code",
      "execution_count": null,
      "id": "RLNQI0L8ZXbw",
      "metadata": {
        "id": "RLNQI0L8ZXbw"
      },
      "outputs": [],
      "source": [
        "def plot_learning_curves(history):\n",
        "    df = pd.DataFrame(history.history, index=np.array(history.epoch)+1)\n",
        "    df.plot(figsize=(8, 5), fontsize=12)\n",
        "    plt.grid(True)\n",
        "    plt.gca().set_ylim(0, 1)\n",
        "    plt.xlabel('epochs', fontsize=12)\n",
        "    plt.title ('learning curves', fontsize=12)\n",
        "    plt.legend(fontsize=12)\n",
        "    plt.show()"
      ]
    },
    {
      "cell_type": "code",
      "execution_count": null,
      "id": "6e0be8d2-911a-4761-b630-1ad26dcdde32",
      "metadata": {
        "id": "6e0be8d2-911a-4761-b630-1ad26dcdde32"
      },
      "outputs": [],
      "source": [
        "plot_learning_curves(history)"
      ]
    },
    {
      "cell_type": "markdown",
      "id": "78666f23-fb35-44f8-8e80-dd8c420d088d",
      "metadata": {
        "id": "78666f23-fb35-44f8-8e80-dd8c420d088d"
      },
      "source": [
        "## Evaluating and making predictions on the test set\n",
        "\n",
        "You can use the methods `model.evaluate` and `model.predict` on the test set:"
      ]
    },
    {
      "cell_type": "code",
      "execution_count": null,
      "id": "e8289124-d4df-4fc1-ae74-7da77b8e5872",
      "metadata": {
        "id": "e8289124-d4df-4fc1-ae74-7da77b8e5872"
      },
      "outputs": [],
      "source": [
        "model.evaluate(X_test, y_test)"
      ]
    },
    {
      "cell_type": "code",
      "execution_count": null,
      "id": "4a1d0832-83e1-436f-a46e-2eb1cb3ba237",
      "metadata": {
        "id": "4a1d0832-83e1-436f-a46e-2eb1cb3ba237"
      },
      "outputs": [],
      "source": [
        "y_proba = model.predict(X_test)"
      ]
    },
    {
      "cell_type": "markdown",
      "id": "236cedec",
      "metadata": {
        "id": "236cedec"
      },
      "source": [
        "Let's see the predictions for the first 3 images:"
      ]
    },
    {
      "cell_type": "code",
      "execution_count": null,
      "id": "7ab398e4",
      "metadata": {
        "id": "7ab398e4"
      },
      "outputs": [],
      "source": [
        "y_proba.round(2)[:3,:]"
      ]
    },
    {
      "cell_type": "code",
      "execution_count": null,
      "id": "9432ec2d-7522-4581-b227-aa49788001f6",
      "metadata": {
        "id": "9432ec2d-7522-4581-b227-aa49788001f6"
      },
      "outputs": [],
      "source": [
        "# First 3 images\n",
        "plt.figure(figsize=(7.2, 2.4))\n",
        "for index, image in enumerate(X_test[:3]):\n",
        "    plt.subplot(1, 3, index + 1)\n",
        "    plt.imshow(image, cmap=\"binary\", interpolation=\"nearest\")\n",
        "    plt.axis('off')\n",
        "    plt.title(class_names[y_test[index]], fontsize=12)\n",
        "plt.subplots_adjust(wspace=0.2, hspace=0.5)\n",
        "plt.show()"
      ]
    },
    {
      "cell_type": "markdown",
      "id": "1891f54f-4fc5-4ac3-bf57-ea678a2059e3",
      "metadata": {
        "id": "1891f54f-4fc5-4ac3-bf57-ea678a2059e3"
      },
      "source": [
        "The model outputs a vector per sample, containing the predicted class distributions. You can obtain most likely class id by finding the one with the highest probability:"
      ]
    },
    {
      "cell_type": "code",
      "execution_count": null,
      "id": "a2392578-b263-4f3f-94d6-1069eb242ee2",
      "metadata": {
        "id": "a2392578-b263-4f3f-94d6-1069eb242ee2"
      },
      "outputs": [],
      "source": [
        "y_pred = np.argmax(model.predict(X_test), axis=-1)\n",
        "y_pred[:3]"
      ]
    },
    {
      "cell_type": "markdown",
      "id": "Hg6qOEaEP1Se",
      "metadata": {
        "id": "Hg6qOEaEP1Se"
      },
      "source": [
        "### TODO: Check your predicitons\n",
        "Print the corresponding labels for these predictions and check if they are correct"
      ]
    },
    {
      "cell_type": "code",
      "execution_count": null,
      "id": "f9a91a07-8026-4779-a45c-b00539504271",
      "metadata": {
        "id": "f9a91a07-8026-4779-a45c-b00539504271"
      },
      "outputs": [],
      "source": [
        "# TODO your code here\n"
      ]
    },
    {
      "cell_type": "markdown",
      "id": "_K-B1JsGN_mr",
      "metadata": {
        "id": "_K-B1JsGN_mr"
      },
      "source": [
        "### Plotting predicted class distributions\n",
        "\n",
        "Here is some useful plotting code to visualize images alongside their predicted probabilities."
      ]
    },
    {
      "cell_type": "code",
      "execution_count": null,
      "id": "f753a1f0-a610-431b-8ae1-26221eedb2a9",
      "metadata": {
        "id": "f753a1f0-a610-431b-8ae1-26221eedb2a9"
      },
      "outputs": [],
      "source": [
        "def plot_image(i, predictions, true_label, img):\n",
        "    true_label, img = true_label[i], img[i]\n",
        "    pred_probas = predictions[i]\n",
        "    plt.grid(False)\n",
        "    plt.xticks([])\n",
        "    plt.yticks([])\n",
        "\n",
        "    plt.imshow(img, cmap=plt.cm.binary)\n",
        "\n",
        "    predicted_label = np.argmax(pred_probas)\n",
        "    if predicted_label == true_label:\n",
        "        color = 'blue'\n",
        "    else:\n",
        "        color = 'red'\n",
        "\n",
        "    xlabel = \"{} {:2.0f}% ({})\".format(class_names[predicted_label],\n",
        "                                100*np.max(pred_probas),\n",
        "                                class_names[true_label])\n",
        "    plt.xlabel(xlabel, color=color, fontsize=12)\n",
        "\n",
        "def plot_probas(i, predictions, true_label):\n",
        "    # Color correct predictions in blue and incorrect predictions in red.\n",
        "    true_label = true_label[i]\n",
        "    pred_probas = predictions[i]\n",
        "    plt.grid(False)\n",
        "    plt.xticks(range(10), labels=class_names, rotation=90, fontsize=12)\n",
        "    plt.yticks([])\n",
        "    thisplot = plt.bar(range(10), pred_probas, color=\"#777777\")\n",
        "    plt.ylim([0, 1])\n",
        "    predicted_label = np.argmax(pred_probas)\n",
        "\n",
        "    thisplot[predicted_label].set_color('red')\n",
        "    thisplot[true_label].set_color('blue')\n",
        "\n",
        "def plot_image_with_preds(i, X_test, y_test, y_proba):\n",
        "    plt.figure(figsize=(8,4))\n",
        "    plt.subplot(1,2,1)\n",
        "    plot_image(i, y_proba, y_test, X_test)\n",
        "    plt.subplot(1,2,2)\n",
        "    plot_probas(i, y_proba,  y_test)\n",
        "    "
      ]
    },
    {
      "cell_type": "code",
      "execution_count": null,
      "id": "f0e71164-6e58-4690-8b0d-5f82b8c86808",
      "metadata": {
        "id": "f0e71164-6e58-4690-8b0d-5f82b8c86808",
        "tags": []
      },
      "outputs": [],
      "source": [
        "i = 1\n",
        "plot_image_with_preds(i, X_test, y_test, y_proba)\n",
        "plt.show()"
      ]
    },
    {
      "cell_type": "code",
      "execution_count": null,
      "id": "912595a4-be19-4970-99f1-974a60e77abf",
      "metadata": {
        "id": "912595a4-be19-4970-99f1-974a60e77abf"
      },
      "outputs": [],
      "source": [
        "i = 12\n",
        "plot_image_with_preds(i, X_test, y_test, y_proba)\n",
        "plt.show()"
      ]
    },
    {
      "cell_type": "markdown",
      "id": "a0a49060-7863-4731-8e74-e0b424b194b8",
      "metadata": {
        "id": "a0a49060-7863-4731-8e74-e0b424b194b8"
      },
      "source": [
        "Let's plot several images with their predictions. Note that the model can be wrong even when very confident."
      ]
    },
    {
      "cell_type": "code",
      "execution_count": null,
      "id": "ad3ad800-2477-44c4-ac7d-218eb2b0f869",
      "metadata": {
        "id": "ad3ad800-2477-44c4-ac7d-218eb2b0f869"
      },
      "outputs": [],
      "source": [
        "# Plot the first X test images, their predicted labels, and the true labels.\n",
        "num_rows = 5\n",
        "num_cols = 2\n",
        "num_images = num_rows*num_cols\n",
        "plt.figure(figsize=(2*3*num_cols, 3*num_rows))\n",
        "for i in range(num_images):\n",
        "    plt.subplot(num_rows, 2*num_cols, 2*i+1)\n",
        "    plot_image(i, y_proba, y_test, X_test)\n",
        "    plt.subplot(num_rows, 2*num_cols, 2*i+2)\n",
        "    plot_probas(i, y_proba, y_test)\n",
        "plt.tight_layout()\n",
        "plt.show()"
      ]
    },
    {
      "cell_type": "markdown",
      "id": "e800149f-cc23-4394-b577-c8cbaf347489",
      "metadata": {
        "id": "e800149f-cc23-4394-b577-c8cbaf347489"
      },
      "source": [
        "## Using Callbacks during Training\n",
        "The `fit()` method accepts a `callbacks` argument that lets you specify a list of objects that Keras will call at the start and end of training, at the start and end of each epoch, and even before and after processing each batch. For example, the `ModelCheckpoint` callback saves checkpoints of your model at regular intervals during training, by default at the end of each epoch:"
      ]
    },
    {
      "cell_type": "code",
      "execution_count": null,
      "id": "DfMdErwxSXR2",
      "metadata": {
        "id": "DfMdErwxSXR2"
      },
      "outputs": [],
      "source": [
        "checkpoint_cb = keras.callbacks.ModelCheckpoint(\"my_keras_model.h5\", save_best_only=True)"
      ]
    },
    {
      "cell_type": "markdown",
      "id": "cKEuL4H1TubP",
      "metadata": {
        "id": "cKEuL4H1TubP"
      },
      "source": [
        "With the `save_best_only` parameter set, only the weights corresponding to the best model on validaiton are kept. This allows us to easily rollback to the best model after some epochs of training:\n",
        "``` python\n",
        "history = model.fit(X_train, y_train, epochs=10,\n",
        "                    validation_data=(X_valid, y_valid),\n",
        "                    callbacks=[checkpoint_cb])\n",
        "model = keras.models.load_model(\"my_keras_model.h5\") # rollback to best model\n",
        "acc_test = model.evaluate(X_test, y_test)\n",
        "```"
      ]
    },
    {
      "cell_type": "markdown",
      "id": "ccB83lghUcl2",
      "metadata": {
        "id": "ccB83lghUcl2"
      },
      "source": [
        "Callbacks can be used to implement early stopping and learning rate decay schedules. It is also possible to sub-class `keras.callbacks.Callback` and implement your own custom callback. You can check a list of the available callbacks in the [tf.keras docs](https://www.tensorflow.org/api_docs/python/tf/keras/callbacks) or in the [keras.io docs](https://keras.io/api/callbacks/)."
      ]
    },
    {
      "cell_type": "code",
      "execution_count": null,
      "id": "CbpjNnlLVWOR",
      "metadata": {
        "id": "CbpjNnlLVWOR"
      },
      "outputs": [],
      "source": [
        "early_stopping_cb = keras.callbacks.EarlyStopping(monitor='val_loss', patience=10, restore_best_weights=True)\n",
        "lr_cb = keras.callbacks.ReduceLROnPlateau(monitor=\"loss\", patience=10)"
      ]
    },
    {
      "cell_type": "markdown",
      "id": "OqWlkibjgjwL",
      "metadata": {
        "id": "OqWlkibjgjwL"
      },
      "source": [
        "We will also use a callback to log metrics for visualization with Tensorboard:"
      ]
    },
    {
      "cell_type": "code",
      "execution_count": null,
      "id": "iUKbV9SsgwPp",
      "metadata": {
        "id": "iUKbV9SsgwPp"
      },
      "outputs": [],
      "source": [
        "root_logdir = os.path.join(os.curdir, \"my_logs\")\n",
        "def get_run_logdir():\n",
        "    import time\n",
        "    run_id = time.strftime(\"run_%Y.%m.%d_%H:%M:%S\")\n",
        "    return os.path.join(root_logdir, run_id)\n",
        "\n",
        "run_logdir = get_run_logdir()\n",
        "run_logdir\n",
        "# callback creation\n",
        "tensorboard_cb = keras.callbacks.TensorBoard(run_logdir)"
      ]
    },
    {
      "cell_type": "markdown",
      "id": "124321f1-b711-4140-a5d0-3ff78716b1bc",
      "metadata": {
        "id": "124321f1-b711-4140-a5d0-3ff78716b1bc"
      },
      "source": [
        "### TensorBoard\n",
        "Tensorboard is a tool allowing visualization of metrics logged during the training of a model. You can use it within colab (or jupyter) by loading the tensorboard extension:"
      ]
    },
    {
      "cell_type": "code",
      "execution_count": null,
      "id": "dhpOFCIlfcGI",
      "metadata": {
        "id": "dhpOFCIlfcGI"
      },
      "outputs": [],
      "source": [
        "# Load the TensorBoard notebook extension\n",
        "%load_ext tensorboard"
      ]
    },
    {
      "cell_type": "markdown",
      "id": "khmgzj_nfzeX",
      "metadata": {
        "id": "khmgzj_nfzeX"
      },
      "source": [
        "To start TensorBoard within the notebook, use the dedicated magic command (you need to give the same root log directory passed to the tensorboard callback):"
      ]
    },
    {
      "cell_type": "code",
      "execution_count": null,
      "id": "E7XOvvFGfo7u",
      "metadata": {
        "id": "E7XOvvFGfo7u"
      },
      "outputs": [],
      "source": [
        "%tensorboard --logdir my_logs"
      ]
    },
    {
      "cell_type": "markdown",
      "id": "4IJA52Qif6kI",
      "metadata": {
        "id": "4IJA52Qif6kI"
      },
      "source": [
        "You can now view dashboards such as scalars, graphs, histograms, and others. If you launch new runs using the tensorboard callback (which is linked to this log directory `my_logs`) they should apear in the interface imediately, allowing you live monitoring the evolution of your training.\n"
      ]
    },
    {
      "cell_type": "markdown",
      "id": "QP-oLPDSV6dk",
      "metadata": {
        "id": "QP-oLPDSV6dk"
      },
      "source": [
        "### TODO: retrain model with callbacks\n",
        "Let's train our model for a longer number of epochs using all the previous callbacks. \n",
        "You can set a large number of epochs since early stopping is in place. Plot the learning curves and decide if your model is underfitting or overfitting."
      ]
    },
    {
      "cell_type": "code",
      "execution_count": null,
      "id": "OvG58PTGTq5x",
      "metadata": {
        "id": "OvG58PTGTq5x"
      },
      "outputs": [],
      "source": [
        "history = model.fit(\n",
        "    # TODO your code here\n",
        ")\n",
        "model = keras.models.load_model(\"my_keras_model.h5\") # rollback to best model\n",
        "\n",
        "acc_test = model.evaluate(X_test, y_test)"
      ]
    },
    {
      "cell_type": "code",
      "execution_count": null,
      "id": "h8Bx2A3WeoNC",
      "metadata": {
        "id": "h8Bx2A3WeoNC"
      },
      "outputs": [],
      "source": [
        "plot_learning_curves(history)"
      ]
    },
    {
      "cell_type": "markdown",
      "id": "ebd99c7e-4acf-4b4d-8b32-75c9a7b47d31",
      "metadata": {
        "id": "ebd99c7e-4acf-4b4d-8b32-75c9a7b47d31"
      },
      "source": [
        "### TODO: check your model quality on out-of-set images\n",
        "Now we test our model on a clothing item image from the web.\n",
        "\n"
      ]
    },
    {
      "cell_type": "code",
      "execution_count": null,
      "id": "509905f2-bf16-4c0d-aefa-6a8003af1799",
      "metadata": {
        "id": "509905f2-bf16-4c0d-aefa-6a8003af1799"
      },
      "outputs": [],
      "source": [
        "import urllib\n",
        "from skimage.io import imread\n",
        "from skimage.transform import resize\n",
        "\n",
        "# insert the URL to an image file here\n",
        "img_src = 'https://i.pinimg.com/736x/b5/b7/3e/b5b73ef74c015829bcaddfeb86081817--tee-shirt-dresses-tee-shirts.jpg'\n",
        "\n",
        "# Download image\n",
        "urllib.request.urlretrieve(img_src, 't-shirt-dress.jpg')\n",
        "\n",
        "# Open file and display\n",
        "image = imread('t-shirt-dress.jpg', as_gray=True) \n",
        "\n",
        "# Plot the image\n",
        "plt.imshow(image, cmap='binary')\n",
        "plt.colorbar()"
      ]
    },
    {
      "cell_type": "markdown",
      "id": "_Tzz0rJAl2HL",
      "metadata": {
        "id": "_Tzz0rJAl2HL"
      },
      "source": [
        "\n",
        "**Important**: remember your model takes in grayscale images of 28 by 28 pixels. Remember as well that pixel values were rescaled to be between 0 and 1: ensure the new image pixel values are scaled to the same range."
      ]
    },
    {
      "cell_type": "code",
      "execution_count": null,
      "id": "afe26096-91df-444f-89f3-49897bac49b8",
      "metadata": {
        "id": "afe26096-91df-444f-89f3-49897bac49b8"
      },
      "outputs": [],
      "source": [
        "# TODO apply MinMax scaling to the image\n",
        "image = ... # TODO your code here\n",
        "\n",
        "# TODO Resize image so it is 28 x 28 pixels\n",
        "image = resize(...) # TODO your code here\n",
        "\n",
        "# Plot the transformed image\n",
        "plt.imshow(image, cmap='binary')\n",
        "plt.colorbar()"
      ]
    },
    {
      "cell_type": "markdown",
      "id": "R613n-uekUsU",
      "metadata": {
        "id": "R613n-uekUsU"
      },
      "source": [
        "In case your image has black instead of white background,  you need to reverse the colors: black should become white and white shouls become black. Complete the code bellow to do that:"
      ]
    },
    {
      "cell_type": "code",
      "execution_count": null,
      "id": "Vwuww9BpRqtZ",
      "metadata": {
        "id": "Vwuww9BpRqtZ"
      },
      "outputs": [],
      "source": [
        "# TODO Invert black and white\n",
        "image = ... # TODO your code here\n",
        "\n",
        "# now the image has white background\n",
        "plt.imshow(image, cmap='binary')\n",
        "plt.colorbar()"
      ]
    },
    {
      "cell_type": "markdown",
      "id": "ikw0gDBpiJdm",
      "metadata": {
        "id": "ikw0gDBpiJdm"
      },
      "source": [
        "Checking the class_names array again:"
      ]
    },
    {
      "cell_type": "code",
      "execution_count": null,
      "id": "f695adc1-9136-4b01-a572-aab748cf5fc7",
      "metadata": {
        "id": "f695adc1-9136-4b01-a572-aab748cf5fc7"
      },
      "outputs": [],
      "source": [
        "class_names "
      ]
    },
    {
      "cell_type": "markdown",
      "id": "UUW5WW3biMyS",
      "metadata": {
        "id": "UUW5WW3biMyS"
      },
      "source": [
        "We can say the predicted class id should be 3:"
      ]
    },
    {
      "cell_type": "code",
      "execution_count": null,
      "id": "b5e5f797-46f2-4b11-b177-ea088b8d5901",
      "metadata": {
        "id": "b5e5f797-46f2-4b11-b177-ea088b8d5901"
      },
      "outputs": [],
      "source": [
        "true_label = [3]"
      ]
    },
    {
      "cell_type": "markdown",
      "id": "ailDys5Qi33_",
      "metadata": {
        "id": "ailDys5Qi33_"
      },
      "source": [
        "Let's see if the model gets it right:"
      ]
    },
    {
      "cell_type": "code",
      "execution_count": null,
      "id": "c8784889-d2ea-4a26-8ec4-700ba685a7eb",
      "metadata": {
        "id": "c8784889-d2ea-4a26-8ec4-700ba685a7eb",
        "tags": []
      },
      "outputs": [],
      "source": [
        "# load model weights\n",
        "model = keras.models.load_model(\"my_keras_model.h5\") # rollback to best model\n",
        "# add batch dimension to image\n",
        "image = image.reshape((1, 28, 28))\n",
        "# compute predictions\n",
        "y_proba = model.predict(image)\n",
        "y_proba.round(3)"
      ]
    },
    {
      "cell_type": "code",
      "execution_count": null,
      "id": "pNJn59QoiaL0",
      "metadata": {
        "id": "pNJn59QoiaL0"
      },
      "outputs": [],
      "source": [
        "pred_label = y_proba.argmax()\n",
        "print(f\"Predicted class was {class_names[pred_label]} (id {pred_label})\")"
      ]
    },
    {
      "cell_type": "markdown",
      "id": "wcVpEV3oiSTG",
      "metadata": {
        "id": "wcVpEV3oiSTG"
      },
      "source": [
        "Let us now plot the image along with its predicted probabilities:"
      ]
    },
    {
      "cell_type": "code",
      "execution_count": null,
      "id": "71a542e8-7ffa-4a0e-9d4a-70b5029ac89a",
      "metadata": {
        "id": "71a542e8-7ffa-4a0e-9d4a-70b5029ac89a"
      },
      "outputs": [],
      "source": [
        "plot_image_with_preds(0, image, true_label, y_proba)\n",
        "plt.show()"
      ]
    },
    {
      "cell_type": "markdown",
      "id": "VmHBdOqnlczl",
      "metadata": {
        "id": "VmHBdOqnlczl"
      },
      "source": [
        "### TODO Your turn testing on downloaded images\n",
        "Search online for other clothing item images that you can download and submit to your model. How well does it perform?\n"
      ]
    },
    {
      "cell_type": "markdown",
      "id": "NzqXXjzL4O6-",
      "metadata": {
        "id": "NzqXXjzL4O6-"
      },
      "source": [
        "## Exercise: training an NN on MNIST\n",
        "Train a similar MLP on the MNIST dataset (you can load it using `keras.datasets.mnist.load_data()`. See if you can get over 98% precision. \n",
        "\n",
        "- Try searching for the optimal learning rate by using the approach presented in class (i.e., by growing the learning rate exponentially, plotting the loss, and finding the point where the loss shoots up). \n",
        "\n",
        "  - Create a custom callback that will raise the learning rate by a factor (say, 5%) after each iteration (i.e. after each batch is processed). Check the documentation [here](https://keras.io/guides/writing_your_own_callbacks/) to see examples of how to create your own callback.\n",
        "\n",
        "- Try adding all the bells and whistles: save checkpoints, use early stopping, and plot learning curves using TensorBoard.\n",
        "\n",
        "- Visualize predictions for the test set and explore the mistakes your model makes."
      ]
    },
    {
      "cell_type": "code",
      "execution_count": null,
      "id": "YLspgp1xi_yc",
      "metadata": {
        "id": "YLspgp1xi_yc"
      },
      "outputs": [],
      "source": [
        "(X_train_full, y_train_full), (X_test, y_test) = keras.datasets.mnist.load_data()"
      ]
    }
  ],
  "metadata": {
    "accelerator": "GPU",
    "colab": {
      "collapsed_sections": [
        "d41488ec-9ab7-4062-8efc-ce35608dd689"
      ],
      "name": "LabAssignement2_complet.ipynb",
      "provenance": [],
      "toc_visible": true,
      "include_colab_link": true
    },
    "kernelspec": {
      "display_name": "Python 3",
      "name": "python3"
    },
    "language_info": {
      "name": "python"
    },
    "toc-autonumbering": true
  },
  "nbformat": 4,
  "nbformat_minor": 5
}