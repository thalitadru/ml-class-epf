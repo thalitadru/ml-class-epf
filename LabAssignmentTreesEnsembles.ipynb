{
  "cells": [
    {
      "cell_type": "markdown",
      "metadata": {
        "colab_type": "text",
        "id": "view-in-github"
      },
      "source": [
        "<a href=\"https://colab.research.google.com/github/thalitadru/ml-class-epf/blob/main/LabAssignmentTreesEnsembles.ipynb\" target=\"_parent\"><img src=\"https://colab.research.google.com/assets/colab-badge.svg\" alt=\"Open In Colab\"/></a>"
      ]
    },
    {
      "cell_type": "markdown",
      "metadata": {
        "id": "ZOJg0qAE0-Ql"
      },
      "source": [
        "# Exercices\n",
        "You have 6 exercises in this lab assignment, 3 of which are optional. \n",
        "\n",
        "**Note**: Use `random_seed=42` so we all get the same results."
      ]
    },
    {
      "cell_type": "markdown",
      "metadata": {
        "id": "RPLM2m6Ph9NR"
      },
      "source": [
        "*Credits:* Based on [code written by A. Géron](https://github.com/ageron/handson-ml2) for his book \"\"Hands-on ML with scikit-learn, keras and tensorflow.\", 2nd edition 2019, O'Reilly Media. Code realeased under [Apache-2.0 License](https://github.com/ageron/handson-ml2/blob/master/LICENSE)."
      ]
    },
    {
      "cell_type": "code",
      "execution_count": null,
      "metadata": {
        "id": "h13UMb-Dh9rl"
      },
      "outputs": [],
      "source": [
        "import matplotlib.pyplot as plt\n",
        "import sklearn\n",
        "import numpy as np\n",
        "import pandas as pd\n",
        "import seaborn as sns\n",
        "import scipy as sp\n",
        "from scipy import stats\n"
      ]
    },
    {
      "cell_type": "markdown",
      "metadata": {},
      "source": [
        "## Exercise 1: Imbalanced classification with tree ensembles"
      ]
    },
    {
      "cell_type": "markdown",
      "metadata": {},
      "source": [
        "### Data\n",
        "[Predict students' dropout and academic success](https://archive.ics.uci.edu/dataset/697/predict+students+dropout+and+academic+success)"
      ]
    },
    {
      "cell_type": "code",
      "execution_count": null,
      "metadata": {},
      "outputs": [
        {
          "data": {
            "text/plain": [
              "{'uci_id': 697,\n",
              " 'name': \"Predict students' dropout and academic success\",\n",
              " 'repository_url': 'https://archive.ics.uci.edu/dataset/697/predict+students+dropout+and+academic+success',\n",
              " 'data_url': 'https://archive.ics.uci.edu/static/public/697/data.csv',\n",
              " 'abstract': \"A dataset created from a higher education institution (acquired from several disjoint databases) related to students enrolled in different undergraduate degrees, such as agronomy, design, education, nursing, journalism, management, social service, and technologies.\\nThe dataset includes information known at the time of student enrollment (academic path, demographics, and social-economic factors) and the students' academic performance at the end of the first and second semesters. \\nThe data is used to build classification models to predict students' dropout and academic sucess. The problem is formulated as a three category classification task, in which there is a strong imbalance towards one of the classes.\",\n",
              " 'area': 'Other',\n",
              " 'tasks': ['Classification'],\n",
              " 'characteristics': ['Tabular'],\n",
              " 'num_instances': 4424,\n",
              " 'num_features': 36,\n",
              " 'feature_types': [],\n",
              " 'demographics': ['Marital Status',\n",
              "  'Education Level',\n",
              "  'Nationality',\n",
              "  'Occupation',\n",
              "  'Gender',\n",
              "  'Age'],\n",
              " 'target_col': ['Target'],\n",
              " 'index_col': None,\n",
              " 'has_missing_values': 'no',\n",
              " 'missing_values_symbol': None,\n",
              " 'year_of_dataset_creation': 2021,\n",
              " 'last_updated': 'Mon Aug 28 2023',\n",
              " 'dataset_doi': '10.24432/C5MC89',\n",
              " 'creators': ['Valentim Realinho',\n",
              "  'Mónica Vieira Martins',\n",
              "  'Jorge Machado',\n",
              "  'Luís Baptista'],\n",
              " 'intro_paper': {'title': \"Early prediction of student's performance in higher education: a case study\",\n",
              "  'authors': 'Mónica V. Martins, Daniel Tolledo, Jorge Machado, Luís M. T. Baptista, and Valentim Realinho',\n",
              "  'published_in': 'Trends and Applications in Information Systems and Technologies',\n",
              "  'year': 2021,\n",
              "  'url': 'http://www.worldcist.org/2021/',\n",
              "  'doi': 'http://www.doi.org/10.1007/978-3-030-72657-7_16'},\n",
              " 'additional_info': {'summary': None,\n",
              "  'purpose': 'The dataset was created in a project that aims to contribute to the reduction of academic dropout and failure in higher education, by using machine learning techniques to identify students at risk at an early stage of their academic path, so that strategies to support them can be put into place. \\n\\nThe dataset includes information known at the time of student enrollment – academic path, demographics, and social-economic factors. \\n\\nThe problem is formulated as a three category classification task (dropout, enrolled, and graduate) at the end of the normal duration of the course. \\n',\n",
              "  'funded_by': 'This dataset is supported by program SATDAP - Capacitação da Administração Pública under grant POCI-05-5762-FSE-000191, Portugal.',\n",
              "  'instances_represent': 'Each instance is a student',\n",
              "  'recommended_data_splits': 'The dataset was used, in our project, with a data split of 80% for training and 20% for test.',\n",
              "  'sensitive_data': None,\n",
              "  'preprocessing_description': 'We performed a rigorous data preprocessing to handle data from anomalies, unexplainable outliers, and missing values.',\n",
              "  'variable_info': None,\n",
              "  'citation': 'If you use this dataset in experiments for a scientific publication, please kindly cite our paper: \\nM.V.Martins, D. Tolledo, J. Machado, L. M.T. Baptista, V.Realinho. (2021) \"Early prediction of student’s performance in higher education: a case study\" Trends and Applications in Information Systems and Technologies, vol.1, in Advances in Intelligent Systems and Computing series. Springer. DOI: 10.1007/978-3-030-72657-7_16'}}"
            ]
          },
          "metadata": {},
          "output_type": "display_data"
        },
        {
          "data": {
            "text/html": [
              "<div>\n",
              "<style scoped>\n",
              "    .dataframe tbody tr th:only-of-type {\n",
              "        vertical-align: middle;\n",
              "    }\n",
              "\n",
              "    .dataframe tbody tr th {\n",
              "        vertical-align: top;\n",
              "    }\n",
              "\n",
              "    .dataframe thead th {\n",
              "        text-align: right;\n",
              "    }\n",
              "</style>\n",
              "<table border=\"1\" class=\"dataframe\">\n",
              "  <thead>\n",
              "    <tr style=\"text-align: right;\">\n",
              "      <th></th>\n",
              "      <th>name</th>\n",
              "      <th>role</th>\n",
              "      <th>type</th>\n",
              "      <th>demographic</th>\n",
              "      <th>description</th>\n",
              "      <th>units</th>\n",
              "      <th>missing_values</th>\n",
              "    </tr>\n",
              "  </thead>\n",
              "  <tbody>\n",
              "    <tr>\n",
              "      <th>0</th>\n",
              "      <td>Marital Status</td>\n",
              "      <td>Feature</td>\n",
              "      <td>Integer</td>\n",
              "      <td>Marital Status</td>\n",
              "      <td>1 – single 2 – married 3 – widower 4 – divorce...</td>\n",
              "      <td>None</td>\n",
              "      <td>no</td>\n",
              "    </tr>\n",
              "    <tr>\n",
              "      <th>1</th>\n",
              "      <td>Application mode</td>\n",
              "      <td>Feature</td>\n",
              "      <td>Integer</td>\n",
              "      <td>None</td>\n",
              "      <td>1 - 1st phase - general contingent 2 - Ordinan...</td>\n",
              "      <td>None</td>\n",
              "      <td>no</td>\n",
              "    </tr>\n",
              "    <tr>\n",
              "      <th>2</th>\n",
              "      <td>Application order</td>\n",
              "      <td>Feature</td>\n",
              "      <td>Integer</td>\n",
              "      <td>None</td>\n",
              "      <td>Application order (between 0 - first choice; a...</td>\n",
              "      <td>None</td>\n",
              "      <td>no</td>\n",
              "    </tr>\n",
              "    <tr>\n",
              "      <th>3</th>\n",
              "      <td>Course</td>\n",
              "      <td>Feature</td>\n",
              "      <td>Integer</td>\n",
              "      <td>None</td>\n",
              "      <td>33 - Biofuel Production Technologies 171 - Ani...</td>\n",
              "      <td>None</td>\n",
              "      <td>no</td>\n",
              "    </tr>\n",
              "    <tr>\n",
              "      <th>4</th>\n",
              "      <td>Daytime/evening attendance</td>\n",
              "      <td>Feature</td>\n",
              "      <td>Integer</td>\n",
              "      <td>None</td>\n",
              "      <td>1 – daytime 0 - evening</td>\n",
              "      <td>None</td>\n",
              "      <td>no</td>\n",
              "    </tr>\n",
              "    <tr>\n",
              "      <th>5</th>\n",
              "      <td>Previous qualification</td>\n",
              "      <td>Feature</td>\n",
              "      <td>Integer</td>\n",
              "      <td>Education Level</td>\n",
              "      <td>1 - Secondary education 2 - Higher education -...</td>\n",
              "      <td>None</td>\n",
              "      <td>no</td>\n",
              "    </tr>\n",
              "    <tr>\n",
              "      <th>6</th>\n",
              "      <td>Previous qualification (grade)</td>\n",
              "      <td>Feature</td>\n",
              "      <td>Continuous</td>\n",
              "      <td>None</td>\n",
              "      <td>Grade of previous qualification (between 0 and...</td>\n",
              "      <td>None</td>\n",
              "      <td>no</td>\n",
              "    </tr>\n",
              "    <tr>\n",
              "      <th>7</th>\n",
              "      <td>Nacionality</td>\n",
              "      <td>Feature</td>\n",
              "      <td>Integer</td>\n",
              "      <td>Nationality</td>\n",
              "      <td>1 - Portuguese; 2 - German; 6 - Spanish; 11 - ...</td>\n",
              "      <td>None</td>\n",
              "      <td>no</td>\n",
              "    </tr>\n",
              "    <tr>\n",
              "      <th>8</th>\n",
              "      <td>Mother's qualification</td>\n",
              "      <td>Feature</td>\n",
              "      <td>Integer</td>\n",
              "      <td>Education Level</td>\n",
              "      <td>1 - Secondary Education - 12th Year of Schooli...</td>\n",
              "      <td>None</td>\n",
              "      <td>no</td>\n",
              "    </tr>\n",
              "    <tr>\n",
              "      <th>9</th>\n",
              "      <td>Father's qualification</td>\n",
              "      <td>Feature</td>\n",
              "      <td>Integer</td>\n",
              "      <td>Education Level</td>\n",
              "      <td>1 - Secondary Education - 12th Year of Schooli...</td>\n",
              "      <td>None</td>\n",
              "      <td>no</td>\n",
              "    </tr>\n",
              "    <tr>\n",
              "      <th>10</th>\n",
              "      <td>Mother's occupation</td>\n",
              "      <td>Feature</td>\n",
              "      <td>Integer</td>\n",
              "      <td>Occupation</td>\n",
              "      <td>0 - Student 1 - Representatives of the Legisla...</td>\n",
              "      <td>None</td>\n",
              "      <td>no</td>\n",
              "    </tr>\n",
              "    <tr>\n",
              "      <th>11</th>\n",
              "      <td>Father's occupation</td>\n",
              "      <td>Feature</td>\n",
              "      <td>Integer</td>\n",
              "      <td>Occupation</td>\n",
              "      <td>0 - Student 1 - Representatives of the Legisla...</td>\n",
              "      <td>None</td>\n",
              "      <td>no</td>\n",
              "    </tr>\n",
              "    <tr>\n",
              "      <th>12</th>\n",
              "      <td>Admission grade</td>\n",
              "      <td>Feature</td>\n",
              "      <td>Continuous</td>\n",
              "      <td>None</td>\n",
              "      <td>Admission grade (between 0 and 200)</td>\n",
              "      <td>None</td>\n",
              "      <td>no</td>\n",
              "    </tr>\n",
              "    <tr>\n",
              "      <th>13</th>\n",
              "      <td>Displaced</td>\n",
              "      <td>Feature</td>\n",
              "      <td>Integer</td>\n",
              "      <td>None</td>\n",
              "      <td>1 – yes 0 – no</td>\n",
              "      <td>None</td>\n",
              "      <td>no</td>\n",
              "    </tr>\n",
              "    <tr>\n",
              "      <th>14</th>\n",
              "      <td>Educational special needs</td>\n",
              "      <td>Feature</td>\n",
              "      <td>Integer</td>\n",
              "      <td>None</td>\n",
              "      <td>1 – yes 0 – no</td>\n",
              "      <td>None</td>\n",
              "      <td>no</td>\n",
              "    </tr>\n",
              "    <tr>\n",
              "      <th>15</th>\n",
              "      <td>Debtor</td>\n",
              "      <td>Feature</td>\n",
              "      <td>Integer</td>\n",
              "      <td>None</td>\n",
              "      <td>1 – yes 0 – no</td>\n",
              "      <td>None</td>\n",
              "      <td>no</td>\n",
              "    </tr>\n",
              "    <tr>\n",
              "      <th>16</th>\n",
              "      <td>Tuition fees up to date</td>\n",
              "      <td>Feature</td>\n",
              "      <td>Integer</td>\n",
              "      <td>None</td>\n",
              "      <td>1 – yes 0 – no</td>\n",
              "      <td>None</td>\n",
              "      <td>no</td>\n",
              "    </tr>\n",
              "    <tr>\n",
              "      <th>17</th>\n",
              "      <td>Gender</td>\n",
              "      <td>Feature</td>\n",
              "      <td>Integer</td>\n",
              "      <td>Gender</td>\n",
              "      <td>1 – male 0 – female</td>\n",
              "      <td>None</td>\n",
              "      <td>no</td>\n",
              "    </tr>\n",
              "    <tr>\n",
              "      <th>18</th>\n",
              "      <td>Scholarship holder</td>\n",
              "      <td>Feature</td>\n",
              "      <td>Integer</td>\n",
              "      <td>None</td>\n",
              "      <td>1 – yes 0 – no</td>\n",
              "      <td>None</td>\n",
              "      <td>no</td>\n",
              "    </tr>\n",
              "    <tr>\n",
              "      <th>19</th>\n",
              "      <td>Age at enrollment</td>\n",
              "      <td>Feature</td>\n",
              "      <td>Integer</td>\n",
              "      <td>Age</td>\n",
              "      <td>Age of studend at enrollment</td>\n",
              "      <td>None</td>\n",
              "      <td>no</td>\n",
              "    </tr>\n",
              "    <tr>\n",
              "      <th>20</th>\n",
              "      <td>International</td>\n",
              "      <td>Feature</td>\n",
              "      <td>Integer</td>\n",
              "      <td>None</td>\n",
              "      <td>1 – yes 0 – no</td>\n",
              "      <td>None</td>\n",
              "      <td>no</td>\n",
              "    </tr>\n",
              "    <tr>\n",
              "      <th>21</th>\n",
              "      <td>Curricular units 1st sem (credited)</td>\n",
              "      <td>Feature</td>\n",
              "      <td>Integer</td>\n",
              "      <td>None</td>\n",
              "      <td>Number of curricular units credited in the 1st...</td>\n",
              "      <td>None</td>\n",
              "      <td>no</td>\n",
              "    </tr>\n",
              "    <tr>\n",
              "      <th>22</th>\n",
              "      <td>Curricular units 1st sem (enrolled)</td>\n",
              "      <td>Feature</td>\n",
              "      <td>Integer</td>\n",
              "      <td>None</td>\n",
              "      <td>Number of curricular units enrolled in the 1st...</td>\n",
              "      <td>None</td>\n",
              "      <td>no</td>\n",
              "    </tr>\n",
              "    <tr>\n",
              "      <th>23</th>\n",
              "      <td>Curricular units 1st sem (evaluations)</td>\n",
              "      <td>Feature</td>\n",
              "      <td>Integer</td>\n",
              "      <td>None</td>\n",
              "      <td>Number of evaluations to curricular units in t...</td>\n",
              "      <td>None</td>\n",
              "      <td>no</td>\n",
              "    </tr>\n",
              "    <tr>\n",
              "      <th>24</th>\n",
              "      <td>Curricular units 1st sem (approved)</td>\n",
              "      <td>Feature</td>\n",
              "      <td>Integer</td>\n",
              "      <td>None</td>\n",
              "      <td>Number of curricular units approved in the 1st...</td>\n",
              "      <td>None</td>\n",
              "      <td>no</td>\n",
              "    </tr>\n",
              "    <tr>\n",
              "      <th>25</th>\n",
              "      <td>Curricular units 1st sem (grade)</td>\n",
              "      <td>Feature</td>\n",
              "      <td>Integer</td>\n",
              "      <td>None</td>\n",
              "      <td>Grade average in the 1st semester (between 0 a...</td>\n",
              "      <td>None</td>\n",
              "      <td>no</td>\n",
              "    </tr>\n",
              "    <tr>\n",
              "      <th>26</th>\n",
              "      <td>Curricular units 1st sem (without evaluations)</td>\n",
              "      <td>Feature</td>\n",
              "      <td>Integer</td>\n",
              "      <td>None</td>\n",
              "      <td>Number of curricular units without evalutions ...</td>\n",
              "      <td>None</td>\n",
              "      <td>no</td>\n",
              "    </tr>\n",
              "    <tr>\n",
              "      <th>27</th>\n",
              "      <td>Curricular units 2nd sem (credited)</td>\n",
              "      <td>Feature</td>\n",
              "      <td>Integer</td>\n",
              "      <td>None</td>\n",
              "      <td>Number of curricular units credited in the 2nd...</td>\n",
              "      <td>None</td>\n",
              "      <td>no</td>\n",
              "    </tr>\n",
              "    <tr>\n",
              "      <th>28</th>\n",
              "      <td>Curricular units 2nd sem (enrolled)</td>\n",
              "      <td>Feature</td>\n",
              "      <td>Integer</td>\n",
              "      <td>None</td>\n",
              "      <td>Number of curricular units enrolled in the 2nd...</td>\n",
              "      <td>None</td>\n",
              "      <td>no</td>\n",
              "    </tr>\n",
              "    <tr>\n",
              "      <th>29</th>\n",
              "      <td>Curricular units 2nd sem (evaluations)</td>\n",
              "      <td>Feature</td>\n",
              "      <td>Integer</td>\n",
              "      <td>None</td>\n",
              "      <td>Number of evaluations to curricular units in t...</td>\n",
              "      <td>None</td>\n",
              "      <td>no</td>\n",
              "    </tr>\n",
              "    <tr>\n",
              "      <th>30</th>\n",
              "      <td>Curricular units 2nd sem (approved)</td>\n",
              "      <td>Feature</td>\n",
              "      <td>Integer</td>\n",
              "      <td>None</td>\n",
              "      <td>Number of curricular units approved in the 2nd...</td>\n",
              "      <td>None</td>\n",
              "      <td>no</td>\n",
              "    </tr>\n",
              "    <tr>\n",
              "      <th>31</th>\n",
              "      <td>Curricular units 2nd sem (grade)</td>\n",
              "      <td>Feature</td>\n",
              "      <td>Integer</td>\n",
              "      <td>None</td>\n",
              "      <td>Grade average in the 2nd semester (between 0 a...</td>\n",
              "      <td>None</td>\n",
              "      <td>no</td>\n",
              "    </tr>\n",
              "    <tr>\n",
              "      <th>32</th>\n",
              "      <td>Curricular units 2nd sem (without evaluations)</td>\n",
              "      <td>Feature</td>\n",
              "      <td>Integer</td>\n",
              "      <td>None</td>\n",
              "      <td>Number of curricular units without evalutions ...</td>\n",
              "      <td>None</td>\n",
              "      <td>no</td>\n",
              "    </tr>\n",
              "    <tr>\n",
              "      <th>33</th>\n",
              "      <td>Unemployment rate</td>\n",
              "      <td>Feature</td>\n",
              "      <td>Continuous</td>\n",
              "      <td>None</td>\n",
              "      <td>Unemployment rate (%)</td>\n",
              "      <td>None</td>\n",
              "      <td>no</td>\n",
              "    </tr>\n",
              "    <tr>\n",
              "      <th>34</th>\n",
              "      <td>Inflation rate</td>\n",
              "      <td>Feature</td>\n",
              "      <td>Continuous</td>\n",
              "      <td>None</td>\n",
              "      <td>Inflation rate (%)</td>\n",
              "      <td>None</td>\n",
              "      <td>no</td>\n",
              "    </tr>\n",
              "    <tr>\n",
              "      <th>35</th>\n",
              "      <td>GDP</td>\n",
              "      <td>Feature</td>\n",
              "      <td>Continuous</td>\n",
              "      <td>None</td>\n",
              "      <td>GDP</td>\n",
              "      <td>None</td>\n",
              "      <td>no</td>\n",
              "    </tr>\n",
              "    <tr>\n",
              "      <th>36</th>\n",
              "      <td>Target</td>\n",
              "      <td>Target</td>\n",
              "      <td>Categorical</td>\n",
              "      <td>None</td>\n",
              "      <td>Target. The problem is formulated as a three c...</td>\n",
              "      <td>None</td>\n",
              "      <td>no</td>\n",
              "    </tr>\n",
              "  </tbody>\n",
              "</table>\n",
              "</div>"
            ],
            "text/plain": [
              "                                              name     role         type   \n",
              "0                                   Marital Status  Feature      Integer  \\\n",
              "1                                 Application mode  Feature      Integer   \n",
              "2                                Application order  Feature      Integer   \n",
              "3                                           Course  Feature      Integer   \n",
              "4                       Daytime/evening attendance  Feature      Integer   \n",
              "5                           Previous qualification  Feature      Integer   \n",
              "6                   Previous qualification (grade)  Feature   Continuous   \n",
              "7                                      Nacionality  Feature      Integer   \n",
              "8                           Mother's qualification  Feature      Integer   \n",
              "9                           Father's qualification  Feature      Integer   \n",
              "10                             Mother's occupation  Feature      Integer   \n",
              "11                             Father's occupation  Feature      Integer   \n",
              "12                                 Admission grade  Feature   Continuous   \n",
              "13                                       Displaced  Feature      Integer   \n",
              "14                       Educational special needs  Feature      Integer   \n",
              "15                                          Debtor  Feature      Integer   \n",
              "16                         Tuition fees up to date  Feature      Integer   \n",
              "17                                          Gender  Feature      Integer   \n",
              "18                              Scholarship holder  Feature      Integer   \n",
              "19                               Age at enrollment  Feature      Integer   \n",
              "20                                   International  Feature      Integer   \n",
              "21             Curricular units 1st sem (credited)  Feature      Integer   \n",
              "22             Curricular units 1st sem (enrolled)  Feature      Integer   \n",
              "23          Curricular units 1st sem (evaluations)  Feature      Integer   \n",
              "24             Curricular units 1st sem (approved)  Feature      Integer   \n",
              "25                Curricular units 1st sem (grade)  Feature      Integer   \n",
              "26  Curricular units 1st sem (without evaluations)  Feature      Integer   \n",
              "27             Curricular units 2nd sem (credited)  Feature      Integer   \n",
              "28             Curricular units 2nd sem (enrolled)  Feature      Integer   \n",
              "29          Curricular units 2nd sem (evaluations)  Feature      Integer   \n",
              "30             Curricular units 2nd sem (approved)  Feature      Integer   \n",
              "31                Curricular units 2nd sem (grade)  Feature      Integer   \n",
              "32  Curricular units 2nd sem (without evaluations)  Feature      Integer   \n",
              "33                               Unemployment rate  Feature   Continuous   \n",
              "34                                  Inflation rate  Feature   Continuous   \n",
              "35                                             GDP  Feature   Continuous   \n",
              "36                                          Target   Target  Categorical   \n",
              "\n",
              "        demographic                                        description units   \n",
              "0    Marital Status  1 – single 2 – married 3 – widower 4 – divorce...  None  \\\n",
              "1              None  1 - 1st phase - general contingent 2 - Ordinan...  None   \n",
              "2              None  Application order (between 0 - first choice; a...  None   \n",
              "3              None  33 - Biofuel Production Technologies 171 - Ani...  None   \n",
              "4              None                            1 – daytime 0 - evening  None   \n",
              "5   Education Level  1 - Secondary education 2 - Higher education -...  None   \n",
              "6              None  Grade of previous qualification (between 0 and...  None   \n",
              "7       Nationality  1 - Portuguese; 2 - German; 6 - Spanish; 11 - ...  None   \n",
              "8   Education Level  1 - Secondary Education - 12th Year of Schooli...  None   \n",
              "9   Education Level  1 - Secondary Education - 12th Year of Schooli...  None   \n",
              "10       Occupation  0 - Student 1 - Representatives of the Legisla...  None   \n",
              "11       Occupation  0 - Student 1 - Representatives of the Legisla...  None   \n",
              "12             None                Admission grade (between 0 and 200)  None   \n",
              "13             None                                     1 – yes 0 – no  None   \n",
              "14             None                                     1 – yes 0 – no  None   \n",
              "15             None                                     1 – yes 0 – no  None   \n",
              "16             None                                     1 – yes 0 – no  None   \n",
              "17           Gender                                1 – male 0 – female  None   \n",
              "18             None                                     1 – yes 0 – no  None   \n",
              "19              Age                       Age of studend at enrollment  None   \n",
              "20             None                                     1 – yes 0 – no  None   \n",
              "21             None  Number of curricular units credited in the 1st...  None   \n",
              "22             None  Number of curricular units enrolled in the 1st...  None   \n",
              "23             None  Number of evaluations to curricular units in t...  None   \n",
              "24             None  Number of curricular units approved in the 1st...  None   \n",
              "25             None  Grade average in the 1st semester (between 0 a...  None   \n",
              "26             None  Number of curricular units without evalutions ...  None   \n",
              "27             None  Number of curricular units credited in the 2nd...  None   \n",
              "28             None  Number of curricular units enrolled in the 2nd...  None   \n",
              "29             None  Number of evaluations to curricular units in t...  None   \n",
              "30             None  Number of curricular units approved in the 2nd...  None   \n",
              "31             None  Grade average in the 2nd semester (between 0 a...  None   \n",
              "32             None  Number of curricular units without evalutions ...  None   \n",
              "33             None                              Unemployment rate (%)  None   \n",
              "34             None                                 Inflation rate (%)  None   \n",
              "35             None                                                GDP  None   \n",
              "36             None  Target. The problem is formulated as a three c...  None   \n",
              "\n",
              "   missing_values  \n",
              "0              no  \n",
              "1              no  \n",
              "2              no  \n",
              "3              no  \n",
              "4              no  \n",
              "5              no  \n",
              "6              no  \n",
              "7              no  \n",
              "8              no  \n",
              "9              no  \n",
              "10             no  \n",
              "11             no  \n",
              "12             no  \n",
              "13             no  \n",
              "14             no  \n",
              "15             no  \n",
              "16             no  \n",
              "17             no  \n",
              "18             no  \n",
              "19             no  \n",
              "20             no  \n",
              "21             no  \n",
              "22             no  \n",
              "23             no  \n",
              "24             no  \n",
              "25             no  \n",
              "26             no  \n",
              "27             no  \n",
              "28             no  \n",
              "29             no  \n",
              "30             no  \n",
              "31             no  \n",
              "32             no  \n",
              "33             no  \n",
              "34             no  \n",
              "35             no  \n",
              "36             no  "
            ]
          },
          "metadata": {},
          "output_type": "display_data"
        }
      ],
      "source": [
        "# fetch dataset \n",
        "from ucimlrepo import fetch_ucirepo \n",
        "predict_students_dropout_and_academic_success = fetch_ucirepo(id=697) \n",
        "  \n",
        "# data (as pandas dataframes) \n",
        "X = predict_students_dropout_and_academic_success.data.features \n",
        "y = predict_students_dropout_and_academic_success.data.targets \n",
        "  \n",
        "# metadata \n",
        "display(predict_students_dropout_and_academic_success.metadata) \n",
        "  \n",
        "# variable information \n",
        "display(predict_students_dropout_and_academic_success.variables) "
      ]
    },
    {
      "cell_type": "code",
      "execution_count": null,
      "metadata": {},
      "outputs": [
        {
          "data": {
            "text/plain": [
              "'Target. The problem is formulated as a three category classification task (dropout, enrolled, and graduate) at the end of the normal duration of the course'"
            ]
          },
          "metadata": {},
          "output_type": "display_data"
        }
      ],
      "source": [
        "predict_students_dropout_and_academic_success.variables.iloc[-1].loc[ 'description']"
      ]
    },
    {
      "cell_type": "code",
      "execution_count": null,
      "metadata": {},
      "outputs": [
        {
          "data": {
            "text/plain": [
              "(array([1421.,    0.,    0.,    0.,    0., 2209.,    0.,    0.,    0.,\n",
              "         794.]),\n",
              " array([0. , 0.2, 0.4, 0.6, 0.8, 1. , 1.2, 1.4, 1.6, 1.8, 2. ]),\n",
              " <BarContainer object of 10 artists>)"
            ]
          },
          "metadata": {},
          "output_type": "display_data"
        },
        {
          "data": {
            "image/png": "[encoded data removed]",
            "text/plain": [
              "<Figure size 640x480 with 1 Axes>"
            ]
          },
          "metadata": {},
          "output_type": "display_data"
        }
      ],
      "source": [
        "plt.hist(y)"
      ]
    },
    {
      "cell_type": "markdown",
      "metadata": {},
      "source": [
        "### Questions\n",
        "1. For this dataset, try two types of tree ensembles:\n",
        "    - [`GradientBoostingClassifier`](https://scikit-learn.org/stable/modules/generated/sklearn.ensemble.GradientBoostingClassifier.html)\n",
        "    - [`RandomForestClassifier`](https://scikit-learn.org/stable/modules/generated/sklearn.ensemble.RandomForestClassifier.html)\n",
        "1. Compare model scores on the training set vs the validation set. Are the models overfitting or underfitting?\n",
        "\n",
        "1. Choose a pertinent hyperparameter that you will adjust in order to reduce the problem you just diagnosed. Try a few values to see if you find a better model.\n",
        "\n",
        "1. Once you have found the best model, provide a detailed evaluation on the test set using the [`classification_report`](https://scikit-learn.org/stable/modules/generated/sklearn.metrics.classification_report.html). Make sure you understand what each of the results mean. \n",
        "\n",
        "1. Imagine the main goal of this study is to be able to retrieve students in difficulty and help them _before_ they dropout. Altough it is not desirable to overload student counseling professionals (suppose they can provide guidance to 30% of the students), it is ok to send to counseling a student who would graduate just fine without it. Not noticing a student in difficulty is a greater problem that may lead to delayed graduation (the \"enroled\" class) or dropouts. \n",
        "    - Which metric would be the most appropriate to evaluate this goal? \n",
        "    - Which model scored best on this metric?\n",
        "\n",
        "1. It is possible to choose the probability threshold in order to trade-off precision for recall (or vice versa)\n",
        "    - focus on the \"Dropout\" class (i.e., use it as your positive class, the others will be negative)\n",
        "    - compute values of precision and recall for multiple tresholds using the function [`precision_recall_curve`](https://scikit-learn.org/stable/modules/generated/sklearn.metrics.precision_recall_curve.html) \n",
        "    - find out the threhold and the precision you get for 85% recall. Does it seem like a reasonable trade-off given the context of the application?"
      ]
    },
    {
      "cell_type": "markdown",
      "metadata": {},
      "source": [
        "## Exercise 2 (Optional): Feature importance on tree ensembles"
      ]
    },
    {
      "cell_type": "markdown",
      "metadata": {},
      "source": [
        "### Exercise\n",
        "Now that you have chosen the best model, let's retrieve which attributes are the main predictors of a student dropping out. This means we want to estimate *feature importance*. With tree ensembles, there are two main ways of doing so.\n",
        "\n",
        "1. Compute feature importances using the [permutation importance](https://scikit-learn.org/stable/modules/permutation_importance.html). Get the top-10 most important features.\n",
        "\n",
        "2. Compute feature importances following [\"mean decrease in impurity (MDI)\"](https://scikit-learn.org/stable/modules/ensemble.html#feature-importance-evaluation). These get precomputed during `fit`, and are based on the training set only. Get the feature importances computed from the random forest model trained before, and check the top-10 most important features. Are they the same as with the permutation method? Is their rank the same?\n",
        "\n",
        "3. `sklearn`'s documentation warns about two main caveats of using MDI to estimate feature importance. Did you notice them in the docs? Which are they?"
      ]
    },
    {
      "cell_type": "markdown",
      "metadata": {
        "id": "jXmHwioGiHMB"
      },
      "source": [
        "## Exercise 3: Voting Classifier on MNIST\n",
        "### Data\n",
        "This exercise uses the MNIST dataset: a set of 28x28 images containing hadnwritten 0-9 digits. It can be loaded using `sklearn` functions as follows:"
      ]
    },
    {
      "cell_type": "code",
      "execution_count": null,
      "metadata": {
        "id": "ayAS552Dui88"
      },
      "outputs": [],
      "source": [
        "from sklearn.datasets import fetch_openml\n",
        "\n",
        "# Load data from https://www.openml.org/d/554\n",
        "X, y = fetch_openml(\"mnist_784\", version=1, return_X_y=True, as_frame=False)"
      ]
    },
    {
      "cell_type": "markdown",
      "metadata": {
        "id": "IgUdHMaUui88"
      },
      "source": [
        "Here the feaures in X are simply all the 784 pixels of any given image, in vectorized form. To visualize the orignal image, the vector must be reshaped back to a 2D array as follows:"
      ]
    },
    {
      "cell_type": "code",
      "execution_count": null,
      "metadata": {
        "id": "r9onb8CZui89"
      },
      "outputs": [],
      "source": [
        "plt.imshow(X[0, :].reshape([28, 28]), cmap='Greys')"
      ]
    },
    {
      "cell_type": "markdown",
      "metadata": {
        "id": "xjxqgeFOui8-"
      },
      "source": [
        "**The goal** is to correctly predict the digit from the image pixels. This is what you have in the y array:"
      ]
    },
    {
      "cell_type": "code",
      "execution_count": null,
      "metadata": {
        "id": "5rJOzgxhui8-"
      },
      "outputs": [],
      "source": [
        "y[0:10]"
      ]
    },
    {
      "cell_type": "markdown",
      "metadata": {
        "id": "w47zu-fWui8_"
      },
      "source": [
        "### Feture range and scaling\n",
        "In general, that pixel values here range in 0-255. However, since digits are always cented, pixels in the center of the image tend to have a larger variance than those at the border. To visualize this, observe the plotting of the stddev for each pixel across all images. See how pixels at the border have near 0 variance while  those at the center have a much large one."
      ]
    },
    {
      "cell_type": "code",
      "execution_count": null,
      "metadata": {
        "id": "cEgJQifsui9A"
      },
      "outputs": [],
      "source": [
        "plt.imshow(X.std(axis=0).reshape([28,28]))\n",
        "plt.colorbar()\n",
        "plt.title(\"Standard deviation per image location\\n (i.e. per feature)\")\n",
        "plt.show()"
      ]
    },
    {
      "cell_type": "markdown",
      "metadata": {
        "id": "sJuyEUgLui9A"
      },
      "source": [
        "Remember models trained with continuous optimization (especially 1st order methods) benefit from features having a similar range (because this leads to better conditioned cost functions). For these methods **it is recommended that you apply some form of feature scaling**. For example, after applying standard scaling, variances become mostly equal to 1, meaning all features lie in a similar range:"
      ]
    },
    {
      "cell_type": "code",
      "execution_count": null,
      "metadata": {
        "id": "e_4K3U5eui9B"
      },
      "outputs": [],
      "source": [
        "from sklearn.preprocessing import StandardScaler\n",
        "\n",
        "X_scaled = StandardScaler().fit_transform(X)\n",
        "\n",
        "plt.imshow(X_scaled.std(axis=0).reshape([28,28]))\n",
        "plt.colorbar()\n",
        "plt.title(\"Standard deviation per image location\\n (i.e. per feature)\")\n",
        "plt.show()"
      ]
    },
    {
      "cell_type": "markdown",
      "metadata": {},
      "source": [
        "Note that some pixels still have 0 standard deviation. This happens because they are always zero across all images. We will further process the data to remove these pixel features from our data."
      ]
    },
    {
      "cell_type": "code",
      "execution_count": null,
      "metadata": {},
      "outputs": [],
      "source": [
        "X_scaled = X_scaled[: , X_scaled.std(axis=0) != 0]"
      ]
    },
    {
      "cell_type": "markdown",
      "metadata": {},
      "source": [
        "### Questions\n",
        "\n",
        "\n",
        "1. Split the MNIST data split it into a training set, a validation set, and a test set (e.g., use 50,000 instances for training, 10,000 for validation, and 10,000 for testing). \n",
        "\n",
        "1. Fit a voting ensemble combining multple models. Include:  \n",
        "    - a [`RandomForestClassifier`](),\n",
        "    - an [`ExtraTreesClassifier`](),\n",
        "    - and a [`LinearSVC`](). \n",
        "\n",
        "\n",
        "1. Evaluate the accuracy of the ensemble model and compare it to that if its member models. Does the ensemble outperform all of the included models?\n",
        "\n",
        "1. Remove the weakest model of the ensemble, then re-evaluate the ensemble's accuracy. Did it get better?\n",
        "\n",
        "1. Try using soft voting this time and compare the accuracy to hard voting. Does soft voting outperform all individual models?\n",
        "\n"
      ]
    },
    {
      "cell_type": "markdown",
      "metadata": {},
      "source": [
        "## Exercise 4: Stacking Ensemble on MNIST\n",
        "1. Using the same estimators as the previous voting classifier, now train a stacking ensemble. Use a logsitic regression as your blender model.\n",
        "\n",
        "1. How does it compare to the voting classifier you trained earlier?\n",
        "\n",
        "1. You have tried 3 different voting ensembles and a stacking ensemble. Which one would you choose for deployment? Estimate the expected generalization performance by evaluating the best ensemble on the test set."
      ]
    },
    {
      "cell_type": "markdown",
      "metadata": {
        "id": "JSeZPqw_Qv0I"
      },
      "source": [
        "## Exercise 5 (Optional): Train and fine-tune a decision tree\n",
        "Train and fine-tune a Decision Tree for the moons dataset by following these steps:  \n",
        "  1. Use `make_moons(n_samples=10000, noise=0.4)` to generate a moons dataset.   \n",
        "  1. Use `train_test_split()` to split the dataset into a training set and a test set.\n",
        "  1. Use grid search with cross-validation (with the help of the `GridSearchCV` class) to find good hyperparameter values for a `DecisionTreeClassifier`. Hint: try various values for `max_leaf_nodes`.\n",
        "  1. Train it on the full training set using these hyperparameters, and measure your model's performance on the test set. You should get roughly 85% to 87% accuracy."
      ]
    },
    {
      "cell_type": "markdown",
      "metadata": {
        "id": "F4wJJZPrRCzo"
      },
      "source": [
        "## Exercise 6 (Optional): Grow your own random forest\n",
        "Grow a forest by following these steps:  \n",
        "  \n",
        "  1. Continuing the previous exercise, generate 1,000 subsets of the training set, each containing 100 instances selected randomly. *Hint*: you can use ScikitLearn’s `ShuffleSplit` class for this.  \n",
        "  1. Train one Decision Tree on each subset, using the best hyperparameter values found in the previous exercise. Evaluate these 1,000 Decision Trees on the test set. Since they were trained on smaller sets, these Decision Trees will likely perform worse than the first Decision Tree, achieving only about 80% accuracy.  \n",
        "  1. Now comes the magic. For each test set instance, generate the predictions of the 1,000 Decision Trees, and keep only the most frequent prediction (you can use SciPy’s `mode()` function for this). This approach gives you majority-vote predictions over the test set.  \n",
        "  1. Evaluate these predictions on the test set: you should obtain a slightly higher accuracy than your first model (about 0.5 to 1.5% higher). Congratulations, you have trained a Random Forest classifier!"
      ]
    }
  ],
  "metadata": {
    "colab": {
      "collapsed_sections": [],
      "include_colab_link": true,
      "name": "LabAssignmentTreesEnsembles.ipynb",
      "provenance": [],
      "toc_visible": true
    },
    "kernelspec": {
      "display_name": "Python 3.10.4 ('ml-latest')",
      "language": "python",
      "name": "python3"
    },
    "language_info": {
      "codemirror_mode": {
        "name": "ipython",
        "version": 3
      },
      "file_extension": ".py",
      "mimetype": "text/x-python",
      "name": "python",
      "nbconvert_exporter": "python",
      "pygments_lexer": "ipython3",
      "version": "3.10.11"
    },
    "vscode": {
      "interpreter": {
        "hash": "1bede9cc09fadb76754e231ea17b3d1b4d36d88785eed308e26382b97c73c356"
      }
    }
  },
  "nbformat": 4,
  "nbformat_minor": 0
}
