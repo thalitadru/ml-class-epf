{
 "cells": [
  {
   "cell_type": "markdown",
   "id": "b3d549b7-8198-4908-aebc-e7f8c307b293",
   "metadata": {},
   "source": [
    "# Solution to MNIST exercise\n",
    "\n",
    "From A. Géron's notebooks for his \"Hands-on ML\" book."
   ]
  },
  {
   "cell_type": "code",
   "execution_count": 4,
   "id": "3eb58d92-8bf5-4607-8679-317782afd949",
   "metadata": {
    "id": "cd6d1578-487c-4d9d-83d8-9a5a25c128a8"
   },
   "outputs": [],
   "source": [
    "# import the necessary libraries\n",
    "%matplotlib inline\n",
    "import matplotlib as mpl\n",
    "import matplotlib.cm as cm\n",
    "import matplotlib.pyplot as plt\n",
    "import numpy as np\n",
    "import pandas as pd\n",
    "\n",
    "pd.set_option(\"display.width\", 500)\n",
    "pd.set_option(\"display.max_columns\", 100)\n",
    "pd.set_option(\"display.notebook_repr_html\", True)\n",
    "import seaborn as sns\n",
    "import os"
   ]
  },
  {
   "cell_type": "code",
   "execution_count": 5,
   "id": "f322c055-302c-4b8a-9962-ac0d7e0630aa",
   "metadata": {
    "id": "d8ef415b-4077-484b-ab38-6162a0098020",
    "tags": []
   },
   "outputs": [],
   "source": [
    "import tensorflow as tf\n",
    "from tensorflow import keras"
   ]
  },
  {
   "cell_type": "code",
   "execution_count": 6,
   "id": "f9ad1417-1341-411c-ab45-ae80a6364d15",
   "metadata": {
    "colab": {
     "base_uri": "https://localhost:8080/",
     "height": 36
    },
    "id": "143c9bd5-06aa-4c5c-b0ba-8a0cad7fc7e2",
    "outputId": "2a152ba4-9993-40ac-faec-0d424b45a3e7"
   },
   "outputs": [
    {
     "data": {
      "text/plain": [
       "'2.4.1'"
      ]
     },
     "execution_count": 6,
     "metadata": {},
     "output_type": "execute_result"
    }
   ],
   "source": [
    "tf.__version__"
   ]
  },
  {
   "cell_type": "code",
   "execution_count": 7,
   "id": "8e828a4c-8dec-4871-8540-b0654f81e507",
   "metadata": {
    "colab": {
     "base_uri": "https://localhost:8080/",
     "height": 36
    },
    "id": "c2ce41a0-d841-41e3-a953-24579e10e80d",
    "outputId": "91fa8c59-a128-4d8e-d1a0-3dd50421b87f"
   },
   "outputs": [
    {
     "data": {
      "text/plain": [
       "'2.4.0'"
      ]
     },
     "execution_count": 7,
     "metadata": {},
     "output_type": "execute_result"
    }
   ],
   "source": [
    "keras.__version__"
   ]
  },
  {
   "cell_type": "markdown",
   "id": "725b58bf-14b7-4806-b3b0-7a7cded15b90",
   "metadata": {},
   "source": [
    "Let's load the dataset:"
   ]
  },
  {
   "cell_type": "code",
   "execution_count": 8,
   "id": "38aef1cd-a59c-41ba-bdbd-b0dd6c3784c7",
   "metadata": {},
   "outputs": [
    {
     "name": "stdout",
     "output_type": "stream",
     "text": [
      "Downloading data from https://storage.googleapis.com/tensorflow/tf-keras-datasets/mnist.npz\n",
      "11493376/11490434 [==============================] - 3s 0us/step\n"
     ]
    }
   ],
   "source": [
    "(X_train_full, y_train_full), (X_test, y_test) = keras.datasets.mnist.load_data()"
   ]
  },
  {
   "cell_type": "markdown",
   "id": "aedf0df8-3b54-4528-b150-efd02c2941f2",
   "metadata": {},
   "source": [
    "Just like for the Fashion MNIST dataset, the MNIST training set contains 60,000 grayscale images, each 28x28 pixels:"
   ]
  },
  {
   "cell_type": "code",
   "execution_count": 9,
   "id": "c058b6c4-836a-47d4-9737-8a2344aa5274",
   "metadata": {},
   "outputs": [
    {
     "data": {
      "text/plain": [
       "(60000, 28, 28)"
      ]
     },
     "execution_count": 9,
     "metadata": {},
     "output_type": "execute_result"
    }
   ],
   "source": [
    "X_train_full.shape"
   ]
  },
  {
   "cell_type": "markdown",
   "id": "0ec40c4d-0283-403d-9e2a-16ef1db29c70",
   "metadata": {},
   "source": [
    "Each pixel intensity is also represented as a byte (0 to 255):"
   ]
  },
  {
   "cell_type": "code",
   "execution_count": 10,
   "id": "8b8a9cf2-1944-4895-a19d-7437890ab464",
   "metadata": {},
   "outputs": [
    {
     "data": {
      "text/plain": [
       "dtype('uint8')"
      ]
     },
     "execution_count": 10,
     "metadata": {},
     "output_type": "execute_result"
    }
   ],
   "source": [
    "X_train_full.dtype"
   ]
  },
  {
   "cell_type": "markdown",
   "id": "4dd73bc1-21fd-4fd6-bbf8-e4a72170550e",
   "metadata": {},
   "source": [
    "Let's split the full training set into a validation set and a (smaller) training set. We also scale the pixel intensities down to the 0-1 range and convert them to floats, by dividing by 255, just like we did for Fashion MNIST:"
   ]
  },
  {
   "cell_type": "code",
   "execution_count": 11,
   "id": "0cbb2f3d-9376-4e93-b341-9fd5816c82c1",
   "metadata": {},
   "outputs": [],
   "source": [
    "X_valid, X_train = X_train_full[:5000] / 255., X_train_full[5000:] / 255.\n",
    "y_valid, y_train = y_train_full[:5000], y_train_full[5000:]\n",
    "X_test = X_test / 255."
   ]
  },
  {
   "cell_type": "markdown",
   "id": "bb819c1d-1a7a-41e8-8a29-1c525d8d5550",
   "metadata": {},
   "source": [
    "Let's plot an image using Matplotlib's `imshow()` function, with a `'binary'`\n",
    " color map:"
   ]
  },
  {
   "cell_type": "code",
   "execution_count": 12,
   "id": "4bd6a37a-3355-4ffe-97b0-5ea2e5dbb236",
   "metadata": {},
   "outputs": [
    {
     "data": {
      "image/png": "[encoded data removed]",
      "text/plain": [
       "<Figure size 432x288 with 1 Axes>"
      ]
     },
     "metadata": {
      "needs_background": "light"
     },
     "output_type": "display_data"
    }
   ],
   "source": [
    "plt.imshow(X_train[0], cmap=\"binary\")\n",
    "plt.axis('off')\n",
    "plt.show()"
   ]
  },
  {
   "cell_type": "markdown",
   "id": "2ba1949e-93cf-4938-bef7-58d2d269fe81",
   "metadata": {},
   "source": [
    "The labels are the class IDs (represented as uint8), from 0 to 9. Conveniently, the class IDs correspond to the digits represented in the images, so we don't need a `class_names` array:"
   ]
  },
  {
   "cell_type": "code",
   "execution_count": 13,
   "id": "2eef857b-9158-45ea-93ed-d41f0fcc30b9",
   "metadata": {},
   "outputs": [
    {
     "data": {
      "text/plain": [
       "array([7, 3, 4, ..., 5, 6, 8], dtype=uint8)"
      ]
     },
     "execution_count": 13,
     "metadata": {},
     "output_type": "execute_result"
    }
   ],
   "source": [
    "y_train"
   ]
  },
  {
   "cell_type": "markdown",
   "id": "0017c815-918e-4ca0-b6fc-27bc7f642bb7",
   "metadata": {},
   "source": [
    "The validation set contains 5,000 images, and the test set contains 10,000 images:"
   ]
  },
  {
   "cell_type": "code",
   "execution_count": 14,
   "id": "bb5d7e74-7dc5-4666-9661-6f2fbe450617",
   "metadata": {},
   "outputs": [
    {
     "data": {
      "text/plain": [
       "(5000, 28, 28)"
      ]
     },
     "execution_count": 14,
     "metadata": {},
     "output_type": "execute_result"
    }
   ],
   "source": [
    "X_valid.shape"
   ]
  },
  {
   "cell_type": "code",
   "execution_count": 15,
   "id": "dbdb2443-77f4-4f9e-b95b-ab4e26fa0203",
   "metadata": {},
   "outputs": [
    {
     "data": {
      "text/plain": [
       "(10000, 28, 28)"
      ]
     },
     "execution_count": 15,
     "metadata": {},
     "output_type": "execute_result"
    }
   ],
   "source": [
    "X_test.shape"
   ]
  },
  {
   "cell_type": "markdown",
   "id": "dca6f5de-3c37-41d1-b792-cd4eb4b7af67",
   "metadata": {},
   "source": [
    "Let's take a look at a sample of the images in the dataset:"
   ]
  },
  {
   "cell_type": "code",
   "execution_count": 16,
   "id": "e3137d09-2825-4652-b32e-ccfcdd70ef96",
   "metadata": {},
   "outputs": [
    {
     "data": {
      "image/png": "[encoded data removed]",
      "text/plain": [
       "<Figure size 864x345.6 with 40 Axes>"
      ]
     },
     "metadata": {
      "needs_background": "light"
     },
     "output_type": "display_data"
    }
   ],
   "source": [
    "n_rows = 4\n",
    "n_cols = 10\n",
    "plt.figure(figsize=(n_cols * 1.2, n_rows * 1.2))\n",
    "for row in range(n_rows):\n",
    "    for col in range(n_cols):\n",
    "        index = n_cols * row + col\n",
    "        plt.subplot(n_rows, n_cols, index + 1)\n",
    "        plt.imshow(X_train[index], cmap=\"binary\", interpolation=\"nearest\")\n",
    "        plt.axis('off')\n",
    "        plt.title(y_train[index], fontsize=12)\n",
    "plt.subplots_adjust(wspace=0.2, hspace=0.5)\n",
    "plt.show()"
   ]
  },
  {
   "cell_type": "markdown",
   "id": "691a7d09-6b6b-4a6c-ae3b-27d9a0f8bd56",
   "metadata": {},
   "source": [
    "Let's build a simple dense network and find the optimal learning rate. We will need a callback to grow the learning rate at each iteration. It will also record the learning rate and the loss at each iteration:"
   ]
  },
  {
   "cell_type": "code",
   "execution_count": 17,
   "id": "72b1695c-ced9-4abe-b229-9ab9b4ca746c",
   "metadata": {},
   "outputs": [],
   "source": [
    "keras.backend.clear_session()\n",
    "np.random.seed(42)\n",
    "tf.random.set_seed(42)"
   ]
  },
  {
   "cell_type": "code",
   "execution_count": 18,
   "id": "de514717-2516-47c5-9648-84f387181ce6",
   "metadata": {},
   "outputs": [
    {
     "name": "stderr",
     "output_type": "stream",
     "text": [
      "2021-10-20 14:04:41.606426: I tensorflow/core/platform/cpu_feature_guard.cc:142] This TensorFlow binary is optimized with oneAPI Deep Neural Network Library (oneDNN) to use the following CPU instructions in performance-critical operations:  SSE4.1 SSE4.2 AVX AVX2 FMA\n",
      "To enable them in other operations, rebuild TensorFlow with the appropriate compiler flags.\n"
     ]
    }
   ],
   "source": [
    "model = keras.models.Sequential([\n",
    "    keras.layers.Flatten(input_shape=[28, 28]),\n",
    "    keras.layers.Dense(300, activation=\"relu\"),\n",
    "    keras.layers.Dense(100, activation=\"relu\"),\n",
    "    keras.layers.Dense(10, activation=\"softmax\")\n",
    "])"
   ]
  },
  {
   "cell_type": "code",
   "execution_count": 19,
   "id": "2b9b8a6f-435a-492c-bdb4-b0e68bfb908b",
   "metadata": {},
   "outputs": [],
   "source": [
    "model.save_weights('init.h5')"
   ]
  },
  {
   "cell_type": "markdown",
   "id": "45d83745-d27a-4e25-878c-b502b03ca6f5",
   "metadata": {},
   "source": [
    "## Learning rate search with custom callback"
   ]
  },
  {
   "cell_type": "code",
   "execution_count": 20,
   "id": "b50a7db6-8b2e-42b6-a5b4-ecfad7cd7676",
   "metadata": {},
   "outputs": [],
   "source": [
    "K = keras.backend\n",
    "\n",
    "class ExponentialLearningRate(keras.callbacks.Callback):\n",
    "    def __init__(self, factor):\n",
    "        self.factor = factor\n",
    "        self.rates = []\n",
    "        self.losses = []\n",
    "    def on_batch_end(self, batch, logs):\n",
    "        self.rates.append(K.get_value(self.model.optimizer.learning_rate))\n",
    "        self.losses.append(logs[\"loss\"])\n",
    "        K.set_value(self.model.optimizer.learning_rate, self.model.optimizer.learning_rate * self.factor)"
   ]
  },
  {
   "cell_type": "markdown",
   "id": "79b326d9-78a9-4aa7-8465-8afd517c088a",
   "metadata": {},
   "source": [
    "We will start with a small learning rate of 1e-3, and grow it by 0.5% at each iteration:"
   ]
  },
  {
   "cell_type": "code",
   "execution_count": 21,
   "id": "e7887467-8415-4496-bedb-1fde43a36b42",
   "metadata": {},
   "outputs": [],
   "source": [
    "model.compile(loss=\"sparse_categorical_crossentropy\",\n",
    "              optimizer=keras.optimizers.SGD(learning_rate=1e-3),\n",
    "              metrics=[\"accuracy\"])\n",
    "expon_lr = ExponentialLearningRate(factor=1.005)"
   ]
  },
  {
   "cell_type": "markdown",
   "id": "d4c0edb6-91ea-41ea-9a3b-035fbb6d79c7",
   "metadata": {},
   "source": [
    "Now let's train the model for just 1 epoch:"
   ]
  },
  {
   "cell_type": "code",
   "execution_count": 22,
   "id": "914ad77f-a90e-45e1-904a-3029c40548a0",
   "metadata": {},
   "outputs": [
    {
     "name": "stderr",
     "output_type": "stream",
     "text": [
      "2021-10-20 14:04:42.843062: I tensorflow/compiler/mlir/mlir_graph_optimization_pass.cc:116] None of the MLIR optimization passes are enabled (registered 2)\n",
      "2021-10-20 14:04:42.868923: I tensorflow/core/platform/profile_utils/cpu_utils.cc:112] CPU Frequency: 1800005000 Hz\n"
     ]
    },
    {
     "name": "stdout",
     "output_type": "stream",
     "text": [
      "1719/1719 [==============================] - 6s 3ms/step - loss: nan - accuracy: 0.4866 - val_loss: nan - val_accuracy: 0.0958\n"
     ]
    }
   ],
   "source": [
    "model.load_weights('init.h5')\n",
    "history = model.fit(X_train, y_train, epochs=1,\n",
    "                    validation_data=(X_valid, y_valid),\n",
    "                    callbacks=[expon_lr])"
   ]
  },
  {
   "cell_type": "markdown",
   "id": "e53bdbad-b73a-40c1-a73f-9677da3a6488",
   "metadata": {},
   "source": [
    "We can now plot the loss as a functionof the learning rate:"
   ]
  },
  {
   "cell_type": "code",
   "execution_count": 31,
   "id": "1a364972-ad7c-4fc1-8b52-963d5d64e8fb",
   "metadata": {},
   "outputs": [
    {
     "data": {
      "text/plain": [
       "Text(0, 0.5, 'Loss')"
      ]
     },
     "execution_count": 31,
     "metadata": {},
     "output_type": "execute_result"
    },
    {
     "data": {
      "image/png": "[encoded data removed]",
      "text/plain": [
       "<Figure size 432x288 with 1 Axes>"
      ]
     },
     "metadata": {
      "needs_background": "light"
     },
     "output_type": "display_data"
    }
   ],
   "source": [
    "plt.plot(expon_lr.rates, expon_lr.losses)\n",
    "plt.gca().set_xscale('log')\n",
    "plt.hlines(min(expon_lr.losses), min(expon_lr.rates), max(expon_lr.rates), color='k')\n",
    "plt.axis([min(expon_lr.rates), max(expon_lr.rates), 0, expon_lr.losses[0]])\n",
    "plt.grid()\n",
    "plt.xlabel(\"Learning rate\")\n",
    "plt.ylabel(\"Loss\")"
   ]
  },
  {
   "cell_type": "markdown",
   "id": "a1e5414a-627f-4699-a024-56e852c11a90",
   "metadata": {},
   "source": [
    "The loss starts shooting back up violently when the learning rate goes over 6e-1, so let's try using half of that, at 3e-1:"
   ]
  },
  {
   "cell_type": "markdown",
   "id": "b85a87e0-a035-4b8a-8b97-00ee5b332554",
   "metadata": {},
   "source": [
    "## Training the model with the chosen learning rate"
   ]
  },
  {
   "cell_type": "code",
   "execution_count": 24,
   "id": "240a4b52-0036-4f59-a24d-eefa86a7f2a3",
   "metadata": {
    "tags": []
   },
   "outputs": [],
   "source": [
    "keras.backend.clear_session()\n",
    "np.random.seed(42)\n",
    "tf.random.set_seed(42)"
   ]
  },
  {
   "cell_type": "code",
   "execution_count": 27,
   "id": "d639896b-43e1-4783-bd7a-ea9c112b2b00",
   "metadata": {},
   "outputs": [
    {
     "data": {
      "text/plain": [
       "'./my_mnist_logs/run_001'"
      ]
     },
     "execution_count": 27,
     "metadata": {},
     "output_type": "execute_result"
    }
   ],
   "source": [
    "run_index = 1 # increment this at every run\n",
    "run_logdir = os.path.join(os.curdir, \"my_mnist_logs\", \"run_{:03d}\".format(run_index))\n",
    "run_logdir"
   ]
  },
  {
   "cell_type": "code",
   "execution_count": 33,
   "id": "f5f9fcda-7d2d-4bd3-a664-140018d8b679",
   "metadata": {},
   "outputs": [],
   "source": [
    "model.optimizer.learning_rate=3e-1"
   ]
  },
  {
   "cell_type": "code",
   "execution_count": 33,
   "id": "bbf027a5-c130-4424-9b8b-16eeb1e3649b",
   "metadata": {},
   "outputs": [],
   "source": [
    "model.load_weights('init.h5')"
   ]
  },
  {
   "cell_type": "code",
   "execution_count": 28,
   "id": "fed25743-5466-40df-a1f2-bd48c648620a",
   "metadata": {},
   "outputs": [
    {
     "name": "stderr",
     "output_type": "stream",
     "text": [
      "2021-10-20 14:04:49.796983: I tensorflow/core/profiler/lib/profiler_session.cc:136] Profiler session initializing.\n",
      "2021-10-20 14:04:49.797069: I tensorflow/core/profiler/lib/profiler_session.cc:155] Profiler session started.\n",
      "2021-10-20 14:04:49.800660: I tensorflow/core/profiler/lib/profiler_session.cc:172] Profiler session tear down.\n"
     ]
    },
    {
     "name": "stdout",
     "output_type": "stream",
     "text": [
      "Epoch 1/100\n",
      "   3/1719 [..............................] - ETA: 2:33 - loss: 2.4375 - accuracy: 0.1441"
     ]
    },
    {
     "name": "stderr",
     "output_type": "stream",
     "text": [
      "2021-10-20 14:04:50.343175: I tensorflow/core/profiler/lib/profiler_session.cc:136] Profiler session initializing.\n",
      "2021-10-20 14:04:50.343244: I tensorflow/core/profiler/lib/profiler_session.cc:155] Profiler session started.\n",
      "2021-10-20 14:04:50.355956: I tensorflow/core/profiler/lib/profiler_session.cc:71] Profiler session collecting data.\n",
      "2021-10-20 14:04:50.382588: I tensorflow/core/profiler/lib/profiler_session.cc:172] Profiler session tear down.\n",
      "2021-10-20 14:04:50.431141: I tensorflow/core/profiler/rpc/client/save_profile.cc:137] Creating directory: ./my_mnist_logs/run_001/train/plugins/profile/2021_10_20_14_04_50\n",
      "2021-10-20 14:04:50.441122: I tensorflow/core/profiler/rpc/client/save_profile.cc:143] Dumped gzipped tool data for trace.json.gz to ./my_mnist_logs/run_001/train/plugins/profile/2021_10_20_14_04_50/latitude-win.trace.json.gz\n",
      "2021-10-20 14:04:50.472302: I tensorflow/core/profiler/rpc/client/save_profile.cc:137] Creating directory: ./my_mnist_logs/run_001/train/plugins/profile/2021_10_20_14_04_50\n",
      "2021-10-20 14:04:50.476660: I tensorflow/core/profiler/rpc/client/save_profile.cc:143] Dumped gzipped tool data for memory_profile.json.gz to ./my_mnist_logs/run_001/train/plugins/profile/2021_10_20_14_04_50/latitude-win.memory_profile.json.gz\n",
      "2021-10-20 14:04:50.507070: I tensorflow/core/profiler/rpc/client/capture_profile.cc:251] Creating directory: ./my_mnist_logs/run_001/train/plugins/profile/2021_10_20_14_04_50Dumped tool data for xplane.pb to ./my_mnist_logs/run_001/train/plugins/profile/2021_10_20_14_04_50/latitude-win.xplane.pb\n",
      "Dumped tool data for overview_page.pb to ./my_mnist_logs/run_001/train/plugins/profile/2021_10_20_14_04_50/latitude-win.overview_page.pb\n",
      "Dumped tool data for input_pipeline.pb to ./my_mnist_logs/run_001/train/plugins/profile/2021_10_20_14_04_50/latitude-win.input_pipeline.pb\n",
      "Dumped tool data for tensorflow_stats.pb to ./my_mnist_logs/run_001/train/plugins/profile/2021_10_20_14_04_50/latitude-win.tensorflow_stats.pb\n",
      "Dumped tool data for kernel_stats.pb to ./my_mnist_logs/run_001/train/plugins/profile/2021_10_20_14_04_50/latitude-win.kernel_stats.pb\n",
      "\n"
     ]
    },
    {
     "name": "stdout",
     "output_type": "stream",
     "text": [
      "1719/1719 [==============================] - 6s 3ms/step - loss: 0.4196 - accuracy: 0.8677 - val_loss: 0.1028 - val_accuracy: 0.9696\n",
      "Epoch 2/100\n",
      "1719/1719 [==============================] - 6s 3ms/step - loss: 0.0933 - accuracy: 0.9708 - val_loss: 0.0952 - val_accuracy: 0.9724\n",
      "Epoch 3/100\n",
      "1719/1719 [==============================] - 5s 3ms/step - loss: 0.0677 - accuracy: 0.9781 - val_loss: 0.0906 - val_accuracy: 0.9722\n",
      "Epoch 4/100\n",
      "1719/1719 [==============================] - 5s 3ms/step - loss: 0.0452 - accuracy: 0.9853 - val_loss: 0.0774 - val_accuracy: 0.9790\n",
      "Epoch 5/100\n",
      "1719/1719 [==============================] - 5s 3ms/step - loss: 0.0369 - accuracy: 0.9870 - val_loss: 0.1081 - val_accuracy: 0.9698\n",
      "Epoch 6/100\n",
      "1719/1719 [==============================] - 5s 3ms/step - loss: 0.0298 - accuracy: 0.9911 - val_loss: 0.0816 - val_accuracy: 0.9782\n",
      "Epoch 7/100\n",
      "1719/1719 [==============================] - 5s 3ms/step - loss: 0.0232 - accuracy: 0.9924 - val_loss: 0.0784 - val_accuracy: 0.9806\n",
      "Epoch 8/100\n",
      "1719/1719 [==============================] - 5s 3ms/step - loss: 0.0194 - accuracy: 0.9935 - val_loss: 0.0999 - val_accuracy: 0.9750\n",
      "Epoch 9/100\n",
      "1719/1719 [==============================] - 5s 3ms/step - loss: 0.0181 - accuracy: 0.9941 - val_loss: 0.0857 - val_accuracy: 0.9822\n",
      "Epoch 10/100\n",
      "1719/1719 [==============================] - 5s 3ms/step - loss: 0.0128 - accuracy: 0.9960 - val_loss: 0.0798 - val_accuracy: 0.9838\n",
      "Epoch 11/100\n",
      "1719/1719 [==============================] - 5s 3ms/step - loss: 0.0090 - accuracy: 0.9970 - val_loss: 0.0859 - val_accuracy: 0.9852\n",
      "Epoch 12/100\n",
      "1719/1719 [==============================] - 5s 3ms/step - loss: 0.0046 - accuracy: 0.9985 - val_loss: 0.0890 - val_accuracy: 0.9814\n",
      "Epoch 13/100\n",
      "1719/1719 [==============================] - 5s 3ms/step - loss: 0.0105 - accuracy: 0.9964 - val_loss: 0.1111 - val_accuracy: 0.9776\n",
      "Epoch 14/100\n",
      "1719/1719 [==============================] - 6s 3ms/step - loss: 0.0064 - accuracy: 0.9981 - val_loss: 0.0882 - val_accuracy: 0.9832\n",
      "Epoch 15/100\n",
      "1719/1719 [==============================] - 7s 4ms/step - loss: 0.0119 - accuracy: 0.9968 - val_loss: 0.1098 - val_accuracy: 0.9778\n",
      "Epoch 16/100\n",
      "1719/1719 [==============================] - 5s 3ms/step - loss: 0.0073 - accuracy: 0.9979 - val_loss: 0.0893 - val_accuracy: 0.9840\n",
      "Epoch 17/100\n",
      "1719/1719 [==============================] - 5s 3ms/step - loss: 0.0064 - accuracy: 0.9979 - val_loss: 0.0900 - val_accuracy: 0.9840\n",
      "Epoch 18/100\n",
      "1719/1719 [==============================] - 5s 3ms/step - loss: 0.0041 - accuracy: 0.9988 - val_loss: 0.0921 - val_accuracy: 0.9852\n",
      "Epoch 19/100\n",
      "1719/1719 [==============================] - 5s 3ms/step - loss: 0.0020 - accuracy: 0.9995 - val_loss: 0.1001 - val_accuracy: 0.9838\n",
      "Epoch 20/100\n",
      "1719/1719 [==============================] - 5s 3ms/step - loss: 6.3914e-04 - accuracy: 0.9998 - val_loss: 0.0875 - val_accuracy: 0.9866\n",
      "Epoch 21/100\n",
      "1719/1719 [==============================] - 5s 3ms/step - loss: 3.0699e-04 - accuracy: 1.0000 - val_loss: 0.0866 - val_accuracy: 0.9866\n",
      "Epoch 22/100\n",
      "1719/1719 [==============================] - 5s 3ms/step - loss: 8.9490e-05 - accuracy: 1.0000 - val_loss: 0.0872 - val_accuracy: 0.9868\n",
      "Epoch 23/100\n",
      "1719/1719 [==============================] - 6s 3ms/step - loss: 6.4191e-05 - accuracy: 1.0000 - val_loss: 0.0882 - val_accuracy: 0.9872\n",
      "Epoch 24/100\n",
      "1719/1719 [==============================] - 6s 3ms/step - loss: 4.9379e-05 - accuracy: 1.0000 - val_loss: 0.0891 - val_accuracy: 0.9874\n"
     ]
    }
   ],
   "source": [
    "early_stopping_cb = keras.callbacks.EarlyStopping(patience=20)\n",
    "checkpoint_cb = keras.callbacks.ModelCheckpoint(\"my_mnist_model.h5\", save_best_only=True)\n",
    "tensorboard_cb = keras.callbacks.TensorBoard(run_logdir)\n",
    "\n",
    "history = model.fit(X_train, y_train, epochs=100,\n",
    "                    validation_data=(X_valid, y_valid),\n",
    "                    callbacks=[checkpoint_cb, early_stopping_cb, tensorboard_cb])"
   ]
  },
  {
   "cell_type": "code",
   "execution_count": 29,
   "id": "c7358fd2-a8ef-47e1-92be-09d4f2e4a592",
   "metadata": {},
   "outputs": [
    {
     "name": "stdout",
     "output_type": "stream",
     "text": [
      "313/313 [==============================] - 1s 3ms/step - loss: 0.0883 - accuracy: 0.9756\n"
     ]
    },
    {
     "data": {
      "text/plain": [
       "[0.08828520029783249, 0.975600004196167]"
      ]
     },
     "execution_count": 29,
     "metadata": {},
     "output_type": "execute_result"
    }
   ],
   "source": [
    "model = keras.models.load_model(\"my_mnist_model.h5\") # rollback to best model\n",
    "model.evaluate(X_test, y_test)"
   ]
  },
  {
   "cell_type": "markdown",
   "id": "b0f1ccc2-f691-4bf0-a9c0-b874d44cc775",
   "metadata": {},
   "source": [
    "We got over 98% accuracy. Finally, let's look at the learning curves using TensorBoard:"
   ]
  },
  {
   "cell_type": "code",
   "execution_count": 30,
   "id": "719b52e8-5a7b-4763-a44a-73e029474d94",
   "metadata": {},
   "outputs": [
    {
     "name": "stderr",
     "output_type": "stream",
     "text": [
      "UsageError: Line magic function `%tensorboard` not found.\n"
     ]
    }
   ],
   "source": [
    "%tensorboard --logdir=./my_mnist_logs --port=6006"
   ]
  }
 ],
 "metadata": {
  "kernelspec": {
   "display_name": "Python [conda env:ml-tf-2.4.1]",
   "language": "python",
   "name": "conda-env-ml-tf-2.4.1-py"
  },
  "language_info": {
   "codemirror_mode": {
    "name": "ipython",
    "version": 3
   },
   "file_extension": ".py",
   "mimetype": "text/x-python",
   "name": "python",
   "nbconvert_exporter": "python",
   "pygments_lexer": "ipython3",
   "version": "3.9.7"
  }
 },
 "nbformat": 4,
 "nbformat_minor": 5
}
