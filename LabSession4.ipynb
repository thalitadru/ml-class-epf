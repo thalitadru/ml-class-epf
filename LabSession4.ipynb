{
  "nbformat": 4,
  "nbformat_minor": 0,
  "metadata": {
    "colab": {
      "name": "LabSession4.ipynb",
      "provenance": [],
      "toc_visible": true,
      "authorship_tag": "ABX9TyN9sEPVES77G2uIaE3tnEkg",
      "include_colab_link": true
    },
    "kernelspec": {
      "name": "python3",
      "display_name": "Python 3"
    },
    "language_info": {
      "name": "python"
    }
  },
  "cells": [
    {
      "cell_type": "markdown",
      "metadata": {
        "id": "view-in-github",
        "colab_type": "text"
      },
      "source": [
        "<a href=\"https://colab.research.google.com/github/thalitadru/ml-class-epf/blob/main/LabSession4.ipynb\" target=\"_parent\"><img src=\"https://colab.research.google.com/assets/colab-badge.svg\" alt=\"Open In Colab\"/></a>"
      ]
    },
    {
      "cell_type": "markdown",
      "metadata": {
        "id": "RPLM2m6Ph9NR"
      },
      "source": [
        "*Credits:* Based on code written by [A. Géron](https://colab.research.google.com/github/ageron/handson-ml2/) for his \"Hands-on ML\" book. Code realeased under MIT license."
      ]
    },
    {
      "cell_type": "code",
      "metadata": {
        "id": "h13UMb-Dh9rl"
      },
      "source": [
        "import matplotlib.pyplot as plt\n",
        "import sklearn\n",
        "import numpy as np\n",
        "import pandas as pd\n",
        "import seaborn as sns\n",
        "import scipy as sp\n",
        "from scipy import stats\n"
      ],
      "execution_count": 1,
      "outputs": []
    },
    {
      "cell_type": "markdown",
      "metadata": {
        "id": "bJeMZ8BuLzu5"
      },
      "source": [
        "## Some useful plotting functions"
      ]
    },
    {
      "cell_type": "code",
      "metadata": {
        "id": "TlDIc5nliHL1"
      },
      "source": [
        "from matplotlib.colors import ListedColormap\n",
        "\n",
        "def plot_data(X, y, ax=None, axes=[-1.5, 2.45, -1, 1.5], alpha=0.5,):\n",
        "    if ax is None:\n",
        "        ax = plt.gcf().gca()\n",
        "    ax.plot(X[:, 0][y==0], X[:, 1][y==0], \"yo\", alpha=alpha)\n",
        "    ax.plot(X[:, 0][y==1], X[:, 1][y==1], \"bs\", alpha=alpha)\n",
        "    ax.axis(axes)\n",
        "    ax.set_xlabel(r\"$x_1$\", fontsize=18)\n",
        "    ax.set_ylabel(r\"$x_2$\", fontsize=18, rotation=0)\n",
        "\n",
        "def plot_decision_boundary(clf, X, y, ax=None, axes=[-1.5, 2.45, -1, 1.5], alpha=0.5, contour=True):\n",
        "    if ax is None:\n",
        "        ax = plt.gcf().gca()\n",
        "    x1s = np.linspace(axes[0], axes[1], 100)\n",
        "    x2s = np.linspace(axes[2], axes[3], 100)\n",
        "    x1, x2 = np.meshgrid(x1s, x2s)\n",
        "    X_new = np.c_[x1.ravel(), x2.ravel()]\n",
        "    y_pred = clf.predict(X_new).reshape(x1.shape)\n",
        "    custom_cmap = ListedColormap(['#fafab0','#9898ff','#a0faa0'])\n",
        "    ax.contourf(x1, x2, y_pred, alpha=0.3, cmap=custom_cmap)\n",
        "    if contour:\n",
        "        custom_cmap2 = ListedColormap(['#7d7d58','#4c4c7f','#507d50'])\n",
        "        ax.contour(x1, x2, y_pred, cmap=custom_cmap2, alpha=0.8)\n",
        "    plot_data(X, y, ax=ax, axes=axes, alpha=alpha)\n"
      ],
      "execution_count": 2,
      "outputs": []
    },
    {
      "cell_type": "markdown",
      "metadata": {
        "id": "ql_-5ShoJmAs"
      },
      "source": [
        "# A few experiments with ensembles on toy data"
      ]
    },
    {
      "cell_type": "markdown",
      "metadata": {
        "id": "E8-39XFOiHLv"
      },
      "source": [
        "Let's use the moons dataset:"
      ]
    },
    {
      "cell_type": "code",
      "metadata": {
        "id": "qbiODJ8piHLw"
      },
      "source": [
        "from sklearn.model_selection import train_test_split\n",
        "from sklearn.datasets import make_moons\n",
        "\n",
        "X, y = make_moons(n_samples=500, noise=0.30, random_state=42)\n",
        "X_train, X_test, y_train, y_test = train_test_split(X, y, random_state=42)"
      ],
      "execution_count": 3,
      "outputs": []
    },
    {
      "cell_type": "code",
      "metadata": {
        "colab": {
          "base_uri": "https://localhost:8080/",
          "height": 291
        },
        "id": "GoidC89aJqed",
        "outputId": "b3b64198-eb5d-4037-c953-a8b328d26435"
      },
      "source": [
        "plot_data(X_train, y_train)"
      ],
      "execution_count": 4,
      "outputs": [
        {
          "output_type": "display_data",
          "data": {
            "image/png": "[encoded data removed]",
            "text/plain": [
              "<Figure size 432x288 with 1 Axes>"
            ]
          },
          "metadata": {
            "needs_background": "light"
          }
        }
      ]
    },
    {
      "cell_type": "markdown",
      "metadata": {
        "id": "05_um2JriHLx"
      },
      "source": [
        "## Voting ensemble classifier\n",
        "\n",
        "First we import and instantiate the induvisual classifiers constituting our ensemble:"
      ]
    },
    {
      "cell_type": "code",
      "metadata": {
        "id": "oY2vXhCtiHLx"
      },
      "source": [
        "from sklearn.ensemble import RandomForestClassifier\n",
        "from sklearn.linear_model import LogisticRegression\n",
        "from sklearn.svm import SVC\n",
        "\n",
        "log_clf = LogisticRegression(solver=\"lbfgs\", random_state=42)\n",
        "rnd_clf = RandomForestClassifier(n_estimators=100, random_state=42)\n",
        "svm_clf = SVC(gamma=\"scale\", random_state=42)\n"
      ],
      "execution_count": 5,
      "outputs": []
    },
    {
      "cell_type": "markdown",
      "metadata": {
        "id": "xmlp7SeJKrcy"
      },
      "source": [
        "Then, we can use [`VotingClassifier`](https://scikit-learn.org/stable/modules/generated/sklearn.ensemble.VotingClassifier.html#sklearn.ensemble.VotingClassifier) to combine the individual estimators:"
      ]
    },
    {
      "cell_type": "code",
      "metadata": {
        "id": "HJEH7XKoKhuk"
      },
      "source": [
        "from sklearn.ensemble import VotingClassifier\n",
        "voting_clf = VotingClassifier(\n",
        "    estimators=[('lr', log_clf), ('rf', rnd_clf), ('svc', svm_clf)],\n",
        "    voting='hard')"
      ],
      "execution_count": 6,
      "outputs": []
    },
    {
      "cell_type": "markdown",
      "metadata": {
        "id": "RiUbgPfOK5Yw"
      },
      "source": [
        "Calling fit on the voting classifier will train the individual models:"
      ]
    },
    {
      "cell_type": "code",
      "metadata": {
        "id": "6FwTrUd2iHLx",
        "colab": {
          "base_uri": "https://localhost:8080/"
        },
        "outputId": "85aa93eb-7761-4621-d24c-2708d22dcbf7"
      },
      "source": [
        "voting_clf.fit(X_train, y_train)"
      ],
      "execution_count": 7,
      "outputs": [
        {
          "output_type": "execute_result",
          "data": {
            "text/plain": [
              "VotingClassifier(estimators=[('lr', LogisticRegression(random_state=42)),\n",
              "                             ('rf', RandomForestClassifier(random_state=42)),\n",
              "                             ('svc', SVC(random_state=42))])"
            ]
          },
          "metadata": {},
          "execution_count": 7
        }
      ]
    },
    {
      "cell_type": "markdown",
      "metadata": {
        "id": "-r1lESBvyppR"
      },
      "source": [
        "We can access the individual estimators trained for the ensamble through the attribute `estimators_`:"
      ]
    },
    {
      "cell_type": "code",
      "metadata": {
        "colab": {
          "base_uri": "https://localhost:8080/"
        },
        "id": "p3_DUy23xGs5",
        "outputId": "4360884e-e6a0-45f6-88a2-d38a654488bd"
      },
      "source": [
        "voting_clf.estimators_"
      ],
      "execution_count": 8,
      "outputs": [
        {
          "output_type": "execute_result",
          "data": {
            "text/plain": [
              "[LogisticRegression(random_state=42),\n",
              " RandomForestClassifier(random_state=42),\n",
              " SVC(random_state=42)]"
            ]
          },
          "metadata": {},
          "execution_count": 8
        }
      ]
    },
    {
      "cell_type": "code",
      "metadata": {
        "id": "pWWLBlJdiHLy",
        "colab": {
          "base_uri": "https://localhost:8080/",
          "height": 335
        },
        "outputId": "ad43da56-e7cc-47eb-91ed-b4e76e29f71d"
      },
      "source": [
        "from sklearn.metrics import accuracy_score\n",
        "fig, axs = plt.subplots(1, 4, figsize=(20,4))\n",
        "for i, clf in enumerate((log_clf, rnd_clf, svm_clf, voting_clf)):\n",
        "    clf.fit(X_train, y_train)\n",
        "    y_pred = clf.predict(X_test)\n",
        "    print(clf.__class__.__name__, accuracy_score(y_test, y_pred))\n",
        "    ax = axs[i]\n",
        "    plot_decision_boundary(clf, X_train, y_train, ax=ax)\n",
        "    ax.set_title(clf.__class__.__name__)"
      ],
      "execution_count": 9,
      "outputs": [
        {
          "output_type": "stream",
          "name": "stdout",
          "text": [
            "LogisticRegression 0.864\n",
            "RandomForestClassifier 0.896\n",
            "SVC 0.896\n",
            "VotingClassifier 0.912\n"
          ]
        },
        {
          "output_type": "display_data",
          "data": {
            "image/png": "[encoded data removed]",
            "text/plain": [
              "<Figure size 1440x288 with 4 Axes>"
            ]
          },
          "metadata": {
            "needs_background": "light"
          }
        }
      ]
    },
    {
      "cell_type": "markdown",
      "metadata": {
        "id": "8fe1aM-1yrBm"
      },
      "source": [
        "### Diversity within the ensemble\n",
        "Notice how the models make different mistakes:"
      ]
    },
    {
      "cell_type": "code",
      "metadata": {
        "colab": {
          "base_uri": "https://localhost:8080/"
        },
        "id": "AgZL0lEuxJ9n",
        "outputId": "21ac451e-b4cb-4ed2-cf52-382cbc40a048"
      },
      "source": [
        "individual_miss = set()\n",
        "for model in voting_clf.estimators_:\n",
        "    y_pred = model.predict(X_train)\n",
        "    miss_ids = np.arange(X_train.shape[0])[y_pred != y_train]\n",
        "    individual_miss = individual_miss.union(set(miss_ids))\n",
        "    print(f\"Mistakes on training set for model {model.__class__.__name__}: \\nsamples {miss_ids}\")"
      ],
      "execution_count": 10,
      "outputs": [
        {
          "output_type": "stream",
          "name": "stdout",
          "text": [
            "Mistakes on training set for model LogisticRegression: \n",
            "samples [  6   9  10  37  51  61  63  71  73  75  81  83  86  93  95  96  99 103\n",
            " 106 107 110 113 118 127 142 146 155 161 164 180 185 195 197 205 209 213\n",
            " 238 239 248 251 252 263 267 274 282 294 298 305 310 314 316 318 320 322\n",
            " 325 355 358 361 363]\n",
            "Mistakes on training set for model RandomForestClassifier: \n",
            "samples []\n",
            "Mistakes on training set for model SVC: \n",
            "samples [ 18  37  51  53  63  83  96 106 107 127 155 194 195 197 209 213 226 251\n",
            " 267 274 305 316 320 322 325 355 358 363]\n"
          ]
        }
      ]
    },
    {
      "cell_type": "markdown",
      "metadata": {
        "id": "6Odngmjv0g9v"
      },
      "source": [
        "The ensemble model allows to combine stengths and compensate weakeness of the composing models, finally making less mistakes"
      ]
    },
    {
      "cell_type": "code",
      "metadata": {
        "colab": {
          "base_uri": "https://localhost:8080/"
        },
        "id": "ce4l-YTyy9ax",
        "outputId": "ed907b80-861d-4002-cdb5-59cae1556a70"
      },
      "source": [
        "y_pred = voting_clf.predict(X_train)\n",
        "miss_ids = np.arange(X_train.shape[0])[y_pred != y_train]\n",
        "ensemble_miss = set(miss_ids)\n",
        "\n",
        "print(f'union of individual mistakes: {len(individual_miss)} samples\\n {sorted(individual_miss)}')\n",
        "print(f'ensemble mistakes: {len(ensemble_miss)} samples\\n {sorted(ensemble_miss)}' )"
      ],
      "execution_count": 11,
      "outputs": [
        {
          "output_type": "stream",
          "name": "stdout",
          "text": [
            "union of individual mistakes: 63 samples\n",
            " [6, 9, 10, 18, 37, 51, 53, 61, 63, 71, 73, 75, 81, 83, 86, 93, 95, 96, 99, 103, 106, 107, 110, 113, 118, 127, 142, 146, 155, 161, 164, 180, 185, 194, 195, 197, 205, 209, 213, 226, 238, 239, 248, 251, 252, 263, 267, 274, 282, 294, 298, 305, 310, 314, 316, 318, 320, 322, 325, 355, 358, 361, 363]\n",
            "ensemble mistakes: 24 samples\n",
            " [37, 51, 63, 83, 96, 106, 107, 127, 155, 195, 197, 209, 213, 251, 267, 274, 305, 316, 320, 322, 325, 355, 358, 363]\n"
          ]
        }
      ]
    },
    {
      "cell_type": "markdown",
      "metadata": {
        "id": "xHfGOx_h5qyp"
      },
      "source": [
        "Here you can see the predictions of each individual model for all the training samples over which one of them made mistakes"
      ]
    },
    {
      "cell_type": "code",
      "metadata": {
        "id": "qzrH2w4a1aLr"
      },
      "source": [
        "# pd.set_option('display.max_rows', 20)\n",
        "ids = np.array(sorted(individual_miss))\n",
        "df = pd.DataFrame(index=ids)\n",
        "for model in voting_clf.estimators_:\n",
        "    y_pred = model.predict(X_train[ids])\n",
        "    df[model.__class__.__name__] = y_pred\n",
        "df[voting_clf.__class__.__name__] = voting_clf.predict(X_train[ids])\n"
      ],
      "execution_count": 12,
      "outputs": []
    },
    {
      "cell_type": "markdown",
      "metadata": {
        "id": "aQLDjL2h6GHa"
      },
      "source": [
        "The prediction output by the voting ensamble is computed by simple majority voting, as verified by the assert statement bellow:"
      ]
    },
    {
      "cell_type": "code",
      "metadata": {
        "colab": {
          "base_uri": "https://localhost:8080/",
          "height": 419
        },
        "id": "-wEIrSv72QYF",
        "outputId": "50ec2684-7530-4296-9861-f70a50c2b4c1"
      },
      "source": [
        "df['Majority'] = df.aggregate(func=lambda x: stats.mode(x)[0][0], axis=1)\n",
        "assert((df['VotingClassifier'] == df['Majority']).all())\n",
        "df"
      ],
      "execution_count": 13,
      "outputs": [
        {
          "output_type": "execute_result",
          "data": {
            "text/html": [
              "<div>\n",
              "<style scoped>\n",
              "    .dataframe tbody tr th:only-of-type {\n",
              "        vertical-align: middle;\n",
              "    }\n",
              "\n",
              "    .dataframe tbody tr th {\n",
              "        vertical-align: top;\n",
              "    }\n",
              "\n",
              "    .dataframe thead th {\n",
              "        text-align: right;\n",
              "    }\n",
              "</style>\n",
              "<table border=\"1\" class=\"dataframe\">\n",
              "  <thead>\n",
              "    <tr style=\"text-align: right;\">\n",
              "      <th></th>\n",
              "      <th>LogisticRegression</th>\n",
              "      <th>RandomForestClassifier</th>\n",
              "      <th>SVC</th>\n",
              "      <th>VotingClassifier</th>\n",
              "      <th>Majority</th>\n",
              "    </tr>\n",
              "  </thead>\n",
              "  <tbody>\n",
              "    <tr>\n",
              "      <th>6</th>\n",
              "      <td>1</td>\n",
              "      <td>0</td>\n",
              "      <td>0</td>\n",
              "      <td>0</td>\n",
              "      <td>0</td>\n",
              "    </tr>\n",
              "    <tr>\n",
              "      <th>9</th>\n",
              "      <td>1</td>\n",
              "      <td>0</td>\n",
              "      <td>0</td>\n",
              "      <td>0</td>\n",
              "      <td>0</td>\n",
              "    </tr>\n",
              "    <tr>\n",
              "      <th>10</th>\n",
              "      <td>1</td>\n",
              "      <td>0</td>\n",
              "      <td>0</td>\n",
              "      <td>0</td>\n",
              "      <td>0</td>\n",
              "    </tr>\n",
              "    <tr>\n",
              "      <th>18</th>\n",
              "      <td>1</td>\n",
              "      <td>1</td>\n",
              "      <td>0</td>\n",
              "      <td>1</td>\n",
              "      <td>1</td>\n",
              "    </tr>\n",
              "    <tr>\n",
              "      <th>37</th>\n",
              "      <td>0</td>\n",
              "      <td>1</td>\n",
              "      <td>0</td>\n",
              "      <td>0</td>\n",
              "      <td>0</td>\n",
              "    </tr>\n",
              "    <tr>\n",
              "      <th>...</th>\n",
              "      <td>...</td>\n",
              "      <td>...</td>\n",
              "      <td>...</td>\n",
              "      <td>...</td>\n",
              "      <td>...</td>\n",
              "    </tr>\n",
              "    <tr>\n",
              "      <th>325</th>\n",
              "      <td>1</td>\n",
              "      <td>0</td>\n",
              "      <td>1</td>\n",
              "      <td>1</td>\n",
              "      <td>1</td>\n",
              "    </tr>\n",
              "    <tr>\n",
              "      <th>355</th>\n",
              "      <td>1</td>\n",
              "      <td>0</td>\n",
              "      <td>1</td>\n",
              "      <td>1</td>\n",
              "      <td>1</td>\n",
              "    </tr>\n",
              "    <tr>\n",
              "      <th>358</th>\n",
              "      <td>1</td>\n",
              "      <td>0</td>\n",
              "      <td>1</td>\n",
              "      <td>1</td>\n",
              "      <td>1</td>\n",
              "    </tr>\n",
              "    <tr>\n",
              "      <th>361</th>\n",
              "      <td>0</td>\n",
              "      <td>1</td>\n",
              "      <td>1</td>\n",
              "      <td>1</td>\n",
              "      <td>1</td>\n",
              "    </tr>\n",
              "    <tr>\n",
              "      <th>363</th>\n",
              "      <td>0</td>\n",
              "      <td>1</td>\n",
              "      <td>0</td>\n",
              "      <td>0</td>\n",
              "      <td>0</td>\n",
              "    </tr>\n",
              "  </tbody>\n",
              "</table>\n",
              "<p>63 rows × 5 columns</p>\n",
              "</div>"
            ],
            "text/plain": [
              "     LogisticRegression  RandomForestClassifier  ...  VotingClassifier  Majority\n",
              "6                     1                       0  ...                 0         0\n",
              "9                     1                       0  ...                 0         0\n",
              "10                    1                       0  ...                 0         0\n",
              "18                    1                       1  ...                 1         1\n",
              "37                    0                       1  ...                 0         0\n",
              "..                  ...                     ...  ...               ...       ...\n",
              "325                   1                       0  ...                 1         1\n",
              "355                   1                       0  ...                 1         1\n",
              "358                   1                       0  ...                 1         1\n",
              "361                   0                       1  ...                 1         1\n",
              "363                   0                       1  ...                 0         0\n",
              "\n",
              "[63 rows x 5 columns]"
            ]
          },
          "metadata": {},
          "execution_count": 13
        }
      ]
    },
    {
      "cell_type": "markdown",
      "metadata": {
        "id": "Elq-ZTzNLMXx"
      },
      "source": [
        "### Soft-Voting \n",
        "The same class `VotingClassifier` can be used to combine estimators through a weighted voting method. \n",
        "In this case, the voting is done by averaging the predicted class distributions of each individual classifier.\n",
        "\n",
        "Do achieve it, just pass the argument `voting='soft'` to the constructor: \n",
        "\n"
      ]
    },
    {
      "cell_type": "code",
      "metadata": {
        "colab": {
          "base_uri": "https://localhost:8080/"
        },
        "id": "ge9fAgBp4DYS",
        "outputId": "b1e286dd-91ae-494b-e46e-865bcd935a0b"
      },
      "source": [
        "log_clf = LogisticRegression(solver=\"lbfgs\", random_state=42)\n",
        "rnd_clf = RandomForestClassifier(n_estimators=100, random_state=42)\n",
        "svm_clf = SVC(gamma=\"scale\", probability=True, random_state=42)\n",
        "\n",
        "voting_clf = VotingClassifier(\n",
        "    estimators=[('lr', log_clf), ('rf', rnd_clf), ('svc', svm_clf)],\n",
        "    voting='soft')\n",
        "voting_clf.fit(X_train, y_train)"
      ],
      "execution_count": 14,
      "outputs": [
        {
          "output_type": "execute_result",
          "data": {
            "text/plain": [
              "VotingClassifier(estimators=[('lr', LogisticRegression(random_state=42)),\n",
              "                             ('rf', RandomForestClassifier(random_state=42)),\n",
              "                             ('svc', SVC(probability=True, random_state=42))],\n",
              "                 voting='soft')"
            ]
          },
          "metadata": {},
          "execution_count": 14
        }
      ]
    },
    {
      "cell_type": "code",
      "metadata": {
        "id": "lufFDn8TiHLz",
        "colab": {
          "base_uri": "https://localhost:8080/"
        },
        "outputId": "e1ab9f4e-0798-4bec-aa67-b3303b7d4761"
      },
      "source": [
        "voting_clf.score(X_test, y_test)"
      ],
      "execution_count": 15,
      "outputs": [
        {
          "output_type": "execute_result",
          "data": {
            "text/plain": [
              "0.92"
            ]
          },
          "metadata": {},
          "execution_count": 15
        }
      ]
    },
    {
      "cell_type": "markdown",
      "metadata": {
        "id": "w-F7z0jFAQrJ"
      },
      "source": [
        "Here are some plots to visualize the predicted probabilities for each indivisual classifier. Note that if we average them manually, we obtain the same response as the `VotingClassifier` we just trained."
      ]
    },
    {
      "cell_type": "code",
      "metadata": {
        "colab": {
          "base_uri": "https://localhost:8080/",
          "height": 293
        },
        "id": "3BBT8IPV01Zv",
        "outputId": "aa1ad62a-bf2b-44dd-c23f-66d30b4b4806"
      },
      "source": [
        "individual_miss = set()\n",
        "for model in voting_clf.estimators_:\n",
        "    y_pred = model.predict(X_train)\n",
        "    miss_ids = np.arange(X_train.shape[0])[y_pred != y_train]\n",
        "    individual_miss = individual_miss.union(set(miss_ids))\n",
        "\n",
        "\n",
        "fig, axs = plt.subplots(1, 5, figsize=(20,4))\n",
        "def plot_class_probas(y_pred_probas, name, ax):\n",
        "    mp = ax.imshow(y_pred_probas, vmin=0, vmax=1, cmap='coolwarm')\n",
        "    ax.set_title(name)\n",
        "    ax.set_xticks([0,1])\n",
        "    ax.set_xlabel(\"class id\")\n",
        "    ax.set_ylabel(\"samples\")\n",
        "    ax.axis(\"tight\")\n",
        "    return mp\n",
        "\n",
        "ids = np.array(sorted(individual_miss))[:10]\n",
        "y_pred_agg = np.zeros((len(ids),2), dtype=float)\n",
        "for i, model in enumerate(voting_clf.estimators_+[voting_clf]):\n",
        "    y_pred = model.predict_proba(X_train[ids])\n",
        "    if i<3:\n",
        "        y_pred_agg += y_pred/3.\n",
        "    ax = axs[i]\n",
        "    plot_class_probas(y_pred, model.__class__.__name__, ax )\n",
        "\n",
        "mp = plot_class_probas(y_pred_agg, 'Average\\nof predicted probas', axs[-1])\n",
        "fig.colorbar(mp)\n"
      ],
      "execution_count": 16,
      "outputs": [
        {
          "output_type": "execute_result",
          "data": {
            "text/plain": [
              "<matplotlib.colorbar.Colorbar at 0x7f79566f7b10>"
            ]
          },
          "metadata": {},
          "execution_count": 16
        },
        {
          "output_type": "display_data",
          "data": {
            "image/png": "[encoded data removed]",
            "text/plain": [
              "<Figure size 1440x288 with 6 Axes>"
            ]
          },
          "metadata": {
            "needs_background": "light"
          }
        }
      ]
    },
    {
      "cell_type": "markdown",
      "metadata": {
        "id": "UlGcPwV7pUL5"
      },
      "source": [
        "## Stacking ensemble\n",
        "Stacking ensembles or model stacking is the practice of learning multiple estimators and combine them ina smarter way. Instead of simply doing voting or averaging the predictions, we train a model to combine this estimators on separate hold-out set. This model is sometimes called a *blender* model or a *meta-learner*.\n",
        "\n",
        "Here is an example using a linear model as a blender. First we need to separate a hold-out split from our training data:"
      ]
    },
    {
      "cell_type": "code",
      "metadata": {
        "id": "zGhGhS4crRnT"
      },
      "source": [
        "X_train_train, X_train_blend, y_train_train, y_train_blend  = train_test_split(X_train, y_train, test_size=0.3)"
      ],
      "execution_count": 17,
      "outputs": []
    },
    {
      "cell_type": "markdown",
      "metadata": {
        "id": "sLcWKyWgscqw"
      },
      "source": [
        "Now we train the estimators composing our ensemble on the training subset **without the held-out split**."
      ]
    },
    {
      "cell_type": "code",
      "metadata": {
        "id": "6XDKtWkhrvdR"
      },
      "source": [
        "log_clf = LogisticRegression(solver=\"lbfgs\", random_state=42)\n",
        "rnd_clf = RandomForestClassifier(n_estimators=100, random_state=42)\n",
        "svm_clf = SVC(gamma=\"scale\", random_state=42)\n",
        "\n",
        "for clf in (log_clf, rnd_clf, svm_clf):\n",
        "    clf.fit(X_train_train, y_train_train)"
      ],
      "execution_count": 18,
      "outputs": []
    },
    {
      "cell_type": "markdown",
      "metadata": {
        "id": "RQ8V32Ipsrm-"
      },
      "source": [
        "Now we are going to use the hold-out split predictions of each individual estimator on the held-out set as training data for oure blending model.\n",
        "\n",
        "First, let us gather this data by making predictions:"
      ]
    },
    {
      "cell_type": "code",
      "metadata": {
        "colab": {
          "base_uri": "https://localhost:8080/",
          "height": 419
        },
        "id": "UgKKcOFprvWA",
        "outputId": "13f73dfb-c007-41c5-f5f3-b74b904b6c96"
      },
      "source": [
        "preds = {}\n",
        "for clf in (log_clf, rnd_clf, svm_clf):\n",
        "    preds[clf.__class__.__name__] = clf.predict(X_train_blend)\n",
        "df = pd.DataFrame(preds)\n",
        "df"
      ],
      "execution_count": 19,
      "outputs": [
        {
          "output_type": "execute_result",
          "data": {
            "text/html": [
              "<div>\n",
              "<style scoped>\n",
              "    .dataframe tbody tr th:only-of-type {\n",
              "        vertical-align: middle;\n",
              "    }\n",
              "\n",
              "    .dataframe tbody tr th {\n",
              "        vertical-align: top;\n",
              "    }\n",
              "\n",
              "    .dataframe thead th {\n",
              "        text-align: right;\n",
              "    }\n",
              "</style>\n",
              "<table border=\"1\" class=\"dataframe\">\n",
              "  <thead>\n",
              "    <tr style=\"text-align: right;\">\n",
              "      <th></th>\n",
              "      <th>LogisticRegression</th>\n",
              "      <th>RandomForestClassifier</th>\n",
              "      <th>SVC</th>\n",
              "    </tr>\n",
              "  </thead>\n",
              "  <tbody>\n",
              "    <tr>\n",
              "      <th>0</th>\n",
              "      <td>0</td>\n",
              "      <td>0</td>\n",
              "      <td>0</td>\n",
              "    </tr>\n",
              "    <tr>\n",
              "      <th>1</th>\n",
              "      <td>0</td>\n",
              "      <td>0</td>\n",
              "      <td>0</td>\n",
              "    </tr>\n",
              "    <tr>\n",
              "      <th>2</th>\n",
              "      <td>0</td>\n",
              "      <td>0</td>\n",
              "      <td>0</td>\n",
              "    </tr>\n",
              "    <tr>\n",
              "      <th>3</th>\n",
              "      <td>1</td>\n",
              "      <td>1</td>\n",
              "      <td>1</td>\n",
              "    </tr>\n",
              "    <tr>\n",
              "      <th>4</th>\n",
              "      <td>0</td>\n",
              "      <td>0</td>\n",
              "      <td>0</td>\n",
              "    </tr>\n",
              "    <tr>\n",
              "      <th>...</th>\n",
              "      <td>...</td>\n",
              "      <td>...</td>\n",
              "      <td>...</td>\n",
              "    </tr>\n",
              "    <tr>\n",
              "      <th>108</th>\n",
              "      <td>0</td>\n",
              "      <td>0</td>\n",
              "      <td>0</td>\n",
              "    </tr>\n",
              "    <tr>\n",
              "      <th>109</th>\n",
              "      <td>0</td>\n",
              "      <td>0</td>\n",
              "      <td>0</td>\n",
              "    </tr>\n",
              "    <tr>\n",
              "      <th>110</th>\n",
              "      <td>0</td>\n",
              "      <td>0</td>\n",
              "      <td>0</td>\n",
              "    </tr>\n",
              "    <tr>\n",
              "      <th>111</th>\n",
              "      <td>0</td>\n",
              "      <td>1</td>\n",
              "      <td>1</td>\n",
              "    </tr>\n",
              "    <tr>\n",
              "      <th>112</th>\n",
              "      <td>0</td>\n",
              "      <td>0</td>\n",
              "      <td>0</td>\n",
              "    </tr>\n",
              "  </tbody>\n",
              "</table>\n",
              "<p>113 rows × 3 columns</p>\n",
              "</div>"
            ],
            "text/plain": [
              "     LogisticRegression  RandomForestClassifier  SVC\n",
              "0                     0                       0    0\n",
              "1                     0                       0    0\n",
              "2                     0                       0    0\n",
              "3                     1                       1    1\n",
              "4                     0                       0    0\n",
              "..                  ...                     ...  ...\n",
              "108                   0                       0    0\n",
              "109                   0                       0    0\n",
              "110                   0                       0    0\n",
              "111                   0                       1    1\n",
              "112                   0                       0    0\n",
              "\n",
              "[113 rows x 3 columns]"
            ]
          },
          "metadata": {},
          "execution_count": 19
        }
      ]
    },
    {
      "cell_type": "markdown",
      "metadata": {
        "id": "58rg3yxDuR7z"
      },
      "source": [
        "This data can now be used to train our linear blender (we will use a logistic regression since we are doing classification). "
      ]
    },
    {
      "cell_type": "code",
      "metadata": {
        "colab": {
          "base_uri": "https://localhost:8080/"
        },
        "id": "gSMfAmjEuRvk",
        "outputId": "1fd00164-07b1-4c58-e06c-7eed65e42ac1"
      },
      "source": [
        "from sklearn.linear_model import LogisticRegression\n",
        "blender = LogisticRegression(random_state=42)\n",
        "blender.fit(df, y_train_blend)"
      ],
      "execution_count": 20,
      "outputs": [
        {
          "output_type": "execute_result",
          "data": {
            "text/plain": [
              "LogisticRegression(random_state=42)"
            ]
          },
          "metadata": {},
          "execution_count": 20
        }
      ]
    },
    {
      "cell_type": "markdown",
      "metadata": {
        "id": "nVHdmOxdvNJe"
      },
      "source": [
        "After fitting, the model has learned intercept and coeficients to combine the predictions of composing estimators:"
      ]
    },
    {
      "cell_type": "code",
      "metadata": {
        "colab": {
          "base_uri": "https://localhost:8080/"
        },
        "id": "z-kC_wKTuGJ7",
        "outputId": "378ad6b7-7eae-42a3-fda3-a9a2c2d5f40f"
      },
      "source": [
        "blender.coef_, blender.intercept_"
      ],
      "execution_count": 21,
      "outputs": [
        {
          "output_type": "execute_result",
          "data": {
            "text/plain": [
              "(array([[0.96046757, 1.62481915, 1.9361629 ]]), array([-2.13845732]))"
            ]
          },
          "metadata": {},
          "execution_count": 21
        }
      ]
    },
    {
      "cell_type": "markdown",
      "metadata": {
        "id": "dEdwG_iawfyE"
      },
      "source": [
        "Finally, we can combine models and blender to compute predictions and the accuracy score on the test set:"
      ]
    },
    {
      "cell_type": "code",
      "metadata": {
        "colab": {
          "base_uri": "https://localhost:8080/"
        },
        "id": "XF2zMlA1v9cG",
        "outputId": "a9f71afb-3c21-4965-b23f-74c80dc3c0b1"
      },
      "source": [
        "preds = {}\n",
        "for clf in (log_clf, rnd_clf, svm_clf):\n",
        "    preds[clf.__class__.__name__] = clf.predict(X_test)\n",
        "df = pd.DataFrame(preds)\n",
        "blender.score(df, y_test)"
      ],
      "execution_count": 22,
      "outputs": [
        {
          "output_type": "execute_result",
          "data": {
            "text/plain": [
              "0.904"
            ]
          },
          "metadata": {},
          "execution_count": 22
        }
      ]
    },
    {
      "cell_type": "markdown",
      "metadata": {
        "id": "XNmeZNGkwuWZ"
      },
      "source": [
        "This performance is not realy better than that of the voting ensemble. There are some factors that could be at cause:\n",
        "- stacking classifiers works better when combining the predictied probabilities instead of class labels. \n",
        "- the size of the held-out dataset may not be big enough to generate sufficient samples for training the blender. \n",
        "- the individual estimators were trained on a smaller training set. \n",
        "- the linear model is not complex enough to learn a good blending function\n",
        "\n",
        "We could train the estimators on the full training set, and do the hold-out split directly on the prediction data which is used to train the final model. \n",
        "More over, we can use cross-validation to generate multiple hold-out splits and train the blender with better confidence.\n",
        "We can also try to use a more complex model as a blender."
      ]
    },
    {
      "cell_type": "markdown",
      "metadata": {
        "id": "OcTylUjRvfal"
      },
      "source": [
        "All of this can be achieved using the classes [`Stackingclassifier`](https://scikit-learn.org/stable/modules/generated/sklearn.ensemble.StackingClassifier.html) or `StackingRegressor`. They will train the estimators on the full training data and train the final blender using cross validation.\n",
        "\n",
        "The default blender for classification is LogisticRegression. Notice how we get a similar score:"
      ]
    },
    {
      "cell_type": "code",
      "metadata": {
        "colab": {
          "base_uri": "https://localhost:8080/"
        },
        "id": "diPTbis4vcZL",
        "outputId": "37846d67-b3b3-43c6-b579-e21dc675a5b5"
      },
      "source": [
        "from sklearn.ensemble import StackingClassifier\n",
        "\n",
        "stack = StackingClassifier(\n",
        "    estimators=[('lr', log_clf), ('rf', rnd_clf), ('svc', svm_clf)],\n",
        "    cv=5)\n",
        "stack.fit(X_train, y_train)\n",
        "stack.score(X_test, y_test)"
      ],
      "execution_count": 23,
      "outputs": [
        {
          "output_type": "execute_result",
          "data": {
            "text/plain": [
              "0.896"
            ]
          },
          "metadata": {},
          "execution_count": 23
        }
      ]
    },
    {
      "cell_type": "code",
      "metadata": {
        "colab": {
          "base_uri": "https://localhost:8080/"
        },
        "id": "Ql6qryjFy45a",
        "outputId": "3153bab3-25ee-45a9-edef-7bb46ba10f21"
      },
      "source": [
        "stack.final_estimator_.coef_, stack.final_estimator_.intercept_"
      ],
      "execution_count": 24,
      "outputs": [
        {
          "output_type": "execute_result",
          "data": {
            "text/plain": [
              "(array([[-0.29315348,  0.80287311,  2.20560332]]), array([-0.0538289]))"
            ]
          },
          "metadata": {},
          "execution_count": 24
        }
      ]
    },
    {
      "cell_type": "markdown",
      "metadata": {
        "id": "HlSbBRGA2nyg"
      },
      "source": [
        "Now let's use random forests as a blender:"
      ]
    },
    {
      "cell_type": "code",
      "metadata": {
        "colab": {
          "base_uri": "https://localhost:8080/"
        },
        "id": "ykSYfo7S19Yg",
        "outputId": "c7651766-559b-4e04-9220-76c7e486d2ec"
      },
      "source": [
        "stack = StackingClassifier(\n",
        "    estimators=[('lr', log_clf), ('rf', rnd_clf), ('svc', svm_clf)],\n",
        "    final_estimator=RandomForestClassifier(n_estimators=100, random_state=42), cv=5)\n",
        "stack.fit(X_train, y_train)\n",
        "stack.score(X_test, y_test)"
      ],
      "execution_count": 25,
      "outputs": [
        {
          "output_type": "execute_result",
          "data": {
            "text/plain": [
              "0.912"
            ]
          },
          "metadata": {},
          "execution_count": 25
        }
      ]
    },
    {
      "cell_type": "markdown",
      "metadata": {
        "id": "7L9apAg6PmHJ"
      },
      "source": [
        "## Bagging\n",
        "\n",
        "Bagging classifiers can be created with `BaggingClassifier`. We need to pass another base estimator that will be fit by the constructor. Here is an example using decision trees:"
      ]
    },
    {
      "cell_type": "code",
      "metadata": {
        "id": "UPFrlP0TiHL0"
      },
      "source": [
        "from sklearn.ensemble import BaggingClassifier\n",
        "from sklearn.tree import DecisionTreeClassifier\n",
        "\n",
        "bag_clf = BaggingClassifier(\n",
        "    DecisionTreeClassifier(), n_estimators=500,\n",
        "    max_samples=100, bootstrap=True, random_state=42)\n"
      ],
      "execution_count": 26,
      "outputs": []
    },
    {
      "cell_type": "markdown",
      "metadata": {
        "id": "YNh01Mu2P_6u"
      },
      "source": [
        "When we call `fit` on the `BaggingClassifier` object, it will fit `n_estimator=500` trees on boostrapped subsets of the training data :"
      ]
    },
    {
      "cell_type": "code",
      "metadata": {
        "colab": {
          "base_uri": "https://localhost:8080/"
        },
        "id": "qZEJ_uXZP82A",
        "outputId": "474c9afa-a5cc-4bea-97c9-21be2c87e2b1"
      },
      "source": [
        "bag_clf.fit(X_train, y_train)"
      ],
      "execution_count": 27,
      "outputs": [
        {
          "output_type": "execute_result",
          "data": {
            "text/plain": [
              "BaggingClassifier(base_estimator=DecisionTreeClassifier(), max_samples=100,\n",
              "                  n_estimators=500, random_state=42)"
            ]
          },
          "metadata": {},
          "execution_count": 27
        }
      ]
    },
    {
      "cell_type": "markdown",
      "metadata": {
        "id": "JZ5p8DVJRWLy"
      },
      "source": [
        "Now we can use the bagging ensemble to make predictions on the test set"
      ]
    },
    {
      "cell_type": "code",
      "metadata": {
        "id": "3xGzto9xiHL0",
        "colab": {
          "base_uri": "https://localhost:8080/"
        },
        "outputId": "5ba84a16-c00b-4a33-9ea6-cd2120c583f7"
      },
      "source": [
        "from sklearn.metrics import accuracy_score\n",
        "y_pred = bag_clf.predict(X_test)\n",
        "print(\"Test accuracy for the bagged ensemble of decision trees\", accuracy_score(y_test, y_pred))"
      ],
      "execution_count": 28,
      "outputs": [
        {
          "output_type": "stream",
          "name": "stdout",
          "text": [
            "Test accuracy for the bagged ensemble of decision trees 0.904\n"
          ]
        }
      ]
    },
    {
      "cell_type": "markdown",
      "metadata": {
        "id": "ohHEF106u8TN"
      },
      "source": [
        "We can access the individual estimators trained for the ensamble through the attribute `estimators_`. This box plot sumarizes the test performance of the 500 individual trees. As a reference, the green line marks the test performance of the bagged ensemble of these same trees."
      ]
    },
    {
      "cell_type": "code",
      "metadata": {
        "colab": {
          "base_uri": "https://localhost:8080/",
          "height": 282
        },
        "id": "4rma7B-qvERJ",
        "outputId": "fb2d24a7-33ed-470c-8638-1c1bd6626e18"
      },
      "source": [
        "test_acc = []\n",
        "for estim in bag_clf.estimators_:\n",
        "    test_acc.append(estim.score(X_test, y_test))\n",
        "plt.boxplot(test_acc);\n",
        "plt.xticks([1],['accuracy of individual trees'])\n",
        "plt.hlines(bag_clf.score(X_test, y_test), 0.5, 1.5, color='g', label='Accuracy of\\nbagged ensemble')\n",
        "plt.legend()"
      ],
      "execution_count": 29,
      "outputs": [
        {
          "output_type": "execute_result",
          "data": {
            "text/plain": [
              "<matplotlib.legend.Legend at 0x7f7956753190>"
            ]
          },
          "metadata": {},
          "execution_count": 29
        },
        {
          "output_type": "display_data",
          "data": {
            "image/png": "[encoded data removed]",
            "text/plain": [
              "<Figure size 432x288 with 1 Axes>"
            ]
          },
          "metadata": {
            "needs_background": "light"
          }
        }
      ]
    },
    {
      "cell_type": "markdown",
      "metadata": {
        "id": "RNKxRNZ8Rt_Q"
      },
      "source": [
        "Here is an example comparison of a single decision tree against the bagged ensemble we just trained:"
      ]
    },
    {
      "cell_type": "code",
      "metadata": {
        "id": "A28q9CZciHL0",
        "colab": {
          "base_uri": "https://localhost:8080/"
        },
        "outputId": "65195a06-375f-4955-9296-7ded50e96a9f"
      },
      "source": [
        "tree_clf = DecisionTreeClassifier(random_state=42)\n",
        "tree_clf.fit(X_train, y_train)\n",
        "y_pred_tree = tree_clf.predict(X_test)\n",
        "print(\"Test accuracy for a single decision tree\", accuracy_score(y_test, y_pred_tree))\n",
        "\n",
        "y_pred = bag_clf.predict(X_test)\n",
        "print(\"Test accuracy for the bagged ensemble of decision trees\", accuracy_score(y_test, y_pred))"
      ],
      "execution_count": 30,
      "outputs": [
        {
          "output_type": "stream",
          "name": "stdout",
          "text": [
            "Test accuracy for a single decision tree 0.856\n",
            "Test accuracy for the bagged ensemble of decision trees 0.904\n"
          ]
        }
      ]
    },
    {
      "cell_type": "code",
      "metadata": {
        "scrolled": true,
        "id": "TuRcP_XjiHL1",
        "colab": {
          "base_uri": "https://localhost:8080/",
          "height": 321
        },
        "outputId": "b1849554-e054-4548-c873-cdaf0f1eac50"
      },
      "source": [
        "fix, axes = plt.subplots(ncols=2, figsize=(10,4), sharey=True)\n",
        "plt.sca(axes[0])\n",
        "plot_decision_boundary(tree_clf, X, y)\n",
        "plt.title(\"Decision Tree\", fontsize=14)\n",
        "plt.sca(axes[1])\n",
        "plot_decision_boundary(bag_clf, X, y)\n",
        "plt.title(\"Decision Trees with Bagging\", fontsize=14)\n",
        "plt.ylabel(\"\")"
      ],
      "execution_count": 31,
      "outputs": [
        {
          "output_type": "execute_result",
          "data": {
            "text/plain": [
              "Text(0, 0.5, '')"
            ]
          },
          "metadata": {},
          "execution_count": 31
        },
        {
          "output_type": "display_data",
          "data": {
            "image/png": "[encoded data removed]",
            "text/plain": [
              "<Figure size 720x288 with 2 Axes>"
            ]
          },
          "metadata": {
            "needs_background": "light"
          }
        }
      ]
    },
    {
      "cell_type": "markdown",
      "metadata": {
        "id": "luQ0eErAS1FD"
      },
      "source": [
        "### Out-of-bag evaluation\n",
        "\n",
        "Notice that in bagging, since each classifier is trained on a subsample fo the training set, there are always some unused training samples, that we call *out-of-bag*.\n",
        "These samples can be used to evaluate the generalization of that individual classifier: this is called the *out-of-bag score* (or oob score) .\n",
        "\n",
        "Averaging out-of-bag scores for all estimators can be a shortcut to estimating test performance without having to hold out and evaluate on separate validation set.\n",
        "\n",
        "We can ask Scikit-learn to compute this average oob score as follows:\n"
      ]
    },
    {
      "cell_type": "code",
      "metadata": {
        "id": "zPDy0x4QiHL2",
        "colab": {
          "base_uri": "https://localhost:8080/"
        },
        "outputId": "6316fcc2-5172-40a9-fd99-f0e09931c6cf"
      },
      "source": [
        "bag_clf = BaggingClassifier(\n",
        "    DecisionTreeClassifier(), n_estimators=500,\n",
        "    bootstrap=True, oob_score=True, random_state=40)\n",
        "bag_clf.fit(X_train, y_train)\n",
        "bag_clf.oob_score_.round(3)"
      ],
      "execution_count": 32,
      "outputs": [
        {
          "output_type": "execute_result",
          "data": {
            "text/plain": [
              "0.899"
            ]
          },
          "metadata": {},
          "execution_count": 32
        }
      ]
    },
    {
      "cell_type": "markdown",
      "metadata": {
        "id": "rtNliYULVB--"
      },
      "source": [
        "Notice it is not too far from the test performance"
      ]
    },
    {
      "cell_type": "code",
      "metadata": {
        "colab": {
          "base_uri": "https://localhost:8080/"
        },
        "id": "5WUuQEqBVCbR",
        "outputId": "0e77b2bb-0a2b-4299-a4de-e389d7521893"
      },
      "source": [
        "bag_clf.score(X_test, y_test).round(3)"
      ],
      "execution_count": 33,
      "outputs": [
        {
          "output_type": "execute_result",
          "data": {
            "text/plain": [
              "0.912"
            ]
          },
          "metadata": {},
          "execution_count": 33
        }
      ]
    }
  ]
}