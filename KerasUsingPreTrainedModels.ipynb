{
  "nbformat": 4,
  "nbformat_minor": 0,
  "metadata": {
    "colab": {
      "name": "KerasUsingPreTrainedModels.ipynb",
      "provenance": [],
      "collapsed_sections": [],
      "authorship_tag": "ABX9TyNXVgwFJzVnoyzKJPmo5ul6"
    },
    "kernelspec": {
      "name": "python3",
      "display_name": "Python 3"
    },
    "language_info": {
      "name": "python"
    }
  },
  "cells": [
    {
      "cell_type": "markdown",
      "metadata": {
        "id": "dky6s1aNj2JB"
      },
      "source": [
        "# Using pre-trained models from keras.applications"
      ]
    },
    {
      "cell_type": "code",
      "metadata": {
        "id": "--j6zFZjYCDZ"
      },
      "source": [
        "import tensorflow as tf\n",
        "import tensorflow.keras as keras\n",
        "\n",
        "from tensorflow.keras.preprocessing import image\n",
        "\n",
        "\n",
        "import numpy as np\n",
        "import matplotlib.pyplot as plt\n",
        "import os"
      ],
      "execution_count": null,
      "outputs": []
    },
    {
      "cell_type": "markdown",
      "metadata": {
        "id": "vQw585hfYeZI"
      },
      "source": [
        "## Pick a model:\n",
        "\n",
        "You can see all models available in `keras.applications` [on this page](https://keras.io/api/applications/#available-models).\n",
        "\n",
        "Try other models such as:\n",
        "- InceptionV3\n",
        "- MobileNetV2\n"
      ]
    },
    {
      "cell_type": "code",
      "metadata": {
        "id": "KNGIstgPYF6_"
      },
      "source": [
        "from tensorflow.keras.applications import resnet50\n",
        "from tensorflow.keras.applications.resnet50 import ResNet50\n",
        "\n",
        "model = ResNet50(weights='imagenet')"
      ],
      "execution_count": null,
      "outputs": []
    },
    {
      "cell_type": "markdown",
      "metadata": {
        "id": "NmHnj1lBi8_G"
      },
      "source": [
        "You can use `model.summary` and `keras.utils.plot_model` to help you visualize the architecture of the model you are using.\n",
        "\n",
        "Note how many trainable parameters the model has. Compare this quantity between models."
      ]
    },
    {
      "cell_type": "code",
      "metadata": {
        "id": "fbtLY2p5f-Cv"
      },
      "source": [
        "model.summary()"
      ],
      "execution_count": null,
      "outputs": []
    },
    {
      "cell_type": "code",
      "metadata": {
        "id": "MYJf9Cdli95u"
      },
      "source": [
        "keras.utils.plot_model(model)"
      ],
      "execution_count": null,
      "outputs": []
    },
    {
      "cell_type": "markdown",
      "metadata": {
        "id": "lysG7ayDYYo0"
      },
      "source": [
        "## Donwload an image to be classified\n",
        "If you are running this notebook locally (and not in colab), change the `cache_subdir` parameter to change where the image is downloaded. If you leave it empty, it defaults to `~/.keras`.\n"
      ]
    },
    {
      "cell_type": "code",
      "metadata": {
        "id": "--XhBlo2ZAGn"
      },
      "source": [
        "img_path = 'elephant.jpg'\n",
        "img_url = 'https://upload.wikimedia.org/wikipedia/commons/thumb/3/37/African_Bush_Elephant.jpg/1200px-African_Bush_Elephant.jpg'\n",
        "# img_path='platypus.jpg'\n",
        "# img_url='data:image/jpeg;base64,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'\n",
        "keras.utils.get_file(img_path, origin=img_url, cache_subdir='/content')"
      ],
      "execution_count": null,
      "outputs": []
    },
    {
      "cell_type": "markdown",
      "metadata": {
        "id": "NXg2xX6bqteS"
      },
      "source": [
        "**Note** You may need to adapt the image size (`target_size` parameter) to the shape expected by the model you are using."
      ]
    },
    {
      "cell_type": "code",
      "metadata": {
        "id": "PanpQxv9YFoe"
      },
      "source": [
        "img = image.load_img(img_path, target_size=(224, 224))\n",
        "plt.imshow(img)\n",
        "plt.axis('off');"
      ],
      "execution_count": null,
      "outputs": []
    },
    {
      "cell_type": "markdown",
      "metadata": {
        "id": "0hgx6z9hf22P"
      },
      "source": [
        "## Preprocessing image\n",
        "The image needs to have 4 dimensions. The first one correspond to the array of images submitted to the model (the batch). The second and third correspond to the height and width of the image, while the third corresponds to the color channels (red, green and blue).\n",
        "\n",
        "**Attention** In some models/libraries the convention is to have the channels dimension first, before height and width. You can also set keras to follow this convention if needed.\n",
        "\n",
        "Moreover, each model was trained expecting a specific input size, as well as specific pixel normalizations applied to the image. The function `preprocess_input` takes all into account and preprocess the image accordingly."
      ]
    },
    {
      "cell_type": "code",
      "metadata": {
        "id": "qXzdojpFYJ-J"
      },
      "source": [
        "x = image.img_to_array(img)\n",
        "x = np.expand_dims(x, axis=0)\n",
        "x = resnet50.preprocess_input(x)"
      ],
      "execution_count": null,
      "outputs": []
    },
    {
      "cell_type": "markdown",
      "metadata": {
        "id": "bXqTEC35f7Jq"
      },
      "source": [
        "## Computing predictions\n",
        "You can use `model.predict` to compute predictions for an array X as you would do to a custom created model. Each model may have associated functions to decode its output into probability predictions: it is the case for ResNet-50 with the `resnet50.decode_predictions`."
      ]
    },
    {
      "cell_type": "code",
      "metadata": {
        "id": "2di5ItgpYLZA"
      },
      "source": [
        "preds = model.predict(x)\n",
        "# decode the results into a list of tuples (class, description, probability)\n",
        "# (one such list for each sample in the batch)\n",
        "print('Predicted:', resnet50.decode_predictions(preds, top=3)[0])"
      ],
      "execution_count": null,
      "outputs": []
    }
  ]
}