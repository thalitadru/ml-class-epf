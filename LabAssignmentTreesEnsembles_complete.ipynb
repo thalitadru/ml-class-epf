{
  "cells": [
    {
      "cell_type": "markdown",
      "metadata": {
        "id": "ZOJg0qAE0-Ql"
      },
      "source": [
        "# Exercices\n",
        "You have 4 exercises in this lab assignment. First two are about ensemble models. Third is about decision trees and the last one, about creating a random forest from individual decision trees."
      ]
    },
    {
      "cell_type": "markdown",
      "metadata": {
        "id": "RPLM2m6Ph9NR"
      },
      "source": [
        "*Credits:* Based on [code written by A. Géron](https://github.com/ageron/handson-ml2) for his book \"\"Hands-on ML with scikit-learn, keras and tensorflow.\", 2nd edition 2019, O'Reilly Media. Code realeased under [Apache-2.0 License](https://github.com/ageron/handson-ml2/blob/master/LICENSE)."
      ]
    },
    {
      "cell_type": "code",
      "execution_count": 64,
      "metadata": {
        "id": "h13UMb-Dh9rl"
      },
      "outputs": [],
      "source": [
        "import matplotlib.pyplot as plt\n",
        "import sklearn\n",
        "import numpy as np\n",
        "import pandas as pd\n",
        "import seaborn as sns\n",
        "import scipy as sp\n",
        "from scipy import stats\n"
      ]
    },
    {
      "cell_type": "markdown",
      "metadata": {
        "id": "jXmHwioGiHMB"
      },
      "source": [
        "## Voting Classifier on MNIST\n",
        "### Data\n",
        "This exercise uses the MNIST dataset: a set of 28x28 images containing hadnwritten 0-9 digits. It can be loaded using `sklern` functions as follows:"
      ]
    },
    {
      "cell_type": "code",
      "execution_count": 65,
      "metadata": {
        "id": "AIDNAOvEW10P"
      },
      "outputs": [],
      "source": [
        "from sklearn.datasets import fetch_openml\n",
        "\n",
        "# Load data from https://www.openml.org/d/554\n",
        "X, y = fetch_openml(\"mnist_784\", version=1, return_X_y=True, as_frame=False)"
      ]
    },
    {
      "cell_type": "markdown",
      "metadata": {
        "id": "kOc3_9RNW10Q"
      },
      "source": [
        "Here the feaures in X are simply all the 784 pixels of any given image, in vectorized form. To visualize the orignal image, the vector must be reshaped back to a 2D array as follows:"
      ]
    },
    {
      "cell_type": "code",
      "execution_count": 66,
      "metadata": {
        "id": "5_bvQrgPW10R",
        "outputId": "2b8d3112-cc6b-47ad-b186-89ce1cb7f3bc",
        "colab": {
          "base_uri": "https://localhost:8080/",
          "height": 282
        }
      },
      "outputs": [
        {
          "output_type": "execute_result",
          "data": {
            "text/plain": [
              "<matplotlib.image.AxesImage at 0x7f5991784910>"
            ]
          },
          "metadata": {},
          "execution_count": 66
        },
        {
          "output_type": "display_data",
          "data": {
            "text/plain": [
              "<Figure size 432x288 with 1 Axes>"
            ],
            "image/png": "[encoded data removed]"
          },
          "metadata": {
            "needs_background": "light"
          }
        }
      ],
      "source": [
        "plt.imshow(X[0, :].reshape([28, 28]), cmap='Greys')"
      ]
    },
    {
      "cell_type": "markdown",
      "metadata": {
        "id": "V048kvt3W10T"
      },
      "source": [
        "**The goal** is to correctly predict the digit from the image pixels. This is what you have in the y array:"
      ]
    },
    {
      "cell_type": "code",
      "execution_count": 67,
      "metadata": {
        "id": "8SoGhQ1QW10U",
        "outputId": "aba37b82-55de-45a4-93a3-bd726bd03f7c",
        "colab": {
          "base_uri": "https://localhost:8080/"
        }
      },
      "outputs": [
        {
          "output_type": "execute_result",
          "data": {
            "text/plain": [
              "array(['5', '0', '4', '1', '9', '2', '1', '3', '1', '4'], dtype=object)"
            ]
          },
          "metadata": {},
          "execution_count": 67
        }
      ],
      "source": [
        "y[0:10]"
      ]
    },
    {
      "cell_type": "markdown",
      "metadata": {
        "id": "2WKby02uW10V"
      },
      "source": [
        "### Feture range and scaling\n",
        "In general, that pixel values here range in 0-255. However, since digits are always cented, pixels in the center of the image tend to have a larger variance than those at the border. To visualize this, observe the plotting of the stddev for each pixel across all images. See how pixels at the border have near 0 variance while  those at the center have a much large one."
      ]
    },
    {
      "cell_type": "code",
      "execution_count": 68,
      "metadata": {
        "id": "ryTDcO1JW10V",
        "outputId": "4ceda7d6-b44b-4132-ae43-6bbfe1819029",
        "colab": {
          "base_uri": "https://localhost:8080/",
          "height": 296
        }
      },
      "outputs": [
        {
          "output_type": "display_data",
          "data": {
            "text/plain": [
              "<Figure size 432x288 with 2 Axes>"
            ],
            "image/png": "[encoded data removed]"
          },
          "metadata": {
            "needs_background": "light"
          }
        }
      ],
      "source": [
        "plt.imshow(X.std(axis=0).reshape([28,28]))\n",
        "plt.colorbar()\n",
        "plt.title(\"Standard deviation per image location\\n (i.e. per feature)\")\n",
        "plt.show()"
      ]
    },
    {
      "cell_type": "markdown",
      "metadata": {
        "id": "x6Jpb20bW10W"
      },
      "source": [
        "Remember models trained with continuous optimization (especially 1st order methods) benefit from features having a similar range (because this leads to better conditioned cost functions). For these methods **it is recommended that you apply some form of feature scaling**. For example, after applying standard scaling, variances become mostly equal to 1, meaning all features lie in a similar range:"
      ]
    },
    {
      "cell_type": "code",
      "execution_count": 69,
      "metadata": {
        "id": "6z-lHhXvW10W",
        "outputId": "b8902b19-282a-40ee-a757-ebe20262e5ce",
        "colab": {
          "base_uri": "https://localhost:8080/",
          "height": 296
        }
      },
      "outputs": [
        {
          "output_type": "display_data",
          "data": {
            "text/plain": [
              "<Figure size 432x288 with 2 Axes>"
            ],
            "image/png": "[encoded data removed]"
          },
          "metadata": {
            "needs_background": "light"
          }
        }
      ],
      "source": [
        "from sklearn.preprocessing import StandardScaler\n",
        "\n",
        "X_scaled = StandardScaler().fit_transform(X)\n",
        "\n",
        "plt.imshow(X_scaled.std(axis=0).reshape([28,28]))\n",
        "plt.colorbar()\n",
        "plt.title(\"Standard deviation per image location\\n (i.e. per feature)\")\n",
        "plt.show()"
      ]
    },
    {
      "cell_type": "markdown",
      "metadata": {
        "id": "Ctg88aZ8W10X"
      },
      "source": [
        "### Exercise\n",
        "\n",
        "1. Load the MNIST data and split it into a training set, a validation set, and a test set (e.g., use 50,000 instances for training, 10,000 for validation, and 10,000 for testing). \n",
        "\n",
        "1. Then train various classifiers, such as a Random Forest classifier, an Extra-Trees classifier, and an SVM classifier. \n",
        "\n",
        "1. Next, try to combine them into an ensemble that outperforms each individual classifier on the validation set, using soft or hard voting.\n",
        "\n",
        "1. Once you have found one, try it on the test set. \n",
        " \n",
        "1. How much better does it perform compared to the individual classifiers?"
      ]
    },
    {
      "cell_type": "markdown",
      "metadata": {
        "id": "KjPeWyoFiHMC"
      },
      "source": [
        "Exercise: _Load the MNIST data and split it into a training set, a validation set, and a test set (e.g., use 50,000 instances for training, 10,000 for validation, and 10,000 for testing)._"
      ]
    },
    {
      "cell_type": "code",
      "execution_count": 70,
      "metadata": {
        "id": "CkZVH1EDiHMC"
      },
      "outputs": [],
      "source": [
        "from sklearn.model_selection import train_test_split"
      ]
    },
    {
      "cell_type": "code",
      "execution_count": 71,
      "metadata": {
        "id": "IFx3KHh6iHMC"
      },
      "outputs": [],
      "source": [
        "X_train_val, X_test, y_train_val, y_test = train_test_split(\n",
        "    X, y, test_size=10000, random_state=42)\n",
        "X_train, X_val, y_train, y_val = train_test_split(\n",
        "    X_train_val, y_train_val, test_size=10000, random_state=42)"
      ]
    },
    {
      "cell_type": "markdown",
      "metadata": {
        "id": "AHYHEZaViHMC"
      },
      "source": [
        "Exercise: _Then train various classifiers, such as a Random Forest classifier, an Extra-Trees classifier, and an SVM._"
      ]
    },
    {
      "cell_type": "code",
      "execution_count": 72,
      "metadata": {
        "id": "p_ofvkqliHMC"
      },
      "outputs": [],
      "source": [
        "from sklearn.ensemble import RandomForestClassifier, ExtraTreesClassifier\n",
        "from sklearn.svm import LinearSVC\n",
        "from sklearn.neural_network import MLPClassifier"
      ]
    },
    {
      "cell_type": "code",
      "execution_count": 73,
      "metadata": {
        "id": "GlyskDb7iHMC"
      },
      "outputs": [],
      "source": [
        "from sklearn.pipeline import make_pipeline\n",
        "\n",
        "random_forest_clf = RandomForestClassifier(n_estimators=100, random_state=42)\n",
        "extra_trees_clf = ExtraTreesClassifier(n_estimators=100, random_state=42)\n",
        "svm_clf = make_pipeline(StandardScaler(),\n",
        "                         LinearSVC(max_iter=100, random_state=42))\n",
        "mlp_clf = make_pipeline(StandardScaler(), \n",
        "                         MLPClassifier(random_state=42))"
      ]
    },
    {
      "cell_type": "code",
      "execution_count": 74,
      "metadata": {
        "id": "_dY1PzRLiHMD",
        "outputId": "58e5f0cf-e34f-480b-fc25-a7944e34cbfb",
        "colab": {
          "base_uri": "https://localhost:8080/"
        }
      },
      "outputs": [
        {
          "output_type": "stream",
          "name": "stdout",
          "text": [
            "Training the RandomForestClassifier(random_state=42)\n",
            "Training the ExtraTreesClassifier(random_state=42)\n",
            "Training the Pipeline(steps=[('standardscaler', StandardScaler()),\n",
            "                ('linearsvc', LinearSVC(max_iter=100, random_state=42))])\n"
          ]
        },
        {
          "output_type": "stream",
          "name": "stderr",
          "text": [
            "/usr/local/lib/python3.7/dist-packages/sklearn/svm/_base.py:1208: ConvergenceWarning: Liblinear failed to converge, increase the number of iterations.\n",
            "  ConvergenceWarning,\n"
          ]
        },
        {
          "output_type": "stream",
          "name": "stdout",
          "text": [
            "Training the Pipeline(steps=[('standardscaler', StandardScaler()),\n",
            "                ('mlpclassifier', MLPClassifier(random_state=42))])\n"
          ]
        }
      ],
      "source": [
        "estimators = [random_forest_clf, extra_trees_clf, svm_clf, mlp_clf]\n",
        "for estimator in estimators:\n",
        "    print(\"Training the\", estimator)\n",
        "    estimator.fit(X_train, y_train)"
      ]
    },
    {
      "cell_type": "code",
      "execution_count": 75,
      "metadata": {
        "id": "p0Z9Vni6iHMD",
        "outputId": "50d0a2aa-9c01-4411-88f3-41413583ce24",
        "colab": {
          "base_uri": "https://localhost:8080/"
        }
      },
      "outputs": [
        {
          "output_type": "execute_result",
          "data": {
            "text/plain": [
              "[0.9692, 0.9715, 0.8811, 0.9747]"
            ]
          },
          "metadata": {},
          "execution_count": 75
        }
      ],
      "source": [
        "[estimator.score(X_val, y_val) for estimator in estimators]"
      ]
    },
    {
      "cell_type": "markdown",
      "metadata": {
        "id": "SOR0eTK5iHMD"
      },
      "source": [
        "The linear SVM is far outperformed by the other classifiers. However, let's keep it for now since it may improve the voting classifier's performance."
      ]
    },
    {
      "cell_type": "markdown",
      "metadata": {
        "id": "qykABM52iHMD"
      },
      "source": [
        "Exercise: _Next, try to combine them into an ensemble that outperforms them all on the validation set, using a soft or hard voting classifier._"
      ]
    },
    {
      "cell_type": "code",
      "execution_count": 76,
      "metadata": {
        "id": "eMKwd6iYiHMD"
      },
      "outputs": [],
      "source": [
        "from sklearn.ensemble import VotingClassifier"
      ]
    },
    {
      "cell_type": "code",
      "execution_count": 77,
      "metadata": {
        "id": "9LIlZQwoiHMF"
      },
      "outputs": [],
      "source": [
        "named_estimators = [\n",
        "    (\"random_forest_clf\", random_forest_clf),\n",
        "    (\"extra_trees_clf\", extra_trees_clf),\n",
        "    (\"svm_clf\", svm_clf),\n",
        "    (\"mlp_clf\", mlp_clf),\n",
        "]"
      ]
    },
    {
      "cell_type": "code",
      "execution_count": 78,
      "metadata": {
        "id": "ZOCem9y5iHMF"
      },
      "outputs": [],
      "source": [
        "voting_clf = VotingClassifier(named_estimators)"
      ]
    },
    {
      "cell_type": "code",
      "execution_count": 79,
      "metadata": {
        "id": "ijKHMN1riHMF",
        "outputId": "b0340655-8452-4f9c-8953-e9ecc585f3bf",
        "colab": {
          "base_uri": "https://localhost:8080/"
        }
      },
      "outputs": [
        {
          "output_type": "stream",
          "name": "stderr",
          "text": [
            "/usr/local/lib/python3.7/dist-packages/sklearn/svm/_base.py:1208: ConvergenceWarning: Liblinear failed to converge, increase the number of iterations.\n",
            "  ConvergenceWarning,\n"
          ]
        },
        {
          "output_type": "execute_result",
          "data": {
            "text/plain": [
              "VotingClassifier(estimators=[('random_forest_clf',\n",
              "                              RandomForestClassifier(random_state=42)),\n",
              "                             ('extra_trees_clf',\n",
              "                              ExtraTreesClassifier(random_state=42)),\n",
              "                             ('svm_clf',\n",
              "                              Pipeline(steps=[('standardscaler',\n",
              "                                               StandardScaler()),\n",
              "                                              ('linearsvc',\n",
              "                                               LinearSVC(max_iter=100,\n",
              "                                                         random_state=42))])),\n",
              "                             ('mlp_clf',\n",
              "                              Pipeline(steps=[('standardscaler',\n",
              "                                               StandardScaler()),\n",
              "                                              ('mlpclassifier',\n",
              "                                               MLPClassifier(random_state=42))]))])"
            ]
          },
          "metadata": {},
          "execution_count": 79
        }
      ],
      "source": [
        "voting_clf.fit(X_train, y_train)"
      ]
    },
    {
      "cell_type": "code",
      "execution_count": 80,
      "metadata": {
        "id": "uc2zLtORiHMJ",
        "outputId": "0b3ba779-3dd0-4a4d-c1b7-a12cb5cfbe95",
        "colab": {
          "base_uri": "https://localhost:8080/"
        }
      },
      "outputs": [
        {
          "output_type": "execute_result",
          "data": {
            "text/plain": [
              "0.9721"
            ]
          },
          "metadata": {},
          "execution_count": 80
        }
      ],
      "source": [
        "voting_clf.score(X_val, y_val)"
      ]
    },
    {
      "cell_type": "code",
      "execution_count": 81,
      "metadata": {
        "id": "YpVD1TCUiHMK",
        "outputId": "597060e3-b31b-433e-b86b-2ab224fab616",
        "colab": {
          "base_uri": "https://localhost:8080/"
        }
      },
      "outputs": [
        {
          "output_type": "execute_result",
          "data": {
            "text/plain": [
              "[0.0, 0.0, 0.0, 0.0]"
            ]
          },
          "metadata": {},
          "execution_count": 81
        }
      ],
      "source": [
        "[estimator.score(X_val, y_val) for estimator in voting_clf.estimators_]"
      ]
    },
    {
      "cell_type": "markdown",
      "metadata": {
        "id": "UwIdHZQAiHMK"
      },
      "source": [
        "Let's remove the SVM to see if performance improves. It is possible to remove an estimator by setting it to `None` using `set_params()` like this:"
      ]
    },
    {
      "cell_type": "code",
      "execution_count": 82,
      "metadata": {
        "id": "0zfQiH10iHML",
        "outputId": "a5227e60-6195-47f2-a439-4a55ad0b183d",
        "colab": {
          "base_uri": "https://localhost:8080/"
        }
      },
      "outputs": [
        {
          "output_type": "execute_result",
          "data": {
            "text/plain": [
              "VotingClassifier(estimators=[('random_forest_clf',\n",
              "                              RandomForestClassifier(random_state=42)),\n",
              "                             ('extra_trees_clf',\n",
              "                              ExtraTreesClassifier(random_state=42)),\n",
              "                             ('svm_clf', None),\n",
              "                             ('mlp_clf',\n",
              "                              Pipeline(steps=[('standardscaler',\n",
              "                                               StandardScaler()),\n",
              "                                              ('mlpclassifier',\n",
              "                                               MLPClassifier(random_state=42))]))])"
            ]
          },
          "metadata": {},
          "execution_count": 82
        }
      ],
      "source": [
        "voting_clf.set_params(svm_clf=None)"
      ]
    },
    {
      "cell_type": "markdown",
      "metadata": {
        "id": "DH7LmONDiHML"
      },
      "source": [
        "This updated the list of estimators:"
      ]
    },
    {
      "cell_type": "code",
      "execution_count": 83,
      "metadata": {
        "id": "kvPGJQS5iHML",
        "outputId": "4be92eba-c7da-4118-ffe5-17b28ff08778",
        "colab": {
          "base_uri": "https://localhost:8080/"
        }
      },
      "outputs": [
        {
          "output_type": "execute_result",
          "data": {
            "text/plain": [
              "[('random_forest_clf', RandomForestClassifier(random_state=42)),\n",
              " ('extra_trees_clf', ExtraTreesClassifier(random_state=42)),\n",
              " ('svm_clf', None),\n",
              " ('mlp_clf', Pipeline(steps=[('standardscaler', StandardScaler()),\n",
              "                  ('mlpclassifier', MLPClassifier(random_state=42))]))]"
            ]
          },
          "metadata": {},
          "execution_count": 83
        }
      ],
      "source": [
        "voting_clf.estimators"
      ]
    },
    {
      "cell_type": "markdown",
      "metadata": {
        "id": "ByY9g2LviHMM"
      },
      "source": [
        "However, it did not update the list of _trained_ estimators:"
      ]
    },
    {
      "cell_type": "code",
      "execution_count": 84,
      "metadata": {
        "id": "PJy1zhLEiHMM",
        "outputId": "80d389f7-478b-4770-c2af-69a69125c5aa",
        "colab": {
          "base_uri": "https://localhost:8080/"
        }
      },
      "outputs": [
        {
          "output_type": "execute_result",
          "data": {
            "text/plain": [
              "[RandomForestClassifier(random_state=42),\n",
              " ExtraTreesClassifier(random_state=42),\n",
              " Pipeline(steps=[('standardscaler', StandardScaler()),\n",
              "                 ('linearsvc', LinearSVC(max_iter=100, random_state=42))]),\n",
              " Pipeline(steps=[('standardscaler', StandardScaler()),\n",
              "                 ('mlpclassifier', MLPClassifier(random_state=42))])]"
            ]
          },
          "metadata": {},
          "execution_count": 84
        }
      ],
      "source": [
        "voting_clf.estimators_"
      ]
    },
    {
      "cell_type": "markdown",
      "metadata": {
        "id": "vX0nZXe8iHMM"
      },
      "source": [
        "So we can either fit the `VotingClassifier` again, or just remove the SVM from the list of trained estimators:"
      ]
    },
    {
      "cell_type": "code",
      "execution_count": 85,
      "metadata": {
        "id": "3BJJCzJfiHMM"
      },
      "outputs": [],
      "source": [
        "del voting_clf.estimators_[2]"
      ]
    },
    {
      "cell_type": "markdown",
      "metadata": {
        "id": "rycohV1oiHMN"
      },
      "source": [
        "Now let's evaluate the `VotingClassifier` again:"
      ]
    },
    {
      "cell_type": "code",
      "execution_count": 86,
      "metadata": {
        "id": "oLlOOE5MiHMN",
        "outputId": "518d3b59-e90f-43ed-8f1c-d8a6e84a84d1",
        "colab": {
          "base_uri": "https://localhost:8080/"
        }
      },
      "outputs": [
        {
          "output_type": "execute_result",
          "data": {
            "text/plain": [
              "0.9751"
            ]
          },
          "metadata": {},
          "execution_count": 86
        }
      ],
      "source": [
        "voting_clf.score(X_val, y_val)"
      ]
    },
    {
      "cell_type": "markdown",
      "metadata": {
        "id": "ymZqf5g0iHMO"
      },
      "source": [
        "A bit better! The SVM was hurting performance. Now let's try using a soft voting classifier. We do not actually need to retrain the classifier, we can just set `voting` to `\"soft\"`:"
      ]
    },
    {
      "cell_type": "code",
      "execution_count": 87,
      "metadata": {
        "id": "azKVYkywiHMO"
      },
      "outputs": [],
      "source": [
        "voting_clf.voting = \"soft\""
      ]
    },
    {
      "cell_type": "code",
      "execution_count": 88,
      "metadata": {
        "id": "GF0kmQrhiHMO",
        "outputId": "f9a5ab1e-a371-4a32-b1d4-b92ab9aab53d",
        "colab": {
          "base_uri": "https://localhost:8080/"
        }
      },
      "outputs": [
        {
          "output_type": "execute_result",
          "data": {
            "text/plain": [
              "0.9783"
            ]
          },
          "metadata": {},
          "execution_count": 88
        }
      ],
      "source": [
        "voting_clf.score(X_val, y_val)"
      ]
    },
    {
      "cell_type": "markdown",
      "metadata": {
        "id": "VLDUlJwoiHMP"
      },
      "source": [
        "Nope, hard voting wins in this case."
      ]
    },
    {
      "cell_type": "markdown",
      "metadata": {
        "id": "5adIZhY4iHMP"
      },
      "source": [
        "_Once you have found one, try it on the test set. How much better does it perform compared to the individual classifiers?_"
      ]
    },
    {
      "cell_type": "code",
      "execution_count": 89,
      "metadata": {
        "id": "C2G08AxBiHMP",
        "outputId": "667b65fb-1ce0-48dc-f9d6-a40edfa0cf03",
        "colab": {
          "base_uri": "https://localhost:8080/"
        }
      },
      "outputs": [
        {
          "output_type": "execute_result",
          "data": {
            "text/plain": [
              "0.9717"
            ]
          },
          "metadata": {},
          "execution_count": 89
        }
      ],
      "source": [
        "voting_clf.voting = \"hard\"\n",
        "voting_clf.score(X_test, y_test)"
      ]
    },
    {
      "cell_type": "code",
      "execution_count": 90,
      "metadata": {
        "id": "StCQzvgziHMQ",
        "outputId": "52e87682-cf54-43f2-ce00-865efcb3d9be",
        "colab": {
          "base_uri": "https://localhost:8080/"
        }
      },
      "outputs": [
        {
          "output_type": "execute_result",
          "data": {
            "text/plain": [
              "[0.0, 0.0, 0.0]"
            ]
          },
          "metadata": {},
          "execution_count": 90
        }
      ],
      "source": [
        "[estimator.score(X_test, y_test) for estimator in voting_clf.estimators_]"
      ]
    },
    {
      "cell_type": "markdown",
      "metadata": {
        "id": "B3pEGA5TiHMQ"
      },
      "source": [
        "The voting classifier only very slightly reduced the error rate of the best model in this case."
      ]
    },
    {
      "cell_type": "markdown",
      "metadata": {
        "id": "T8-72W2ViHMQ"
      },
      "source": [
        "## Stacking Ensemble on MNIST\n",
        "1. Run the individual classifiers from the previous exercise to make predictions on the validation set, and create a new training set with the resulting predictions: each training instance is a vector containing the set of predictions from all your classifiers for an image, and the target is the image’s class.\n",
        "1. Train a classifier on this new training set. \n",
        "1. Congratulations, you have just trained a blender, and together with the classifiers it forms a stacking ensemble! \n",
        "1. Now evaluate the ensemble on the test set. \n",
        "1. For each image in the test set, make predictions with all your classifiers, then feed the predictions to the blender to get the ensemble’s predictions.\n",
        "1. How does it compare to the voting classifier you trained earlier?"
      ]
    },
    {
      "cell_type": "markdown",
      "metadata": {
        "id": "Uy8CAS_YiHMQ"
      },
      "source": [
        "Exercise: _Run the individual classifiers from the previous exercise to make predictions on the validation set, and create a new training set with the resulting predictions: each training instance is a vector containing the set of predictions from all your classifiers for an image, and the target is the image's class. Train a classifier on this new training set._"
      ]
    },
    {
      "cell_type": "code",
      "execution_count": 91,
      "metadata": {
        "id": "P6e0OSrqiHMR"
      },
      "outputs": [],
      "source": [
        "X_val_predictions = np.empty((len(X_val), len(estimators)), dtype=np.float32)\n",
        "\n",
        "for index, estimator in enumerate(estimators):\n",
        "    X_val_predictions[:, index] = estimator.predict(X_val)"
      ]
    },
    {
      "cell_type": "code",
      "execution_count": 92,
      "metadata": {
        "id": "MWzQDoQjiHMR",
        "outputId": "0b294212-f1e2-49b7-ee42-3b0a08cf83fa",
        "colab": {
          "base_uri": "https://localhost:8080/"
        }
      },
      "outputs": [
        {
          "output_type": "execute_result",
          "data": {
            "text/plain": [
              "array([[5., 5., 5., 5.],\n",
              "       [8., 8., 8., 8.],\n",
              "       [2., 2., 2., 2.],\n",
              "       ...,\n",
              "       [7., 7., 7., 7.],\n",
              "       [6., 6., 6., 6.],\n",
              "       [7., 7., 7., 7.]], dtype=float32)"
            ]
          },
          "metadata": {},
          "execution_count": 92
        }
      ],
      "source": [
        "X_val_predictions"
      ]
    },
    {
      "cell_type": "code",
      "execution_count": 93,
      "metadata": {
        "id": "mUsjeRVkiHMR",
        "outputId": "93ee07af-b05b-4948-a216-ca0098b74986",
        "colab": {
          "base_uri": "https://localhost:8080/"
        }
      },
      "outputs": [
        {
          "output_type": "execute_result",
          "data": {
            "text/plain": [
              "RandomForestClassifier(n_estimators=200, oob_score=True, random_state=42)"
            ]
          },
          "metadata": {},
          "execution_count": 93
        }
      ],
      "source": [
        "rnd_forest_blender = RandomForestClassifier(n_estimators=200, oob_score=True, random_state=42)\n",
        "rnd_forest_blender.fit(X_val_predictions, y_val)"
      ]
    },
    {
      "cell_type": "code",
      "execution_count": 94,
      "metadata": {
        "id": "HQooGENJiHMS",
        "outputId": "c5705b83-fe61-4a87-9495-81ac0643a574",
        "colab": {
          "base_uri": "https://localhost:8080/"
        }
      },
      "outputs": [
        {
          "output_type": "execute_result",
          "data": {
            "text/plain": [
              "0.9744"
            ]
          },
          "metadata": {},
          "execution_count": 94
        }
      ],
      "source": [
        "rnd_forest_blender.oob_score_"
      ]
    },
    {
      "cell_type": "markdown",
      "metadata": {
        "id": "dUZTcYJtiHMS"
      },
      "source": [
        "You could fine-tune this blender or try other types of blenders (e.g., an `MLPClassifier`), then select the best one using cross-validation, as always."
      ]
    },
    {
      "cell_type": "markdown",
      "metadata": {
        "id": "s02zj_b2iHMS"
      },
      "source": [
        "Exercise: _Congratulations, you have just trained a blender, and together with the classifiers they form a stacking ensemble! Now let's evaluate the ensemble on the test set. For each image in the test set, make predictions with all your classifiers, then feed the predictions to the blender to get the ensemble's predictions. How does it compare to the voting classifier you trained earlier?_"
      ]
    },
    {
      "cell_type": "code",
      "execution_count": 95,
      "metadata": {
        "id": "VvWsVnRCiHMS"
      },
      "outputs": [],
      "source": [
        "X_test_predictions = np.empty((len(X_test), len(estimators)), dtype=np.float32)\n",
        "\n",
        "for index, estimator in enumerate(estimators):\n",
        "    X_test_predictions[:, index] = estimator.predict(X_test)"
      ]
    },
    {
      "cell_type": "code",
      "execution_count": 96,
      "metadata": {
        "id": "EGxjBYjfiHMT"
      },
      "outputs": [],
      "source": [
        "y_pred = rnd_forest_blender.predict(X_test_predictions)"
      ]
    },
    {
      "cell_type": "code",
      "execution_count": 97,
      "metadata": {
        "id": "-jx00Xg4iHMT"
      },
      "outputs": [],
      "source": [
        "from sklearn.metrics import accuracy_score"
      ]
    },
    {
      "cell_type": "code",
      "execution_count": 98,
      "metadata": {
        "id": "d7vB_BzGiHMT",
        "outputId": "5f7df960-740b-4245-f1bc-21c4dd1a007d",
        "colab": {
          "base_uri": "https://localhost:8080/"
        }
      },
      "outputs": [
        {
          "output_type": "execute_result",
          "data": {
            "text/plain": [
              "0.9715"
            ]
          },
          "metadata": {},
          "execution_count": 98
        }
      ],
      "source": [
        "accuracy_score(y_test, y_pred)"
      ]
    },
    {
      "cell_type": "markdown",
      "metadata": {
        "id": "4gxqCAj8iHMU"
      },
      "source": [
        "This stacking ensemble does not perform as well as the voting classifier we trained earlier, it's not quite as good as the best individual classifier."
      ]
    },
    {
      "cell_type": "markdown",
      "metadata": {
        "id": "JSeZPqw_Qv0I"
      },
      "source": [
        "## (Optional) Train and fine-tune a decision tree\n",
        "Train and fine-tune a Decision Tree for the moons dataset by following these steps:  \n",
        "  1. Use `make_moons(n_samples=10000, noise=0.4)` to generate a moons dataset.   \n",
        "  1. Use `train_test_split()` to split the dataset into a training set and a test set.\n",
        "  1. Use grid search with cross-validation (with the help of the `GridSearchCV` class) to find good hyperparameter values for a `DecisionTreeClassifier`. Hint: try various values for `max_leaf_nodes`.\n",
        "  1. Train it on the full training set using these hyperparameters, and measure your model's performance on the test set. You should get roughly 85% to 87% accuracy."
      ]
    },
    {
      "cell_type": "markdown",
      "metadata": {
        "id": "FTSP2aLLiGLg"
      },
      "source": [
        "_Exercise: train and fine-tune a Decision Tree for the moons dataset._"
      ]
    },
    {
      "cell_type": "markdown",
      "metadata": {
        "id": "_VwIRK3DiGLh"
      },
      "source": [
        "a. Generate a moons dataset using `make_moons(n_samples=10000, noise=0.4)`."
      ]
    },
    {
      "cell_type": "markdown",
      "metadata": {
        "id": "IJ0MYy7hiGLh"
      },
      "source": [
        "Adding `random_state=42` to make this notebook's output constant:"
      ]
    },
    {
      "cell_type": "code",
      "execution_count": 99,
      "metadata": {
        "id": "DaNOcz4_iGLh"
      },
      "outputs": [],
      "source": [
        "from sklearn.datasets import make_moons\n",
        "\n",
        "X, y = make_moons(n_samples=10000, noise=0.4, random_state=42)"
      ]
    },
    {
      "cell_type": "markdown",
      "metadata": {
        "id": "Yb2p7buUiGLh"
      },
      "source": [
        "b. Split it into a training set and a test set using `train_test_split()`."
      ]
    },
    {
      "cell_type": "code",
      "execution_count": 100,
      "metadata": {
        "id": "SQLijF9IiGLh"
      },
      "outputs": [],
      "source": [
        "from sklearn.model_selection import train_test_split\n",
        "\n",
        "X_train, X_test, y_train, y_test = train_test_split(X, y, test_size=0.2, random_state=42)"
      ]
    },
    {
      "cell_type": "markdown",
      "metadata": {
        "id": "UWp4yYQAiGLh"
      },
      "source": [
        "c. Use grid search with cross-validation (with the help of the `GridSearchCV` class) to find good hyperparameter values for a `DecisionTreeClassifier`. Hint: try various values for `max_leaf_nodes`."
      ]
    },
    {
      "cell_type": "code",
      "execution_count": 101,
      "metadata": {
        "id": "SlGRKquBiGLh",
        "outputId": "36059c6b-a430-4e02-dfd2-235c98ea4751",
        "colab": {
          "base_uri": "https://localhost:8080/"
        }
      },
      "outputs": [
        {
          "output_type": "stream",
          "name": "stdout",
          "text": [
            "Fitting 3 folds for each of 294 candidates, totalling 882 fits\n"
          ]
        },
        {
          "output_type": "execute_result",
          "data": {
            "text/plain": [
              "GridSearchCV(cv=3, estimator=DecisionTreeClassifier(random_state=42),\n",
              "             param_grid={'max_leaf_nodes': [2, 3, 4, 5, 6, 7, 8, 9, 10, 11, 12,\n",
              "                                            13, 14, 15, 16, 17, 18, 19, 20, 21,\n",
              "                                            22, 23, 24, 25, 26, 27, 28, 29, 30,\n",
              "                                            31, ...],\n",
              "                         'min_samples_split': [2, 3, 4]},\n",
              "             verbose=1)"
            ]
          },
          "metadata": {},
          "execution_count": 101
        }
      ],
      "source": [
        "from sklearn.model_selection import GridSearchCV\n",
        "from sklearn.tree import DecisionTreeClassifier\n",
        "\n",
        "params = {'max_leaf_nodes': list(range(2, 100)), 'min_samples_split': [2, 3, 4]}\n",
        "grid_search_cv = GridSearchCV(DecisionTreeClassifier(random_state=42), params, verbose=1, cv=3)\n",
        "\n",
        "grid_search_cv.fit(X_train, y_train)"
      ]
    },
    {
      "cell_type": "code",
      "execution_count": 102,
      "metadata": {
        "id": "U6WBqZHEiGLh",
        "outputId": "18a3074a-deda-4394-cd7e-28c3d7982bd8",
        "colab": {
          "base_uri": "https://localhost:8080/"
        }
      },
      "outputs": [
        {
          "output_type": "execute_result",
          "data": {
            "text/plain": [
              "DecisionTreeClassifier(max_leaf_nodes=17, random_state=42)"
            ]
          },
          "metadata": {},
          "execution_count": 102
        }
      ],
      "source": [
        "grid_search_cv.best_estimator_"
      ]
    },
    {
      "cell_type": "markdown",
      "metadata": {
        "id": "6Zm_610HiGLi"
      },
      "source": [
        "d. Train it on the full training set using these hyperparameters, and measure your model's performance on the test set. You should get roughly 85% to 87% accuracy."
      ]
    },
    {
      "cell_type": "markdown",
      "metadata": {
        "id": "tiaMXEGmiGLi"
      },
      "source": [
        "By default, `GridSearchCV` trains the best model found on the whole training set (you can change this by setting `refit=False`), so we don't need to do it again. We can simply evaluate the model's accuracy:"
      ]
    },
    {
      "cell_type": "code",
      "execution_count": 103,
      "metadata": {
        "id": "UiyETb0iiGLi",
        "outputId": "785f2e23-9ec5-49f6-ab4f-0175c5d0c0b0",
        "colab": {
          "base_uri": "https://localhost:8080/"
        }
      },
      "outputs": [
        {
          "output_type": "execute_result",
          "data": {
            "text/plain": [
              "0.8695"
            ]
          },
          "metadata": {},
          "execution_count": 103
        }
      ],
      "source": [
        "from sklearn.metrics import accuracy_score\n",
        "\n",
        "y_pred = grid_search_cv.predict(X_test)\n",
        "accuracy_score(y_test, y_pred)"
      ]
    },
    {
      "cell_type": "markdown",
      "metadata": {
        "id": "F4wJJZPrRCzo"
      },
      "source": [
        "## (Optional) Grow your own random forest\n",
        "Grow a forest by following these steps:  \n",
        "  \n",
        "  1. Continuing the previous exercise, generate 1,000 subsets of the training set, each containing 100 instances selected randomly. *Hint*: you can use ScikitLearn’s `ShuffleSplit` class for this.  \n",
        "  1. Train one Decision Tree on each subset, using the best hyperparameter values found in the previous exercise. Evaluate these 1,000 Decision Trees on the test set. Since they were trained on smaller sets, these Decision Trees will likely perform worse than the first Decision Tree, achieving only about 80% accuracy.  \n",
        "  1. Now comes the magic. For each test set instance, generate the predictions of the 1,000 Decision Trees, and keep only the most frequent prediction (you can use SciPy’s mode() function for this). This approach gives you majority-vote predictions over the test set.  \n",
        "  1. Evaluate these predictions on the test set: you should obtain a slightly higher accuracy than your first model (about 0.5 to 1.5% higher).   \n",
        "  1. Congratulations, you have trained a Random Forest classifier!"
      ]
    },
    {
      "cell_type": "markdown",
      "metadata": {
        "id": "55onW0nfiGLi"
      },
      "source": [
        "_Exercise: Grow a forest._"
      ]
    },
    {
      "cell_type": "markdown",
      "metadata": {
        "id": "4-4ZiB5NiGLi"
      },
      "source": [
        "a. Continuing the previous exercise, generate 1,000 subsets of the training set, each containing 100 instances selected randomly. Hint: you can use Scikit-Learn's `ShuffleSplit` class for this."
      ]
    },
    {
      "cell_type": "code",
      "execution_count": 104,
      "metadata": {
        "id": "vgYAX7dDiGLi"
      },
      "outputs": [],
      "source": [
        "from sklearn.model_selection import ShuffleSplit\n",
        "\n",
        "n_trees = 1000\n",
        "n_instances = 100\n",
        "\n",
        "mini_sets = []\n",
        "\n",
        "rs = ShuffleSplit(n_splits=n_trees, test_size=len(X_train) - n_instances, random_state=42)\n",
        "for mini_train_index, mini_test_index in rs.split(X_train):\n",
        "    X_mini_train = X_train[mini_train_index]\n",
        "    y_mini_train = y_train[mini_train_index]\n",
        "    mini_sets.append((X_mini_train, y_mini_train))"
      ]
    },
    {
      "cell_type": "markdown",
      "metadata": {
        "id": "kJePxp5kiGLj"
      },
      "source": [
        "b. Train one Decision Tree on each subset, using the best hyperparameter values found above. Evaluate these 1,000 Decision Trees on the test set. Since they were trained on smaller sets, these Decision Trees will likely perform worse than the first Decision Tree, achieving only about 80% accuracy."
      ]
    },
    {
      "cell_type": "code",
      "execution_count": 105,
      "metadata": {
        "id": "0a1Am3gciGLj",
        "outputId": "33a25dc1-61e2-45b7-c1db-f1f0a31521e5",
        "colab": {
          "base_uri": "https://localhost:8080/"
        }
      },
      "outputs": [
        {
          "output_type": "execute_result",
          "data": {
            "text/plain": [
              "0.8054499999999999"
            ]
          },
          "metadata": {},
          "execution_count": 105
        }
      ],
      "source": [
        "from sklearn.base import clone\n",
        "\n",
        "forest = [clone(grid_search_cv.best_estimator_) for _ in range(n_trees)]\n",
        "\n",
        "accuracy_scores = []\n",
        "\n",
        "for tree, (X_mini_train, y_mini_train) in zip(forest, mini_sets):\n",
        "    tree.fit(X_mini_train, y_mini_train)\n",
        "    \n",
        "    y_pred = tree.predict(X_test)\n",
        "    accuracy_scores.append(accuracy_score(y_test, y_pred))\n",
        "\n",
        "np.mean(accuracy_scores)"
      ]
    },
    {
      "cell_type": "markdown",
      "metadata": {
        "id": "yd83y52hiGLj"
      },
      "source": [
        "c. Now comes the magic. For each test set instance, generate the predictions of the 1,000 Decision Trees, and keep only the most frequent prediction (you can use SciPy's `mode()` function for this). This gives you _majority-vote predictions_ over the test set."
      ]
    },
    {
      "cell_type": "code",
      "execution_count": 106,
      "metadata": {
        "id": "y12FEDSTiGLj"
      },
      "outputs": [],
      "source": [
        "Y_pred = np.empty([n_trees, len(X_test)], dtype=np.uint8)\n",
        "\n",
        "for tree_index, tree in enumerate(forest):\n",
        "    Y_pred[tree_index] = tree.predict(X_test)"
      ]
    },
    {
      "cell_type": "code",
      "execution_count": 107,
      "metadata": {
        "id": "sjJ1quCmiGLj"
      },
      "outputs": [],
      "source": [
        "from scipy.stats import mode\n",
        "\n",
        "y_pred_majority_votes, n_votes = mode(Y_pred, axis=0)"
      ]
    },
    {
      "cell_type": "markdown",
      "metadata": {
        "id": "Ux9HcKwBiGLj"
      },
      "source": [
        "d. Evaluate these predictions on the test set: you should obtain a slightly higher accuracy than your first model (about 0.5 to 1.5% higher). Congratulations, you have trained a Random Forest classifier!"
      ]
    },
    {
      "cell_type": "code",
      "execution_count": 108,
      "metadata": {
        "id": "7yBPsVzPiGLj",
        "outputId": "13411823-dc92-4fc9-b818-1b81e14319dc",
        "colab": {
          "base_uri": "https://localhost:8080/"
        }
      },
      "outputs": [
        {
          "output_type": "execute_result",
          "data": {
            "text/plain": [
              "0.872"
            ]
          },
          "metadata": {},
          "execution_count": 108
        }
      ],
      "source": [
        "accuracy_score(y_test, y_pred_majority_votes.reshape([-1]))"
      ]
    },
    {
      "cell_type": "code",
      "source": [],
      "metadata": {
        "id": "pcSdK0OrrHNQ"
      },
      "execution_count": 108,
      "outputs": []
    }
  ],
  "metadata": {
    "colab": {
      "name": "LabAssignment4_complete.ipynb",
      "provenance": [],
      "toc_visible": true
    },
    "kernelspec": {
      "display_name": "Python 3.10.4 ('ml-latest')",
      "language": "python",
      "name": "python3"
    },
    "language_info": {
      "codemirror_mode": {
        "name": "ipython",
        "version": 3
      },
      "file_extension": ".py",
      "mimetype": "text/x-python",
      "name": "python",
      "nbconvert_exporter": "python",
      "pygments_lexer": "ipython3",
      "version": "3.10.4"
    },
    "vscode": {
      "interpreter": {
        "hash": "1bede9cc09fadb76754e231ea17b3d1b4d36d88785eed308e26382b97c73c356"
      }
    }
  },
  "nbformat": 4,
  "nbformat_minor": 0
}