{
  "cells": [
    {
      "cell_type": "markdown",
      "metadata": {},
      "source": [
        "<a href=\"https://colab.research.google.com/github/thalitadru/ml-class-epf/blob/main/TutorialNNwithKeras.ipynb\" target=\"_parent\"><img src=\"https://colab.research.google.com/assets/colab-badge.svg\" alt=\"Open In Colab\"/></a>"
      ]
    },
    {
      "cell_type": "markdown",
      "metadata": {},
      "source": [
        "# Tutorial: Sequential APIs of PyTorch and Keras"
      ]
    },
    {
      "cell_type": "code",
      "execution_count": 68,
      "metadata": {},
      "outputs": [],
      "source": [
        "import numpy as np\n",
        "import matplotlib.pyplot as plt\n",
        "import pandas as pd\n",
        "import torch\n",
        "import os\n",
        "\n",
        "# In this notebook we'll use torch as the backend for keras\n",
        "# comment the line bellow and restart the kernel if you want to use tensorflow.\n",
        "os.environ[\"KERAS_BACKEND\"] = \"torch\"\n",
        "\n",
        "import keras_core as keras"
      ]
    },
    {
      "cell_type": "markdown",
      "metadata": {},
      "source": [
        "Both `keras` and `torch.nn` offer you a high level API to implement neural networks easily.\n",
        "Most models can be represented using the `keras.Sequential`/`torch.nn.Sequential` API.\n",
        "For more complex models, we can use `keras.functional`/`torch.nn.functional` and/or sub-class `keras.Model`/`torch.nn.Module`.\n",
        "\n",
        "`keras` however has the advantage of providing built-in methods to train, predict and evaluate. On `torch.nn` it is necessary to write your own training and evaluation loops."
      ]
    },
    {
      "cell_type": "markdown",
      "metadata": {},
      "source": [
        "This tutorial demonstrates the `Sequential` API for both libraries, by reimplementing the network you coded during our last lab session.\n",
        "\n",
        "Here is a diagram of network:\n",
        "\n",
        "<img alt=\"NN diagram with 784 inputs, followed by 3 layers with 128, 64 and 10 nodes, respectively\" src=\"https://raw.githubusercontent.com/lionelmessi6410/Neural-Networks-from-Scratch/0145471d6124831c071b3a772c943b9a57128984//figs/deep_nn-1.png\" width=\"500\"></img>\n"
      ]
    },
    {
      "cell_type": "markdown",
      "metadata": {},
      "source": [
        "## Loading the dataset\n",
        "\n",
        "This time we'll use keras to load the MNIST dataset:"
      ]
    },
    {
      "cell_type": "code",
      "execution_count": 69,
      "metadata": {},
      "outputs": [],
      "source": [
        "# Load the data and split it between train and test sets\n",
        "(X_train, y_train), (X_test, y_test) = keras.datasets.mnist.load_data()"
      ]
    },
    {
      "cell_type": "markdown",
      "metadata": {},
      "source": [
        "Note that here the image pixels are not flatenned: we have 28x28 arrays. Also pay attention to the data type: we have pixel values in `uint8` (i.e., from 0 to 255)."
      ]
    },
    {
      "cell_type": "code",
      "execution_count": 70,
      "metadata": {},
      "outputs": [
        {
          "data": {
            "text/plain": [
              "numpy.ndarray"
            ]
          },
          "metadata": {},
          "output_type": "display_data"
        },
        {
          "data": {
            "text/plain": [
              "(60000, 28, 28)"
            ]
          },
          "metadata": {},
          "output_type": "display_data"
        },
        {
          "data": {
            "text/plain": [
              "dtype('uint8')"
            ]
          },
          "metadata": {},
          "output_type": "display_data"
        },
        {
          "data": {
            "text/plain": [
              "numpy.ndarray"
            ]
          },
          "metadata": {},
          "output_type": "display_data"
        },
        {
          "data": {
            "text/plain": [
              "(60000,)"
            ]
          },
          "metadata": {},
          "output_type": "display_data"
        },
        {
          "data": {
            "text/plain": [
              "dtype('uint8')"
            ]
          },
          "metadata": {},
          "output_type": "display_data"
        }
      ],
      "source": [
        "display(type(X_train), X_train.shape, X_train.dtype)\n",
        "display(type(y_train), y_train.shape, y_train.dtype)"
      ]
    },
    {
      "cell_type": "markdown",
      "metadata": {},
      "source": [
        "Before we proceed, we will:\n",
        "- flatten the images to 28*28 sized vectors (using `reshape`)\n",
        "- normalize pixel values to range $[0,1]$ (by casting them to `float32` then dividing by 255)"
      ]
    },
    {
      "cell_type": "code",
      "execution_count": 35,
      "metadata": {},
      "outputs": [],
      "source": [
        "#TODO YOUR CODE HERE\n"
      ]
    },
    {
      "cell_type": "markdown",
      "metadata": {},
      "source": [
        "## Implementation with [`torch.nn`](https://pytorch.org/docs/stable/nn.html)\n",
        "\n",
        "- [`torch.nn`](https://pytorch.org/docs/stable/nn.html) contains many useful utilities for neural netwoks and ML models in general\n",
        "- many commonly used layers and loss functions are readily available"
      ]
    },
    {
      "cell_type": "markdown",
      "metadata": {},
      "source": [
        "### Description\n",
        "We can use the layers already coded in [`torch.nn`](https://pytorch.org/docs/stable/nn.html) to express our network. "
      ]
    },
    {
      "cell_type": "code",
      "execution_count": 8,
      "metadata": {},
      "outputs": [],
      "source": [
        "from torch import nn"
      ]
    },
    {
      "cell_type": "markdown",
      "metadata": {},
      "source": [
        "We are going instantiate the layers, one after the other, to represent "
      ]
    },
    {
      "cell_type": "code",
      "execution_count": null,
      "metadata": {},
      "outputs": [],
      "source": [
        "#TODO On each layer, write the number of neurons it contains\n",
        "model = nn.Sequential(\n",
        "    nn.LazyLinear(),\n",
        "    nn.ReLU(),\n",
        "    nn.LazyLinear(),\n",
        "    nn.ReLU(),\n",
        "    nn.LazyLinear()\n",
        "    # we wont apply softmax in the architecture, it will be done when we compute the loss function\n",
        ")"
      ]
    },
    {
      "cell_type": "markdown",
      "metadata": {},
      "source": [
        "The fully-connected layers we implemented in the last lab can be created using `nn.Linear` or `nn.LazyLinear`:\n",
        "- with `nn.Linear` you need to specify the dimensions of the input and the output (so that it knows the shape for the weight matrix and bias vector)\n",
        "- with `nn.LazyLinear` you only need to state the number of neurons in that particular layer. When you first call the network on some data, the appropriate shape will be automatically inferred.\n",
        "\n",
        "Note the activation functions must be listed as separate layers."
      ]
    },
    {
      "cell_type": "markdown",
      "metadata": {},
      "source": [
        "If we display the model, we get a summary of its layers. Note how part of the shapes appear to be zero. This is because we have not ye given any data to the network."
      ]
    },
    {
      "cell_type": "code",
      "execution_count": 12,
      "metadata": {},
      "outputs": [
        {
          "data": {
            "text/plain": [
              "Sequential(\n",
              "  (0): LazyLinear(in_features=0, out_features=128, bias=True)\n",
              "  (1): ReLU()\n",
              "  (2): LazyLinear(in_features=0, out_features=64, bias=True)\n",
              "  (3): ReLU()\n",
              "  (4): LazyLinear(in_features=0, out_features=10, bias=True)\n",
              ")"
            ]
          },
          "metadata": {},
          "output_type": "display_data"
        }
      ],
      "source": [
        "display(model)"
      ]
    },
    {
      "cell_type": "markdown",
      "metadata": {},
      "source": [
        "Let's process some data with the forward pass, so that we can infer the proper shapes for the parameters. To do that, we call the model giving (a portion) ouf our dataset as argument:\n"
      ]
    },
    {
      "cell_type": "code",
      "execution_count": 13,
      "metadata": {},
      "outputs": [
        {
          "data": {
            "text/plain": [
              "tensor([[-0.1046,  0.0662, -0.0647, -0.0259,  0.0337,  0.0061, -0.0082, -0.0810,\n",
              "         -0.0025, -0.1022],\n",
              "        [-0.1274,  0.0425, -0.0552, -0.0180,  0.0164,  0.0393, -0.0033, -0.1047,\n",
              "          0.0055, -0.0899],\n",
              "        [-0.1049,  0.0563, -0.0672,  0.0172,  0.0494,  0.0146,  0.0154, -0.1149,\n",
              "         -0.0242, -0.0939]], grad_fn=<AddmmBackward0>)"
            ]
          },
          "execution_count": 13,
          "metadata": {},
          "output_type": "execute_result"
        }
      ],
      "source": [
        "model(torch.from_numpy(X_train)[0:3])"
      ]
    },
    {
      "cell_type": "markdown",
      "metadata": {},
      "source": [
        "\n",
        "_Note that we need to convert the numpy array to a torch tensor first, using `torch.from_numpy`._"
      ]
    },
    {
      "cell_type": "markdown",
      "metadata": {},
      "source": [
        "Now if we display the model summary again, we will see all the shapes defined:"
      ]
    },
    {
      "cell_type": "code",
      "execution_count": 14,
      "metadata": {},
      "outputs": [
        {
          "data": {
            "text/plain": [
              "Sequential(\n",
              "  (0): Linear(in_features=784, out_features=128, bias=True)\n",
              "  (1): ReLU()\n",
              "  (2): Linear(in_features=128, out_features=64, bias=True)\n",
              "  (3): ReLU()\n",
              "  (4): Linear(in_features=64, out_features=10, bias=True)\n",
              ")"
            ]
          },
          "metadata": {},
          "output_type": "display_data"
        }
      ],
      "source": [
        "display(model)"
      ]
    },
    {
      "cell_type": "markdown",
      "metadata": {},
      "source": [
        "### Loss function"
      ]
    },
    {
      "cell_type": "markdown",
      "metadata": {},
      "source": [
        "Besides layers, `torch.nn` also has many loss functions. "
      ]
    },
    {
      "cell_type": "code",
      "execution_count": 15,
      "metadata": {},
      "outputs": [
        {
          "name": "stdout",
          "output_type": "stream",
          "text": [
            "Avaliable losses in torch.nn\n"
          ]
        },
        {
          "data": {
            "text/plain": [
              "['AdaptiveLogSoftmaxWithLoss',\n",
              " 'BCELoss',\n",
              " 'BCEWithLogitsLoss',\n",
              " 'CTCLoss',\n",
              " 'CosineEmbeddingLoss',\n",
              " 'CrossEntropyLoss',\n",
              " 'GaussianNLLLoss',\n",
              " 'HingeEmbeddingLoss',\n",
              " 'HuberLoss',\n",
              " 'KLDivLoss',\n",
              " 'L1Loss',\n",
              " 'MSELoss',\n",
              " 'MarginRankingLoss',\n",
              " 'MultiLabelMarginLoss',\n",
              " 'MultiLabelSoftMarginLoss',\n",
              " 'MultiMarginLoss',\n",
              " 'NLLLoss',\n",
              " 'NLLLoss2d',\n",
              " 'PoissonNLLLoss',\n",
              " 'SmoothL1Loss',\n",
              " 'SoftMarginLoss',\n",
              " 'TripletMarginLoss',\n",
              " 'TripletMarginWithDistanceLoss']"
            ]
          },
          "execution_count": 15,
          "metadata": {},
          "output_type": "execute_result"
        }
      ],
      "source": [
        "print('Avaliable losses in torch.nn')\n",
        "[n for n in dir(torch.nn) if not n.startswith('_') and n.find('Loss')>-1]"
      ]
    },
    {
      "cell_type": "markdown",
      "metadata": {},
      "source": [
        "Since we have a classification problem, we'll use the cross-entropy loss. In [`torch.nn`](https://pytorch.org/docs/stable/nn.html), this loss expects to receive the networks outpus before softmax. These outputs are called **logits**. This is why we did not include a softmax activation at the end of the model we just described."
      ]
    },
    {
      "cell_type": "code",
      "execution_count": 16,
      "metadata": {},
      "outputs": [],
      "source": [
        "# Chech the documentation for the function and note that it states expecing logits as input\n",
        "# ?torch.nn.CrossEntropyLoss"
      ]
    },
    {
      "cell_type": "markdown",
      "metadata": {},
      "source": [
        "We can instantiate a loss function as follows:"
      ]
    },
    {
      "cell_type": "code",
      "execution_count": 17,
      "metadata": {},
      "outputs": [],
      "source": [
        "loss_fn = torch.nn.CrossEntropyLoss()"
      ]
    },
    {
      "cell_type": "markdown",
      "metadata": {},
      "source": [
        "We can then apply the loss to a pair of input `torch.Tensor`s:"
      ]
    },
    {
      "cell_type": "code",
      "execution_count": null,
      "metadata": {},
      "outputs": [],
      "source": [
        "#TODO complete the code bellow\n",
        "# Demonstration of loss fn on synthetic data\n",
        "# 1) generate 5 fake predictions (i.e. a 5x10 array with random values)\n",
        "fake_pred_logits = torch.from_numpy(...)\n",
        "# 2) pick 5 labels from the training set (i.e. the first 5 rows of y_train)\n",
        "fake_true_labels = torch.from_numpy(...)\n",
        "\n",
        "# 3) Calculate the loss\n",
        "loss_fn(fake_pred_logits, fake_true_labels)"
      ]
    },
    {
      "cell_type": "markdown",
      "metadata": {},
      "source": [
        "### Optimizer\n",
        "\n",
        "We have many iterative gradient-based optimization algorithms implemented in the module `torch.optim`:\n"
      ]
    },
    {
      "cell_type": "code",
      "execution_count": 19,
      "metadata": {},
      "outputs": [
        {
          "data": {
            "text/plain": [
              "['ASGD',\n",
              " 'Adadelta',\n",
              " 'Adagrad',\n",
              " 'Adam',\n",
              " 'AdamW',\n",
              " 'Adamax',\n",
              " 'LBFGS',\n",
              " 'NAdam',\n",
              " 'Optimizer',\n",
              " 'RAdam',\n",
              " 'RMSprop',\n",
              " 'Rprop',\n",
              " 'SGD',\n",
              " 'SparseAdam',\n",
              " 'lr_scheduler',\n",
              " 'swa_utils']"
            ]
          },
          "execution_count": 19,
          "metadata": {},
          "output_type": "execute_result"
        }
      ],
      "source": [
        "[n for n in dir(torch.optim) if not n.startswith('_')]"
      ]
    },
    {
      "cell_type": "markdown",
      "metadata": {},
      "source": [
        "We are going to use SGD with momentum for this example:"
      ]
    },
    {
      "cell_type": "code",
      "execution_count": 20,
      "metadata": {},
      "outputs": [],
      "source": [
        "# Optimizers specified in the torch.optim package\n",
        "optimizer = torch.optim.SGD(model.parameters(), lr=0.001, momentum=0.9)"
      ]
    },
    {
      "cell_type": "markdown",
      "metadata": {},
      "source": [
        "### Training \n",
        "\n",
        "Now we need to write a training loop, the same way we had to do in the last lab."
      ]
    },
    {
      "cell_type": "code",
      "execution_count": 23,
      "metadata": {},
      "outputs": [
        {
          "name": "stdout",
          "output_type": "stream",
          "text": [
            "EPOCH 1:\n",
            "  batch 1000 loss: 1.753686069190502\n",
            "  batch 2000 loss: 0.598740672133863\n",
            "  batch 3000 loss: 0.4397623418169096\n",
            "  batch 4000 loss: 0.40081194310169665\n",
            "  batch 5000 loss: 0.346750245091971\n",
            "  batch 6000 loss: 0.33392595157586036\n",
            "  batch 7000 loss: 0.2902937762066722\n",
            "  batch 8000 loss: 0.28731116868671963\n",
            "  batch 9000 loss: 0.2810087467390113\n",
            "EPOCH 2:\n",
            "  batch 1000 loss: 0.391277783308411\n",
            "  batch 2000 loss: 0.22629813047288916\n",
            "  batch 3000 loss: 0.20920873675961046\n",
            "  batch 4000 loss: 0.21710758922970855\n",
            "  batch 5000 loss: 0.19431770092237274\n",
            "  batch 6000 loss: 0.1891136191827245\n",
            "  batch 7000 loss: 0.17206865526689216\n",
            "  batch 8000 loss: 0.16911742506804875\n",
            "  batch 9000 loss: 0.1753131607613759\n"
          ]
        }
      ],
      "source": [
        "N_EPOCHS = 2\n",
        "\n",
        "BATCH_SIZE = bs = 5\n",
        "\n",
        "\n",
        "running_loss = 0\n",
        "for epoch in range(N_EPOCHS):\n",
        "    print('EPOCH {}:'.format(epoch + 1))\n",
        "\n",
        "    # Tell torch we want to use the model in train mode\n",
        "    model.train(True)  # this whay it knows it must keep track of gradients\n",
        "\n",
        "    # Now let's iterate through the data to adjust the network parameters\n",
        "    for i, batch_idx in enumerate(range(0, X_train.shape[0], bs)):\n",
        "        # Separate batch\n",
        "        X_train_batch = X_train[batch_idx:batch_idx+bs,...]\n",
        "        y_true_batch = y_train[batch_idx:batch_idx+bs]\n",
        "\n",
        "        # Convert numpy batches to torch tensor\n",
        "        X_train_batch = torch.from_numpy(X_train_batch)\n",
        "        y_true_batch = torch.from_numpy(y_true_batch)\n",
        "\n",
        "\n",
        "\n",
        "        # Now we start. First we compute the forward pass\n",
        "        pred_logits = model(X_train_batch)\n",
        "\n",
        "        # Then we compute the loss\n",
        "        # XXX Atention to the order of the arguments\n",
        "        # first y_pred, then y_true\n",
        "        loss = loss_fn(pred_logits, y_true_batch)\n",
        "\n",
        "        # To compute the backward pass, all we need to do is\n",
        "        loss.backward()  # This will compute the gradients of the loss function\n",
        "\n",
        "        # To apply the computed gradients as an optimization step\n",
        "        # thus updating the network's weights and biases, we just do\n",
        "        optimizer.step()\n",
        "\n",
        "        # In torch new gradients always get accumulated to the current value within the grad variables.\n",
        "        # We need to zero gradient variables between each call to `backward`\n",
        "        optimizer.zero_grad()  # if we dont reset the grad variables, we would be summing gradients of this iteration on top of those of the previous one.\n",
        "\n",
        "        # Gather data and report\n",
        "        running_loss += loss.item()\n",
        "        if i % 1000 == 999:\n",
        "            last_loss = running_loss / 1000 # loss per batch\n",
        "            print('  batch {} loss: {}'.format(i + 1, last_loss))\n",
        "            running_loss = 0.\n"
      ]
    },
    {
      "cell_type": "markdown",
      "metadata": {},
      "source": [
        "### Evaluation\n",
        "To use the model for inference only (without saving intermediate activations for backpropagation) we tell torch we are changing into `eval()` mode:"
      ]
    },
    {
      "cell_type": "code",
      "execution_count": 31,
      "metadata": {},
      "outputs": [
        {
          "data": {
            "text/plain": [
              "tensor([ -0.3067,  -3.1290,   6.4420,   6.2331,  -6.1542,  -1.7733, -12.4464,\n",
              "         12.1067,   0.6426,   1.7244], grad_fn=<SelectBackward0>)"
            ]
          },
          "execution_count": 31,
          "metadata": {},
          "output_type": "execute_result"
        }
      ],
      "source": [
        "model.eval()\n",
        "logits_test = model(torch.from_numpy(X_test))\n",
        "logits_test[0]"
      ]
    },
    {
      "cell_type": "markdown",
      "metadata": {},
      "source": [
        "Remember the network gives us the logits. To get probabilites, we need to apply softmax to the logits:"
      ]
    },
    {
      "cell_type": "code",
      "execution_count": 32,
      "metadata": {},
      "outputs": [
        {
          "data": {
            "text/plain": [
              "tensor([4.0382e-06, 2.4015e-07, 3.4445e-03, 2.7952e-03, 1.1659e-08, 9.3165e-07,\n",
              "        2.1577e-11, 9.9371e-01, 1.0434e-05, 3.0781e-05],\n",
              "       grad_fn=<SliceBackward0>)"
            ]
          },
          "execution_count": 32,
          "metadata": {},
          "output_type": "execute_result"
        }
      ],
      "source": [
        "probas_test = torch.nn.functional.softmax(logits_test, dim=1)\n",
        "probas_test[0,:]"
      ]
    },
    {
      "cell_type": "markdown",
      "metadata": {},
      "source": [
        "To get the predicted class id, we need to apply `argmax` (to either the logits or the porbabilites, we'll get the same results anyway):"
      ]
    },
    {
      "cell_type": "code",
      "execution_count": 33,
      "metadata": {},
      "outputs": [
        {
          "data": {
            "text/plain": [
              "7"
            ]
          },
          "execution_count": 33,
          "metadata": {},
          "output_type": "execute_result"
        }
      ],
      "source": [
        "y_pred_test = np.argmax(logits_test.detach().numpy(), axis=1)\n",
        "y_pred_test[0]"
      ]
    },
    {
      "cell_type": "markdown",
      "metadata": {},
      "source": [
        "From these predictions, we can compute evaluation metrics as usual:"
      ]
    },
    {
      "cell_type": "code",
      "execution_count": 29,
      "metadata": {},
      "outputs": [
        {
          "data": {
            "text/plain": [
              "0.9512"
            ]
          },
          "execution_count": 29,
          "metadata": {},
          "output_type": "execute_result"
        }
      ],
      "source": [
        "from sklearn.metrics import accuracy_score\n",
        "\n",
        "accuracy_score(y_test, y_pred_test)"
      ]
    },
    {
      "cell_type": "markdown",
      "metadata": {},
      "source": [
        "## Implementation with `keras`\n"
      ]
    },
    {
      "cell_type": "markdown",
      "metadata": {},
      "source": [
        "### Description\n",
        "Describing a model with keras will be very similar to [`torch.nn`](https://pytorch.org/docs/stable/nn.html). Here is the equivalent model in keras:"
      ]
    },
    {
      "cell_type": "code",
      "execution_count": 72,
      "metadata": {},
      "outputs": [],
      "source": [
        "\n",
        "model_k = keras.Sequential([\n",
        "    # We let keras know the expected input shape\n",
        "    keras.layers.Input(shape=(28*28,), name='Input'),\n",
        "    # Then we go on instantiating the layers\n",
        "    keras.layers.Dense(128, activation='relu', name='dense1'),\n",
        "    keras.layers.Dense(64, activation='relu', name='dense2'),\n",
        "    keras.layers.Dense(10, name='logits')\n",
        "    # we wont apply softmax in the architecture, it will be done when we compute the loss function\n",
        "])"
      ]
    },
    {
      "cell_type": "markdown",
      "metadata": {},
      "source": [
        "We can find many layers implemented in `keras.layers`. Note that here our usual fully-conneted layer is called a `Dense` layer here. \n",
        "Another difference: you can specify activation functions when instantiating the `Dense` layer. No need to "
      ]
    },
    {
      "cell_type": "markdown",
      "metadata": {},
      "source": [
        "Note we can also create the same network  using `model.add`:\n",
        "\n",
        "```python\n",
        "model = keras.models.Sequential()\n",
        "model.add(keras.layers.Input(shape=(28*28,)))\n",
        "model.add(keras.layers.Dense(128, activation='relu', name='dense1'))\n",
        "...\n",
        "# and so on\n",
        "```"
      ]
    },
    {
      "cell_type": "markdown",
      "metadata": {},
      "source": [
        "#### Printing the model summary\n",
        "The model’s summary() method displays all the model’s layers, including each layer’s\n",
        "name (which is automatically generated unless you set it when creating the layer), its output shape (None means the batch size can be anything), and its number of parameters. The summary ends with the total number of parameters, including trainable and non-trainable parameters. Here we only have trainable parameters (we will see examples of non-trainable parameters later when doing some transfer learning):"
      ]
    },
    {
      "cell_type": "code",
      "execution_count": 73,
      "metadata": {},
      "outputs": [
        {
          "data": {
            "text/html": [
              "<pre style=\"white-space:pre;overflow-x:auto;line-height:normal;font-family:Menlo,'DejaVu Sans Mono',consolas,'Courier New',monospace\"><span style=\"font-weight: bold\">Model: \"sequential_3\"</span>\n",
              "</pre>\n"
            ],
            "text/plain": [
              "\u001b[1mModel: \"sequential_3\"\u001b[0m\n"
            ]
          },
          "metadata": {},
          "output_type": "display_data"
        },
        {
          "data": {
            "text/html": [
              "<pre style=\"white-space:pre;overflow-x:auto;line-height:normal;font-family:Menlo,'DejaVu Sans Mono',consolas,'Courier New',monospace\">┏━━━━━━━━━━━━━━━━━━━━━━━━━━━━━━━━━┳━━━━━━━━━━━━━━━━━━━━━━━━━━━┳━━━━━━━━━━━━┓\n",
              "┃<span style=\"font-weight: bold\"> Layer (type)                    </span>┃<span style=\"font-weight: bold\"> Output Shape              </span>┃<span style=\"font-weight: bold\">    Param # </span>┃\n",
              "┡━━━━━━━━━━━━━━━━━━━━━━━━━━━━━━━━━╇━━━━━━━━━━━━━━━━━━━━━━━━━━━╇━━━━━━━━━━━━┩\n",
              "│ dense1 (<span style=\"color: #0087ff; text-decoration-color: #0087ff\">Dense</span>)                  │ (<span style=\"color: #00d7ff; text-decoration-color: #00d7ff\">None</span>, <span style=\"color: #00af00; text-decoration-color: #00af00\">128</span>)               │    <span style=\"color: #00af00; text-decoration-color: #00af00\">100,480</span> │\n",
              "├─────────────────────────────────┼───────────────────────────┼────────────┤\n",
              "│ dense2 (<span style=\"color: #0087ff; text-decoration-color: #0087ff\">Dense</span>)                  │ (<span style=\"color: #00d7ff; text-decoration-color: #00d7ff\">None</span>, <span style=\"color: #00af00; text-decoration-color: #00af00\">64</span>)                │      <span style=\"color: #00af00; text-decoration-color: #00af00\">8,256</span> │\n",
              "├─────────────────────────────────┼───────────────────────────┼────────────┤\n",
              "│ logits (<span style=\"color: #0087ff; text-decoration-color: #0087ff\">Dense</span>)                  │ (<span style=\"color: #00d7ff; text-decoration-color: #00d7ff\">None</span>, <span style=\"color: #00af00; text-decoration-color: #00af00\">10</span>)                │        <span style=\"color: #00af00; text-decoration-color: #00af00\">650</span> │\n",
              "└─────────────────────────────────┴───────────────────────────┴────────────┘\n",
              "</pre>\n"
            ],
            "text/plain": [
              "┏━━━━━━━━━━━━━━━━━━━━━━━━━━━━━━━━━┳━━━━━━━━━━━━━━━━━━━━━━━━━━━┳━━━━━━━━━━━━┓\n",
              "┃\u001b[1m \u001b[0m\u001b[1mLayer (type)                   \u001b[0m\u001b[1m \u001b[0m┃\u001b[1m \u001b[0m\u001b[1mOutput Shape             \u001b[0m\u001b[1m \u001b[0m┃\u001b[1m \u001b[0m\u001b[1m   Param #\u001b[0m\u001b[1m \u001b[0m┃\n",
              "┡━━━━━━━━━━━━━━━━━━━━━━━━━━━━━━━━━╇━━━━━━━━━━━━━━━━━━━━━━━━━━━╇━━━━━━━━━━━━┩\n",
              "│ dense1 (\u001b[38;5;33mDense\u001b[0m)                  │ (\u001b[38;5;45mNone\u001b[0m, \u001b[38;5;34m128\u001b[0m)               │    \u001b[38;5;34m100,480\u001b[0m │\n",
              "├─────────────────────────────────┼───────────────────────────┼────────────┤\n",
              "│ dense2 (\u001b[38;5;33mDense\u001b[0m)                  │ (\u001b[38;5;45mNone\u001b[0m, \u001b[38;5;34m64\u001b[0m)                │      \u001b[38;5;34m8,256\u001b[0m │\n",
              "├─────────────────────────────────┼───────────────────────────┼────────────┤\n",
              "│ logits (\u001b[38;5;33mDense\u001b[0m)                  │ (\u001b[38;5;45mNone\u001b[0m, \u001b[38;5;34m10\u001b[0m)                │        \u001b[38;5;34m650\u001b[0m │\n",
              "└─────────────────────────────────┴───────────────────────────┴────────────┘\n"
            ]
          },
          "metadata": {},
          "output_type": "display_data"
        },
        {
          "data": {
            "text/html": [
              "<pre style=\"white-space:pre;overflow-x:auto;line-height:normal;font-family:Menlo,'DejaVu Sans Mono',consolas,'Courier New',monospace\"><span style=\"font-weight: bold\"> Total params: </span><span style=\"color: #00af00; text-decoration-color: #00af00\">109,386</span> (427.29 KB)\n",
              "</pre>\n"
            ],
            "text/plain": [
              "\u001b[1m Total params: \u001b[0m\u001b[38;5;34m109,386\u001b[0m (427.29 KB)\n"
            ]
          },
          "metadata": {},
          "output_type": "display_data"
        },
        {
          "data": {
            "text/html": [
              "<pre style=\"white-space:pre;overflow-x:auto;line-height:normal;font-family:Menlo,'DejaVu Sans Mono',consolas,'Courier New',monospace\"><span style=\"font-weight: bold\"> Trainable params: </span><span style=\"color: #00af00; text-decoration-color: #00af00\">109,386</span> (427.29 KB)\n",
              "</pre>\n"
            ],
            "text/plain": [
              "\u001b[1m Trainable params: \u001b[0m\u001b[38;5;34m109,386\u001b[0m (427.29 KB)\n"
            ]
          },
          "metadata": {},
          "output_type": "display_data"
        },
        {
          "data": {
            "text/html": [
              "<pre style=\"white-space:pre;overflow-x:auto;line-height:normal;font-family:Menlo,'DejaVu Sans Mono',consolas,'Courier New',monospace\"><span style=\"font-weight: bold\"> Non-trainable params: </span><span style=\"color: #00af00; text-decoration-color: #00af00\">0</span> (0.00 B)\n",
              "</pre>\n"
            ],
            "text/plain": [
              "\u001b[1m Non-trainable params: \u001b[0m\u001b[38;5;34m0\u001b[0m (0.00 B)\n"
            ]
          },
          "metadata": {},
          "output_type": "display_data"
        }
      ],
      "source": [
        "model_k.summary()"
      ]
    },
    {
      "cell_type": "markdown",
      "metadata": {},
      "source": [
        "You can use the utility function [`keras.utils.plot_model`](https://keras.io/keras_core/api/utils/model_plotting_utils/#plot_model-function) to visualize a graph of the network you just created:\n",
        "\n",
        "_(This function has external dependencies. Follow the warning message to install the necessary software.)_"
      ]
    },
    {
      "cell_type": "code",
      "execution_count": 74,
      "metadata": {},
      "outputs": [
        {
          "data": {
            "image/png": "[encoded data removed]",
            "text/plain": [
              "<IPython.core.display.Image object>"
            ]
          },
          "execution_count": 74,
          "metadata": {},
          "output_type": "execute_result"
        }
      ],
      "source": [
        "keras.utils.plot_model(model_k, \"my_mnist_model.png\",\n",
        "                        show_shapes=True,\n",
        "                        show_layer_names=True,\n",
        "                        show_layer_activations=True,\n",
        "                        dpi=150)"
      ]
    },
    {
      "cell_type": "markdown",
      "metadata": {},
      "source": [
        "#### Layers and weights\n",
        " `model.layers` will contain a list of `keras.layers` at the end:"
      ]
    },
    {
      "cell_type": "code",
      "execution_count": 75,
      "metadata": {},
      "outputs": [
        {
          "data": {
            "text/plain": [
              "[<Dense name=dense1, built=True>,\n",
              " <Dense name=dense2, built=True>,\n",
              " <Dense name=logits, built=True>]"
            ]
          },
          "execution_count": 75,
          "metadata": {},
          "output_type": "execute_result"
        }
      ],
      "source": [
        "model_k.layers"
      ]
    },
    {
      "cell_type": "markdown",
      "metadata": {},
      "source": [
        "Each layer has a name. You can attribute one during its creation. If you don't, a standard one will be created for you:"
      ]
    },
    {
      "cell_type": "code",
      "execution_count": 76,
      "metadata": {},
      "outputs": [
        {
          "name": "stdout",
          "output_type": "stream",
          "text": [
            "dense1\n",
            "dense2\n",
            "logits\n"
          ]
        }
      ],
      "source": [
        "for layer in model_k.layers:\n",
        "    print(layer.name)"
      ]
    },
    {
      "cell_type": "markdown",
      "metadata": {},
      "source": [
        "You can access your model's layers by indexing `model.layers` or by their name (using `model.get_layer`)"
      ]
    },
    {
      "cell_type": "code",
      "execution_count": 77,
      "metadata": {},
      "outputs": [
        {
          "data": {
            "text/plain": [
              "'dense2'"
            ]
          },
          "execution_count": 77,
          "metadata": {},
          "output_type": "execute_result"
        }
      ],
      "source": [
        "hidden1 = model_k.layers[1]\n",
        "hidden1.name"
      ]
    },
    {
      "cell_type": "code",
      "execution_count": 78,
      "metadata": {},
      "outputs": [
        {
          "data": {
            "text/plain": [
              "True"
            ]
          },
          "execution_count": 78,
          "metadata": {},
          "output_type": "execute_result"
        }
      ],
      "source": [
        "model_k.get_layer(hidden1.name) is hidden1"
      ]
    },
    {
      "cell_type": "markdown",
      "metadata": {},
      "source": [
        "All the parameters of a layer can be accessed using its get_weights() and set_weights() methods. For a Dense layer, this includes both the connection weights and the bias terms:"
      ]
    },
    {
      "cell_type": "code",
      "execution_count": 79,
      "metadata": {},
      "outputs": [],
      "source": [
        "weights, biases = hidden1.get_weights()"
      ]
    },
    {
      "cell_type": "markdown",
      "metadata": {},
      "source": [
        "We can save this initial weights for later using `model.save_weights`, in case we want to reset our model to its initial state:"
      ]
    },
    {
      "cell_type": "code",
      "execution_count": 80,
      "metadata": {},
      "outputs": [],
      "source": [
        "model_k.save_weights('init.weights.h5')"
      ]
    },
    {
      "cell_type": "markdown",
      "metadata": {},
      "source": [
        "`h5` is the extension corresponding to the default keras format, HDF5. To load back the weights, just call \n",
        "```python \n",
        "model.load_weights('init.weights.h5')\n",
        "```\n"
      ]
    },
    {
      "cell_type": "markdown",
      "metadata": {},
      "source": [
        "#### TODO: Check weights and biases values and shape"
      ]
    },
    {
      "cell_type": "code",
      "execution_count": 81,
      "metadata": {},
      "outputs": [],
      "source": [
        "# TODO your code here\n"
      ]
    },
    {
      "cell_type": "markdown",
      "metadata": {},
      "source": [
        "Notice that the Dense layer initialized the connection weights randomly, and the biases were initialized to zeros, which is fine. If you ever want to use a different initialization method, you can set `kernel_initializer` (kernel is another name for the matrix of connection weights) or `bias_initializer` when creating the layer. We will discuss initializers later, but if you want the full list, see https://keras.io/initializers/."
      ]
    },
    {
      "cell_type": "markdown",
      "metadata": {},
      "source": [
        "### Loss function\n",
        "Many [loss functions](https://keras.io/keras_core/api/losses/) are implemented in keras. We have multiple variants of the cross-entropy loss (check the section [\"Probabilistc losses\"](https://keras.io/keras_core/api/losses/probabilistic_losses/) in the documentation).\n",
        "\n",
        "Here we need to choose categorical cross entropy, since our problem is multi-class.\n",
        "Additionally, we need to use the `sparse` version of the categorical cross entropy because our labels are not one-hot encoded:"
      ]
    },
    {
      "cell_type": "code",
      "execution_count": 83,
      "metadata": {},
      "outputs": [
        {
          "data": {
            "text/plain": [
              "array([5, 0, 4, 1, 9, 2, 1, 3, 1, 4], dtype=uint8)"
            ]
          },
          "execution_count": 83,
          "metadata": {},
          "output_type": "execute_result"
        }
      ],
      "source": [
        "y_train[:10]"
      ]
    },
    {
      "cell_type": "markdown",
      "metadata": {},
      "source": [
        "If they were already encoded, we would use `CategoricalCrossentropy` directly.\n",
        "\n",
        "Moreover, in keras the default is for the losses to take in probabilities. So if our model outputs logits, we must set `from_logits=True` when instantiating he loss function:"
      ]
    },
    {
      "cell_type": "code",
      "execution_count": 84,
      "metadata": {},
      "outputs": [],
      "source": [
        "loss_fn_k = keras.losses.SparseCategoricalCrossentropy(from_logits=True)"
      ]
    },
    {
      "cell_type": "markdown",
      "metadata": {},
      "source": [
        "We can also apply it to any pair of input tensors, like we did in PyTorch. **The order of the arguments is reversed**: first true labels then the predicted logits:"
      ]
    },
    {
      "cell_type": "code",
      "execution_count": 85,
      "metadata": {},
      "outputs": [
        {
          "data": {
            "text/plain": [
              "tensor(2.4662)"
            ]
          },
          "execution_count": 85,
          "metadata": {},
          "output_type": "execute_result"
        }
      ],
      "source": [
        "loss_fn_k(fake_true_labels, fake_pred_logits)"
      ]
    },
    {
      "cell_type": "markdown",
      "metadata": {},
      "source": [
        "### Optimizer\n",
        "Just like with `torch.nn`, many optimizers are implemented in [`keras.optimizers`](https://keras.io/keras_core/api/optimizers/).\n",
        "To instantiate the same optimizer as we did in PyTorch, we can do:"
      ]
    },
    {
      "cell_type": "code",
      "execution_count": 86,
      "metadata": {},
      "outputs": [],
      "source": [
        "optimizer_k = keras.optimizers.SGD(learning_rate=0.001, momentum=0.9)"
      ]
    },
    {
      "cell_type": "markdown",
      "metadata": {},
      "source": [
        "### Training\n",
        "\n",
        "This is main point where keras makes things much simpler. We do not need to mannualy write training and evaluation loops: there are built-in `fit` and `evaluate` methods ready to be used, like in `sklearn`."
      ]
    },
    {
      "cell_type": "markdown",
      "metadata": {},
      "source": [
        "#### **Attention: `compile` before you `fit`**\n",
        "\n",
        "In keras, before we start training, we need to let it know: \n",
        "- the [loss function](https://keras.io/keras_core/api/losses/) we want to optimize\n",
        "- the [optimization](https://keras.io/keras_core/api/optimizers/) method we want to use\n",
        "- any [metrics](https://keras.io/keras_core/api/metrics/) we want logged during training and evaluation [optional].\n",
        "\n",
        "This is done calling the `compile()` method on the model object:"
      ]
    },
    {
      "cell_type": "code",
      "execution_count": 87,
      "metadata": {},
      "outputs": [],
      "source": [
        "model_k.compile(\n",
        "    loss=loss_fn_k,\n",
        "    optimizer=optimizer_k,\n",
        "    metrics=[keras.metrics.SparseCategoricalAccuracy(name='accuracy')])"
      ]
    },
    {
      "cell_type": "markdown",
      "metadata": {},
      "source": [
        "If we need to change the learning rate after calling compile, we can. Just need to acess `model.optimizer.learning_rate`:"
      ]
    },
    {
      "cell_type": "code",
      "execution_count": 88,
      "metadata": {},
      "outputs": [],
      "source": [
        "model_k.optimizer.learning_rate = 0.01"
      ]
    },
    {
      "cell_type": "markdown",
      "metadata": {},
      "source": [
        "Note that it is also possible to chose loss, metrics and optimizer using string names, e.g. \n",
        "```python\n",
        "model.compile(loss=\"sparse_categorical_crossentropy\",\n",
        "              optimizer=\"sgd\",\n",
        "              metrics=[\"accuracy\"])\n",
        "```\n",
        "However, when doing so, you are instantiating them with their default parameters."
      ]
    },
    {
      "cell_type": "markdown",
      "metadata": {},
      "source": [
        "#### Calling `fit()`\n",
        "Now the model is ready to be trained. For this we simply need to call its `fit()` method.\n",
        "\n",
        "As arguments, we provide the training samples and labels. We can also set some keyword arguments adjust the training procedure. Check documentation to see how to specify the batch size, for instance.\n"
      ]
    },
    {
      "cell_type": "code",
      "execution_count": 89,
      "metadata": {},
      "outputs": [
        {
          "name": "stdout",
          "output_type": "stream",
          "text": [
            "Epoch 1/3\n",
            "\u001b[1m  28/1500\u001b[0m \u001b[37m━━━━━━━━━━━━━━━━━━━━\u001b[0m \u001b[1m8s\u001b[0m 6ms/step - accuracy: 0.2319 - loss: 2.2325"
          ]
        },
        {
          "name": "stdout",
          "output_type": "stream",
          "text": [
            "\u001b[1m1500/1500\u001b[0m \u001b[32m━━━━━━━━━━━━━━━━━━━━\u001b[0m\u001b[37m\u001b[0m \u001b[1m12s\u001b[0m 8ms/step - accuracy: 0.8301 - loss: 0.5727 - val_accuracy: 0.9473 - val_loss: 0.1817\n",
            "Epoch 2/3\n",
            "\u001b[1m1500/1500\u001b[0m \u001b[32m━━━━━━━━━━━━━━━━━━━━\u001b[0m\u001b[37m\u001b[0m \u001b[1m9s\u001b[0m 6ms/step - accuracy: 0.9571 - loss: 0.1391 - val_accuracy: 0.9644 - val_loss: 0.1178\n",
            "Epoch 3/3\n",
            "\u001b[1m1500/1500\u001b[0m \u001b[32m━━━━━━━━━━━━━━━━━━━━\u001b[0m\u001b[37m\u001b[0m \u001b[1m10s\u001b[0m 7ms/step - accuracy: 0.9707 - loss: 0.0992 - val_accuracy: 0.9668 - val_loss: 0.1089\n"
          ]
        }
      ],
      "source": [
        "out = model_k.fit(X_train, y_train, epochs=3,\n",
        "                  validation_split=0.2)"
      ]
    },
    {
      "cell_type": "markdown",
      "metadata": {},
      "source": [
        "### Plotting learning curves\n",
        "`model.fit` returns a history object that logs loss values for training and validation sets, as well as accuracy values (because we set it as a metric during the `compile` step)."
      ]
    },
    {
      "cell_type": "code",
      "execution_count": 90,
      "metadata": {},
      "outputs": [
        {
          "data": {
            "text/plain": [
              "{'verbose': 'auto', 'epochs': 3, 'steps': 1500}"
            ]
          },
          "execution_count": 90,
          "metadata": {},
          "output_type": "execute_result"
        }
      ],
      "source": [
        "out.params"
      ]
    },
    {
      "cell_type": "code",
      "execution_count": 91,
      "metadata": {},
      "outputs": [
        {
          "data": {
            "text/plain": [
              "[0, 1, 2]"
            ]
          },
          "execution_count": 91,
          "metadata": {},
          "output_type": "execute_result"
        }
      ],
      "source": [
        "out.epoch"
      ]
    },
    {
      "cell_type": "code",
      "execution_count": 92,
      "metadata": {},
      "outputs": [
        {
          "data": {
            "text/plain": [
              "dict_keys(['accuracy', 'loss', 'val_accuracy', 'val_loss'])"
            ]
          },
          "execution_count": 92,
          "metadata": {},
          "output_type": "execute_result"
        }
      ],
      "source": [
        "out.history.keys()"
      ]
    },
    {
      "cell_type": "code",
      "execution_count": 93,
      "metadata": {},
      "outputs": [],
      "source": [
        "def plot_learning_curves(out):\n",
        "    df = pd.DataFrame(out.history, index=np.array(out.epoch)+1)\n",
        "    df.plot(figsize=(8, 5), fontsize=12)\n",
        "    plt.grid(True)\n",
        "    plt.gca().set_ylim(0, 1)\n",
        "    plt.xlabel('epochs', fontsize=12)\n",
        "    plt.title ('learning curves', fontsize=12)\n",
        "    plt.legend(fontsize=12)\n",
        "    plt.show()"
      ]
    },
    {
      "cell_type": "code",
      "execution_count": 94,
      "metadata": {},
      "outputs": [
        {
          "data": {
            "image/png": "[encoded data removed]",
            "text/plain": [
              "<Figure size 800x500 with 1 Axes>"
            ]
          },
          "metadata": {},
          "output_type": "display_data"
        }
      ],
      "source": [
        "plot_learning_curves(out)"
      ]
    },
    {
      "cell_type": "markdown",
      "metadata": {},
      "source": [
        "## Evaluating and making predictions on the test set\n",
        "\n",
        "You can use the methods `model.evaluate` and `model.predict` on the test set:"
      ]
    },
    {
      "cell_type": "code",
      "execution_count": 95,
      "metadata": {},
      "outputs": [
        {
          "name": "stdout",
          "output_type": "stream",
          "text": [
            "\u001b[1m313/313\u001b[0m \u001b[32m━━━━━━━━━━━━━━━━━━━━\u001b[0m\u001b[37m\u001b[0m \u001b[1m2s\u001b[0m 5ms/step - accuracy: 0.9608 - loss: 0.1173\n"
          ]
        },
        {
          "data": {
            "text/plain": [
              "[0.10165989398956299, 0.9670000076293945]"
            ]
          },
          "execution_count": 95,
          "metadata": {},
          "output_type": "execute_result"
        }
      ],
      "source": [
        "model_k.evaluate(X_test, y_test)"
      ]
    },
    {
      "cell_type": "code",
      "execution_count": 96,
      "metadata": {},
      "outputs": [
        {
          "name": "stdout",
          "output_type": "stream",
          "text": [
            "\u001b[1m138/313\u001b[0m \u001b[32m━━━━━━━━\u001b[0m\u001b[37m━━━━━━━━━━━━\u001b[0m \u001b[1m0s\u001b[0m 3ms/step"
          ]
        },
        {
          "name": "stdout",
          "output_type": "stream",
          "text": [
            "\u001b[1m313/313\u001b[0m \u001b[32m━━━━━━━━━━━━━━━━━━━━\u001b[0m\u001b[37m\u001b[0m \u001b[1m1s\u001b[0m 3ms/step\n"
          ]
        }
      ],
      "source": [
        "logits_test = model_k.predict(X_test)"
      ]
    },
    {
      "cell_type": "markdown",
      "metadata": {},
      "source": [
        "Remember the network gives us the logits. To get probabilites, we need to apply softmax to the logits:"
      ]
    },
    {
      "cell_type": "code",
      "execution_count": 97,
      "metadata": {},
      "outputs": [
        {
          "data": {
            "text/plain": [
              "array([[6.0465773e-08, 1.4979694e-08, 2.4720328e-05, ..., 9.9974328e-01,\n",
              "        5.8710748e-07, 5.8945511e-06],\n",
              "       [2.9837352e-07, 2.6712037e-04, 9.9913895e-01, ..., 1.1086597e-06,\n",
              "        2.2576005e-05, 3.1850897e-11],\n",
              "       [2.7249407e-06, 9.8853135e-01, 2.2589606e-03, ..., 6.4986073e-03,\n",
              "        1.9454348e-03, 8.8614952e-06],\n",
              "       ...,\n",
              "       [4.5135735e-11, 1.0411751e-10, 4.1748587e-11, ..., 1.7396631e-07,\n",
              "        2.8468205e-06, 1.0920153e-05],\n",
              "       [8.9152655e-07, 7.7643065e-08, 5.6184084e-09, ..., 2.1978524e-08,\n",
              "        2.9923167e-04, 4.5705830e-09],\n",
              "       [6.3655335e-08, 2.0048834e-09, 1.2800144e-06, ..., 4.0876982e-10,\n",
              "        4.0246721e-07, 3.0082958e-10]], dtype=float32)"
            ]
          },
          "execution_count": 97,
          "metadata": {},
          "output_type": "execute_result"
        }
      ],
      "source": [
        "pred_proba_test = keras.activations.softmax(logits_test).numpy()\n",
        "pred_proba_test"
      ]
    },
    {
      "cell_type": "markdown",
      "metadata": {},
      "source": [
        "Let's see the predictions for the first 3 images:"
      ]
    },
    {
      "cell_type": "code",
      "execution_count": 98,
      "metadata": {},
      "outputs": [
        {
          "data": {
            "text/plain": [
              "array([[0.  , 0.  , 0.  , 0.  , 0.  , 0.  , 0.  , 1.  , 0.  , 0.  ],\n",
              "       [0.  , 0.  , 1.  , 0.  , 0.  , 0.  , 0.  , 0.  , 0.  , 0.  ],\n",
              "       [0.  , 0.99, 0.  , 0.  , 0.  , 0.  , 0.  , 0.01, 0.  , 0.  ]],\n",
              "      dtype=float32)"
            ]
          },
          "execution_count": 98,
          "metadata": {},
          "output_type": "execute_result"
        }
      ],
      "source": [
        "pred_proba_test.round(2)[:3,:]"
      ]
    },
    {
      "cell_type": "markdown",
      "metadata": {},
      "source": [
        "To get the predicted class id, we need to apply `argmax` (to either the logits or the porbabilites, we'll get the same results anyway):"
      ]
    },
    {
      "cell_type": "code",
      "execution_count": 99,
      "metadata": {},
      "outputs": [
        {
          "data": {
            "text/plain": [
              "array([7, 2, 1], dtype=int64)"
            ]
          },
          "execution_count": 99,
          "metadata": {},
          "output_type": "execute_result"
        }
      ],
      "source": [
        "y_pred_test = np.argmax(pred_proba_test, axis=-1)\n",
        "y_pred_test[:3]"
      ]
    }
  ],
  "metadata": {
    "kernelspec": {
      "display_name": "ml-latest",
      "language": "python",
      "name": "python3"
    },
    "language_info": {
      "codemirror_mode": {
        "name": "ipython",
        "version": 3
      },
      "file_extension": ".py",
      "mimetype": "text/x-python",
      "name": "python",
      "nbconvert_exporter": "python",
      "pygments_lexer": "ipython3",
      "version": "3.10.11"
    }
  },
  "nbformat": 4,
  "nbformat_minor": 2
}
