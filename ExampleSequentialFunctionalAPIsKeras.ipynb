{
 "cells": [
  {
   "cell_type": "code",
   "execution_count": 2,
   "metadata": {},
   "outputs": [],
   "source": [
    "from tensorflow import keras\n",
    "from keras.layers import Dense, Input, Concatenate"
   ]
  },
  {
   "cell_type": "code",
   "execution_count": 3,
   "metadata": {},
   "outputs": [],
   "source": [
    "(X_train_full, y_train_full), (X_test, y_test) = keras.datasets.mnist.load_data()\n",
    "X_train_full = X_train_full.reshape([-1, 28*28])\n",
    "X_test = X_test.reshape([-1, 28*28])\n",
    "X_val, X_train = X_train_full[:5000] / 255., X_train_full[5000:] / 255.\n",
    "y_val, y_train = y_train_full[:5000], y_train_full[5000:]\n",
    "X_test = X_test / 255."
   ]
  },
  {
   "cell_type": "code",
   "execution_count": 4,
   "metadata": {},
   "outputs": [],
   "source": [
    "model = keras.Sequential([ \n",
    "    Dense(128, activation='sigmoid', \n",
    "          input_shape=(784,)), \n",
    "    Dense(64, activation='sigmoid'),\n",
    "    Dense(10)]) "
   ]
  },
  {
   "cell_type": "code",
   "execution_count": 5,
   "metadata": {},
   "outputs": [
    {
     "name": "stdout",
     "output_type": "stream",
     "text": [
      "You must install pydot (`pip install pydot`) and install graphviz (see instructions at https://graphviz.gitlab.io/download/) for plot_model to work.\n"
     ]
    }
   ],
   "source": [
    "keras.utils.plot_model(model)"
   ]
  },
  {
   "cell_type": "code",
   "execution_count": null,
   "metadata": {},
   "outputs": [],
   "source": [
    "model.compile(optimizer='SGD', \n",
    "    loss=\"sparse_categorical_crossentropy\", \n",
    "    metrics=['accuracy']) \n",
    "model.fit(X_train, y_train, epochs=1)\n",
    "model.predict(X_val)"
   ]
  },
  {
   "cell_type": "code",
   "execution_count": null,
   "metadata": {},
   "outputs": [],
   "source": [
    "hidden_layer1A = Dense(64, activation=\"sigmoid\")\n",
    "hidden_layer1B = Dense(64, activation=\"tanh\")\n",
    "hidden_layer2 = Dense(64, activation=\"relu\")\n",
    "output_layer = Dense(10)\n",
    "\n",
    "input_ = Input(shape=X_train.shape[1:])\n",
    "activation1A = hidden_layer1A(input_)\n",
    "activation1B = hidden_layer1B(input_)\n",
    "activation1 = Concatenate([activation1A, activation1B])\n",
    "activation2 = hidden_layer2(activation1)\n",
    "output = output_layer(activation2)\n",
    "\n",
    "model = keras.Model(inputs=[input_], outputs=[output])"
   ]
  },
  {
   "cell_type": "code",
   "execution_count": null,
   "metadata": {},
   "outputs": [],
   "source": [
    "keras.utils.plot_model(model)"
   ]
  },
  {
   "cell_type": "code",
   "execution_count": null,
   "metadata": {},
   "outputs": [],
   "source": [
    "model.compile(optimizer='SGD', \n",
    "    loss=\"sparse_categorical_crossentropy\", \n",
    "    metrics=['accuracy']) \n",
    "model.fit(X_train, y_train, epochs=1)\n",
    "model.predict(X_val) "
   ]
  }
 ],
 "metadata": {
  "interpreter": {
   "hash": "b8c6d7f959076f5cb7ba25c884014f43df6d6dfdae085616d6130a42e9e7bfeb"
  },
  "kernelspec": {
   "display_name": "Python 3.9.12 ('ml-latest')",
   "language": "python",
   "name": "python3"
  },
  "language_info": {
   "codemirror_mode": {
    "name": "ipython",
    "version": 3
   },
   "file_extension": ".py",
   "mimetype": "text/x-python",
   "name": "python",
   "nbconvert_exporter": "python",
   "pygments_lexer": "ipython3",
   "version": "3.9.12"
  },
  "orig_nbformat": 4
 },
 "nbformat": 4,
 "nbformat_minor": 2
}
